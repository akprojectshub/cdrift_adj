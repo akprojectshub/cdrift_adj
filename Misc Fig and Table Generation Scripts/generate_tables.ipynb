{
 "cells": [
  {
   "cell_type": "code",
   "execution_count": 20,
   "metadata": {},
   "outputs": [
    {
     "data": {
      "text/plain": [
       "<module 'csvtolatex' from 'c:\\\\Users\\\\Cam\\\\Desktop\\\\Bachelorarbeit\\\\csvtolatex.py'>"
      ]
     },
     "execution_count": 20,
     "metadata": {},
     "output_type": "execute_result"
    }
   ],
   "source": [
    "import csvtolatex as c2l\n",
    "\n",
    "import os\n",
    "if os.getcwd().endswith(\"Misc Fig and Table Generation Scripts\"):\n",
    "    os.chdir('../')\n",
    "\n",
    "from cdrift.utils import helpers"
   ]
  },
  {
   "cell_type": "code",
   "execution_count": 21,
   "metadata": {},
   "outputs": [],
   "source": [
    "from pathlib import Path\n",
    "def loadDataframes(baseDir):\n",
    "    bose_dir = Path(baseDir,\"Bose/evaluation_results.csv\")\n",
    "    b = helpers.readCSV_Lists(bose_dir)\n",
    "    b[\"Algorithm/Options\"] = b[\"Algorithm/Options\"].apply(\n",
    "        lambda x: \n",
    "        \"Bose J\" if x == \"Bose Average J\" \n",
    "        else \"Bose WC\" if x == \"Bose Average WC\" \n",
    "        else \"Bose ???\"\n",
    "    )\n",
    "\n",
    "    b_j = b[b[\"Algorithm/Options\"] == \"Bose J\"]\n",
    "    b_wc = b[b[\"Algorithm/Options\"] == \"Bose WC\"]\n",
    "\n",
    "    martjushev_dir = Path(baseDir,\"Martjushev/evaluation_results.csv\")\n",
    "    m = helpers.readCSV_Lists(martjushev_dir)\n",
    "    m[\"Algorithm/Options\"] = m[\"Algorithm/Options\"].apply(\n",
    "        lambda x: \n",
    "        \"Martjushev J\" if x == \"Martjushev Recursive Bisection; Average J; p=0.55\"\n",
    "        else \"Martjushev WC\" if x == \"Martjushev Recursive Bisection; Average WC; p=0.55\" \n",
    "        else \"Martjushev ???\"\n",
    "    )\n",
    "    m_j = m[m[\"Algorithm/Options\"] == \"Martjushev J\"]\n",
    "    m_wc = m[m[\"Algorithm/Options\"] == \"Martjushev WC\"]\n",
    "\n",
    "    em_dir = Path(baseDir,\"Earthmover/evaluation_results.csv\")\n",
    "    em = helpers.readCSV_Lists(em_dir)\n",
    "\n",
    "    prodrift_dir = Path(baseDir, \"Maaradji/evaluation_results.csv\")\n",
    "    prodrift = helpers.readCSV_Lists(prodrift_dir)\n",
    "    prodrift[\"Algorithm/Options\"] = prodrift[\"Algorithm/Options\"].apply(lambda x: \"ProDrift\")\n",
    "\n",
    "    pgraph_dir = Path(baseDir, \"ProcessGraph/evaluation_results.csv\")\n",
    "    pgraphs = helpers.readCSV_Lists(pgraph_dir)\n",
    "    pgraphs[\"Algorithm/Options\"] = pgraphs[\"Algorithm/Options\"].apply(lambda x: \"Process Graphs\")\n",
    "\n",
    "    zheng_dir = Path(baseDir, \"Zheng/evaluation_results.csv\")\n",
    "    zheng = helpers.readCSV_Lists(zheng_dir)\n",
    "    zheng[\"Algorithm/Options\"] = zheng[\"Algorithm/Options\"].apply(lambda x: \"Zheng\")\n",
    "\n",
    "    dataframes = [b_j, b_wc, m_j, m_wc, prodrift, em, pgraphs]#, zheng]\n",
    "    return dataframes"
   ]
  },
  {
   "cell_type": "code",
   "execution_count": 26,
   "metadata": {},
   "outputs": [],
   "source": [
    "noiseless = loadDataframes(\"testAll\")\n",
    "for df in noiseless:\n",
    "    name = df.iloc[-1][\"Algorithm/Options\"]\n",
    "    c2l.makeTexFromFrame(df, f\"eval_tables/noiseless/{name}.tex\")"
   ]
  },
  {
   "cell_type": "code",
   "execution_count": 28,
   "metadata": {},
   "outputs": [],
   "source": [
    "noisy = loadDataframes(\"testAll_Noisy\")\n",
    "for df in noisy:\n",
    "    name = df.iloc[-1][\"Algorithm/Options\"]\n",
    "    c2l.makeTexFromFrame(df, f\"eval_tables/noisy/{name}.tex\")"
   ]
  }
 ],
 "metadata": {
  "kernelspec": {
   "display_name": "Python 3.7.9 64-bit (windows store)",
   "language": "python",
   "name": "python3"
  },
  "language_info": {
   "codemirror_mode": {
    "name": "ipython",
    "version": 3
   },
   "file_extension": ".py",
   "mimetype": "text/x-python",
   "name": "python",
   "nbconvert_exporter": "python",
   "pygments_lexer": "ipython3",
   "version": "3.7.9"
  },
  "orig_nbformat": 4,
  "vscode": {
   "interpreter": {
    "hash": "c9d22296a0310393a85fd61d634ec0339a900f8eb8e835bf8a5af7a7936f1c00"
   }
  }
 },
 "nbformat": 4,
 "nbformat_minor": 2
}
