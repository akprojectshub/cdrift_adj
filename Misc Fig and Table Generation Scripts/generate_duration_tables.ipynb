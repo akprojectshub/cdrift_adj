{
 "cells": [
  {
   "cell_type": "code",
   "execution_count": 1,
   "metadata": {},
   "outputs": [
    {
     "data": {
      "text/plain": [
       "<module 'csvtolatex' from 'c:\\\\Users\\\\Cam\\\\Desktop\\\\CDrift_Evaluation - Copy\\\\Misc Fig and Table Generation Scripts\\\\csvtolatex.py'>"
      ]
     },
     "execution_count": 1,
     "metadata": {},
     "output_type": "execute_result"
    }
   ],
   "source": [
    "import csvtolatex as c2l\n",
    "import os\n",
    "os.chdir('../')\n",
    "\n",
    "from cdrift import evaluation, helpers\n",
    "import pandas as pd\n",
    "import matplotlib.pyplot as plt\n",
    "from typing import List\n",
    "import numpy as np\n",
    "from datetime import timedelta\n",
    "from importlib import reload\n",
    "reload(c2l)"
   ]
  },
  {
   "cell_type": "code",
   "execution_count": 13,
   "metadata": {},
   "outputs": [],
   "source": [
    "from pathlib import Path\n",
    "def loadDataframes(baseDir):\n",
    "    # bose_dir = \"testAll/Bose/evaluation_results.csv\"\n",
    "    bose_dir = Path(baseDir,\"Bose/evaluation_results.csv\")\n",
    "    b = pd.read_csv(bose_dir)\n",
    "    b[\"Algorithm/Options\"] = b[\"Algorithm/Options\"].apply(\n",
    "        lambda x: \n",
    "        \"Bose J\" if x == \"Bose Average J\" \n",
    "        else \"Bose WC\" if x == \"Bose Average WC\" \n",
    "        else \"Bose ???\"\n",
    "    )\n",
    "\n",
    "    b_j = b[b[\"Algorithm/Options\"] == \"Bose J\"]\n",
    "    b_wc = b[b[\"Algorithm/Options\"] == \"Bose WC\"]\n",
    "\n",
    "    martjushev_dir = Path(baseDir,\"Martjushev/evaluation_results.csv\")\n",
    "    m = pd.read_csv(martjushev_dir)\n",
    "    m[\"Algorithm/Options\"] = m[\"Algorithm/Options\"].apply(\n",
    "        lambda x: \n",
    "        \"Martjushev J\" if x == \"Martjushev Recursive Bisection; Average J; p=0.55\"\n",
    "        else \"Martjushev WC\" if x == \"Martjushev Recursive Bisection; Average WC; p=0.55\" \n",
    "        else \"Martjushev ???\"\n",
    "    )\n",
    "    m_j = m[m[\"Algorithm/Options\"] == \"Martjushev J\"]\n",
    "    m_wc = m[m[\"Algorithm/Options\"] == \"Martjushev WC\"]\n",
    "\n",
    "    em_dir = Path(baseDir,\"Earthmover/evaluation_results.csv\")\n",
    "    em = pd.read_csv(em_dir)\n",
    "\n",
    "    prodrift_dir = Path(baseDir, \"Maaradji/evaluation_results.csv\")\n",
    "    prodrift = pd.read_csv(prodrift_dir)\n",
    "    prodrift[\"Algorithm/Options\"] = prodrift[\"Algorithm/Options\"].apply(lambda x: \"ProDrift\")\n",
    "\n",
    "    pgraph_dir = Path(baseDir, \"ProcessGraph/evaluation_results.csv\")\n",
    "    pgraphs = pd.read_csv(pgraph_dir)\n",
    "    pgraphs[\"Algorithm/Options\"] = pgraphs[\"Algorithm/Options\"].apply(lambda x: \"Process Graphs\")\n",
    "\n",
    "    zheng_dir = Path(baseDir, \"Zheng/evaluation_results.csv\")\n",
    "    zheng = pd.read_csv(zheng_dir)\n",
    "    zheng[\"Algorithm/Options\"] = zheng[\"Algorithm/Options\"].apply(lambda x: \"Zheng\")\n",
    "\n",
    "    dataframes = [b_j, b_wc, m_j, m_wc, prodrift, em, pgraphs]#, zheng]\n",
    "    return dataframes"
   ]
  },
  {
   "cell_type": "code",
   "execution_count": 14,
   "metadata": {},
   "outputs": [],
   "source": [
    "noiseless = loadDataframes(\"testAll\")\n",
    "for df in noiseless:\n",
    "    name = df.iloc[-1][\"Algorithm/Options\"]\n",
    "    c2l.makeDurationTexFromFrame(df, f\"duration_tables/noiseless/{name}.tex\")"
   ]
  },
  {
   "cell_type": "code",
   "execution_count": 15,
   "metadata": {},
   "outputs": [],
   "source": [
    "noisy = loadDataframes(\"testAll_Noisy\")\n",
    "for df in noisy:\n",
    "    name = df.iloc[-1][\"Algorithm/Options\"]\n",
    "    c2l.makeDurationTexFromFrame(df, f\"duration_tables/noisy/{name}.tex\")"
   ]
  },
  {
   "cell_type": "code",
   "execution_count": null,
   "metadata": {},
   "outputs": [],
   "source": [
    "def makeZhengTable(baseDir):\n",
    "    zheng_dir = Path(baseDir, \"Zheng/evaluation_results.csv\")\n",
    "    zheng = pd.read_csv(zheng_dir)\n",
    "    zheng[\"Algorithm/Options\"] = zheng[\"Algorithm/Options\"].apply(lambda x: \"Zheng\")"
   ]
  }
 ],
 "metadata": {
  "kernelspec": {
   "display_name": "Python 3.7.9 64-bit (windows store)",
   "language": "python",
   "name": "python3"
  },
  "language_info": {
   "codemirror_mode": {
    "name": "ipython",
    "version": 3
   },
   "file_extension": ".py",
   "mimetype": "text/x-python",
   "name": "python",
   "nbconvert_exporter": "python",
   "pygments_lexer": "ipython3",
   "version": "3.7.9"
  },
  "orig_nbformat": 4,
  "vscode": {
   "interpreter": {
    "hash": "c9d22296a0310393a85fd61d634ec0339a900f8eb8e835bf8a5af7a7936f1c00"
   }
  }
 },
 "nbformat": 4,
 "nbformat_minor": 2
}
