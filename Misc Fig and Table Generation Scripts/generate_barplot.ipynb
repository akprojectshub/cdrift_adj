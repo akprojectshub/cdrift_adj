{
 "cells": [
  {
   "cell_type": "code",
   "execution_count": 2,
   "metadata": {},
   "outputs": [],
   "source": [
    "import os\n",
    "os.chdir('../')\n",
    "\n",
    "from cdrift.utils import helpers\n",
    "\n",
    "import pandas as pd\n",
    "import matplotlib.pyplot as plt\n",
    "from datetime import timedelta"
   ]
  },
  {
   "cell_type": "code",
   "execution_count": 2,
   "metadata": {},
   "outputs": [],
   "source": [
    "\n",
    "# Get all csv's (and split where necessary) #\n",
    "\n",
    "b = helpers.readCSV_Lists(\"testAll/Bose/evaluation_results.csv\")\n",
    "b[\"Algorithm/Options\"] = b[\"Algorithm/Options\"].apply(\n",
    "    lambda x: \n",
    "    \"Bose J\" if x == \"Bose Average J\" \n",
    "    else \"Bose WC\" if x == \"Bose Average WC\" \n",
    "    else \"Bose ???\"\n",
    ")\n",
    "\n",
    "b_j = b[b[\"Algorithm/Options\"] == \"Bose J\"]\n",
    "b_wc = b[b[\"Algorithm/Options\"] == \"Bose WC\"]\n",
    "\n",
    "m = pd.read_csv(\"testAll/Martjushev/evaluation_results.csv\", converters={\"Duration\":lambda x: timedelta(seconds=float(x))})\n",
    "m[\"Algorithm/Options\"] = m[\"Algorithm/Options\"].apply(\n",
    "    lambda x: \n",
    "    \"Martjushev J\" if x == \"Martjushev Recursive Bisection; Average J; p=0.65\"\n",
    "     else \"Martjushev WC\" if x == \"Martjushev Recursive Bisection; Average WC; p=0.65\" \n",
    "     else \"Martjushev ???\"\n",
    ")\n",
    "m_j = m[m[\"Algorithm/Options\"] == \"Martjushev J\"]\n",
    "m_wc = m[m[\"Algorithm/Options\"] == \"Martjushev WC\"]\n",
    "\n",
    "em = helpers.readCSV_Lists(\"testAll/Earthmover/evaluation_results.csv\")\n",
    "\n",
    "prodrift = helpers.readCSV_Lists(\"testAll/Maaradji/evaluation_results.csv\")\n",
    "prodrift[\"Algorithm/Options\"] = prodrift[\"Algorithm/Options\"].apply(lambda x: \"ProDrift\")\n",
    "\n",
    "pgraphs = helpers.readCSV_Lists(\"testAll/ProcessGraph/evaluation_results.csv\")\n",
    "pgraphs[\"Algorithm/Options\"] = pgraphs[\"Algorithm/Options\"].apply(lambda x: \"Process Graphs\")\n",
    "\n",
    "zheng = helpers.readCSV_Lists(\"testAll/Zheng/evaluation_results.csv\")\n",
    "zheng[\"Algorithm/Options\"] = zheng[\"Algorithm/Options\"].apply(lambda x: \"Zheng\")\n",
    "\n",
    "dataframes = [b_j, b_wc, m_j, m_wc, prodrift, em, pgraphs, zheng]"
   ]
  },
  {
   "cell_type": "code",
   "execution_count": 16,
   "metadata": {},
   "outputs": [
    {
     "name": "stderr",
     "output_type": "stream",
     "text": [
      "C:\\Users\\Cam\\AppData\\Local\\Packages\\PythonSoftwareFoundation.Python.3.7_qbz5n2kfra8p0\\LocalCache\\local-packages\\Python37\\site-packages\\ipykernel_launcher.py:26: UserWarning: Matplotlib is currently using agg, which is a non-GUI backend, so cannot show the figure.\n"
     ]
    },
    {
     "data": {
      "image/png": "[encoded data removed]",
      "text/plain": [
       "<Figure size 432x288 with 1 Axes>"
      ]
     },
     "metadata": {
      "needs_background": "light"
     },
     "output_type": "display_data"
    }
   ],
   "source": [
    "import seaborn as sns\n",
    "HANDLE_NAN_AS = 0 # NaN F1s are handled as 0\n",
    "# lognames = dataframes[0][\"Log\"].unique()\n",
    "# lognamesset = set()\n",
    "# for df in dataframes:\n",
    "#     lognamesset.update(df[\"Log\"].unique())\n",
    "\n",
    "\n",
    "data = pd.DataFrame(columns=['Change Pattern', 'Approach', 'Best F1'])\n",
    "\n",
    "for df in dataframes:\n",
    "    for logname, group in df.groupby(\"Log\"):\n",
    "        actualName = logname.split(\"_\")[-1]\n",
    "        if actualName == \"log\":\n",
    "            actualName = \"Noiseless\"\n",
    "        for approach, g2 in group.groupby(\"Algorithm/Options\"):\n",
    "            bestf1 = g2[\"F1-Score\"].fillna(HANDLE_NAN_AS,inplace=False).max()\n",
    "            data = data.append({\n",
    "                'Change Pattern': actualName,\n",
    "                'Approach': approach,\n",
    "                'Best F1': bestf1\n",
    "            }, ignore_index=True)\n",
    "# data\n",
    "\n",
    "sns.barplot(x=\"Change Pattern\", y=\"Best F1\", hue=\"Approach\", data=data)\n",
    "plt.show()"
   ]
  }
 ],
 "metadata": {
  "kernelspec": {
   "display_name": "Python 3.7.9 64-bit (windows store)",
   "language": "python",
   "name": "python3"
  },
  "language_info": {
   "codemirror_mode": {
    "name": "ipython",
    "version": 3
   },
   "file_extension": ".py",
   "mimetype": "text/x-python",
   "name": "python",
   "nbconvert_exporter": "python",
   "pygments_lexer": "ipython3",
   "version": "3.7.9"
  },
  "orig_nbformat": 4,
  "vscode": {
   "interpreter": {
    "hash": "c9d22296a0310393a85fd61d634ec0339a900f8eb8e835bf8a5af7a7936f1c00"
   }
  }
 },
 "nbformat": 4,
 "nbformat_minor": 2
}
