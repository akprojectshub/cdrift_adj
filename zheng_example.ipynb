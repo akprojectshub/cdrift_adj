{
 "cells": [
  {
   "cell_type": "code",
   "execution_count": 1,
   "metadata": {},
   "outputs": [],
   "source": [
    "import zheng\n",
    "from pm4py.objects.log.importer.xes import importer as xes_importer\n",
    "import tkinter as tk\n",
    "from tkinter import filedialog\n",
    "import evaluation\n",
    "from pathlib import Path"
   ]
  },
  {
   "cell_type": "markdown",
   "metadata": {},
   "source": [
    "## Choose an Event Log ##"
   ]
  },
  {
   "cell_type": "code",
   "execution_count": 2,
   "metadata": {},
   "outputs": [
    {
     "name": "stdout",
     "output_type": "stream",
     "text": [
      "Chosen Log: Atomic_Size2_ConditionalRemoval\n"
     ]
    },
    {
     "data": {
      "application/vnd.jupyter.widget-view+json": {
       "model_id": "9a7de3981a5f44038bdcd58dd5c697b8",
       "version_major": 2,
       "version_minor": 0
      },
      "text/plain": [
       "parsing log, completed traces ::   0%|          | 0/2999 [00:00<?, ?it/s]"
      ]
     },
     "metadata": {},
     "output_type": "display_data"
    }
   ],
   "source": [
    "root = tk.Tk()\n",
    "root.withdraw()\n",
    "root.lift()\n",
    "\n",
    "file_path = filedialog.askopenfilename(filetypes=[(\"XES Event Log\",\"*.xes\")])\n",
    "print(f\"Chosen Log: {Path(file_path).stem}\")\n",
    "log = xes_importer.apply(file_path)"
   ]
  },
  {
   "cell_type": "markdown",
   "metadata": {},
   "source": [
    "### Parameters / Constants ###"
   ]
  },
  {
   "cell_type": "code",
   "execution_count": 3,
   "metadata": {},
   "outputs": [],
   "source": [
    "MRID = 500\n",
    "EPSILON = 100\n",
    "TRUE_CHANGEPOINTS = [999,1999]"
   ]
  },
  {
   "cell_type": "markdown",
   "metadata": {},
   "source": [
    "#### Extract Time Series and Apply Sliding Window ####"
   ]
  },
  {
   "cell_type": "code",
   "execution_count": 4,
   "metadata": {},
   "outputs": [
    {
     "data": {
      "application/vnd.jupyter.widget-view+json": {
       "model_id": "c73b09900524402397bfe378502976a9",
       "version_major": 2,
       "version_minor": 0
      },
      "text/plain": [
       "Extracting Relation Matrix for (Zheng) ::   0%|          | 0/2999 [00:00<?, ?it/s]"
      ]
     },
     "metadata": {},
     "output_type": "display_data"
    },
    {
     "name": "stdout",
     "output_type": "stream",
     "text": [
      "Change Points Detected: [936, 1946].\n"
     ]
    }
   ],
   "source": [
    "cp = zheng.apply(log,MRID, EPSILON)\n",
    "# Round Change Points #\n",
    "cp = [round(x) for x in cp]\n",
    "print(f\"Change Points Detected: {cp}.\")"
   ]
  },
  {
   "cell_type": "markdown",
   "metadata": {},
   "source": [
    "### Evaluation ###"
   ]
  },
  {
   "cell_type": "code",
   "execution_count": 5,
   "metadata": {},
   "outputs": [
    {
     "name": "stdout",
     "output_type": "stream",
     "text": [
      "Zheng detected [936, 1946] with an F1-Score of 1.0.\n"
     ]
    }
   ],
   "source": [
    "f1 = evaluation.F1_Score(lag=200, detected=cp, known=[999,1999])\n",
    "\n",
    "print(f\"Zheng detected {cp} with an F1-Score of {f1}.\")"
   ]
  }
 ],
 "metadata": {
  "interpreter": {
   "hash": "18278aa10cd1931f87eee72817cbc1f29e2ae9d11ba62374cf0b459b2a28e93c"
  },
  "kernelspec": {
   "display_name": "Python 3.7.9 64-bit (windows store)",
   "language": "python",
   "name": "python3"
  },
  "language_info": {
   "codemirror_mode": {
    "name": "ipython",
    "version": 3
   },
   "file_extension": ".py",
   "mimetype": "text/x-python",
   "name": "python",
   "nbconvert_exporter": "python",
   "pygments_lexer": "ipython3",
   "version": "3.7.9"
  },
  "orig_nbformat": 4
 },
 "nbformat": 4,
 "nbformat_minor": 2
}
