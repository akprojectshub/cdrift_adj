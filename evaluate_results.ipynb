{
 "cells": [
  {
   "cell_type": "code",
   "execution_count": 1,
   "metadata": {},
   "outputs": [],
   "source": [
    "import matplotlib.pyplot as plt\n",
    "import pandas as pd\n",
    "from cdrift import evaluation\n",
    "from cdrift.utils.helpers import readCSV_Lists, convertToTimedelta\n",
    "import numpy as np\n",
    "from datetime import datetime\n",
    "from statistics import mean, harmonic_mean, stdev\n",
    "from typing import List\n",
    "import seaborn as sns\n",
    "\n",
    "LAG_WINDOW = 200"
   ]
  },
  {
   "cell_type": "markdown",
   "metadata": {},
   "source": [
    "### Read the CSV and split by approach"
   ]
  },
  {
   "cell_type": "code",
   "execution_count": 2,
   "metadata": {},
   "outputs": [],
   "source": [
    "df = readCSV_Lists(\"evaluation_results.csv\")"
   ]
  },
  {
   "cell_type": "markdown",
   "metadata": {},
   "source": [
    "##### Minor Preprocessing"
   ]
  },
  {
   "cell_type": "code",
   "execution_count": 3,
   "metadata": {},
   "outputs": [],
   "source": [
    "# Rename Maaradji Runs to ProDrift\n",
    "df[\"Algorithm\"] = df[\"Algorithm\"].replace(\"Maaradji Runs\", \"ProDrift\")\n",
    "df[\"Algorithm\"].unique()\n",
    "\n",
    "# Fill in the missing SW Step Size in Maaradji with 2\n",
    "df.loc[df[\"Algorithm\"] == \"ProDrift\", \"SW Step Size\"] = 2"
   ]
  },
  {
   "cell_type": "code",
   "execution_count": 4,
   "metadata": {},
   "outputs": [
    {
     "data": {
      "text/plain": [
       "array(['bose_log'], dtype=object)"
      ]
     },
     "execution_count": 4,
     "metadata": {},
     "output_type": "execute_result"
    }
   ],
   "source": [
    "df[df[\"Log Source\"] == \"Bose\"][\"Log\"].unique()"
   ]
  },
  {
   "cell_type": "markdown",
   "metadata": {},
   "source": [
    "##### Only use Atomic Logs"
   ]
  },
  {
   "cell_type": "code",
   "execution_count": 5,
   "metadata": {},
   "outputs": [],
   "source": [
    "atomic_logs = {\n",
    "    log\n",
    "    for log in df[\"Log\"].unique()\n",
    "    if log.lower().startswith(\"atomic\")\n",
    "    or set(log.lower().split(\"_\")[-1]) != {'i','o', 'r'}\n",
    "    or log.lower().startswith(\"bose\")\n",
    "}\n",
    "\n",
    "df = df[df[\"Log\"].isin(atomic_logs)]\n",
    "# df = df[(df[\"Log Source\"] != \"Ostovar\") | (df[\"Log\"].str.startswith(\"Atomic\"))]\n",
    "# df = df[(df[\"Log Source\"] != \"Ceravolo\") | (df[\"Log\"].isin(ceravolo_atomic_logs))]"
   ]
  },
  {
   "cell_type": "code",
   "execution_count": 6,
   "metadata": {},
   "outputs": [
    {
     "name": "stdout",
     "output_type": "stream",
     "text": [
      "Process Graph Metrics contains duplicate rows: True\n",
      "Martjushev ADWIN J contains duplicate rows: True\n",
      "Martjushev ADWIN WC contains duplicate rows: True\n",
      "Zheng DBSCAN contains duplicate rows: False\n",
      "Maaradji Runs contains duplicate rows: False\n",
      "Bose J contains duplicate rows: False\n",
      "Bose WC contains duplicate rows: False\n",
      "Earth Mover's Distance contains duplicate rows: False\n"
     ]
    }
   ],
   "source": [
    "def split_by_name(df):\n",
    "    return [\n",
    "        (alg, df[df[\"Algorithm\"] == alg])\n",
    "        for alg in df[\"Algorithm\"].unique()\n",
    "    ]\n",
    "\n",
    "dfs = split_by_name(df)\n",
    "df.Algorithm.unique()\n",
    "\n",
    "for name, d in split_by_name(pd.read_csv(\"evaluation_results.csv\")):\n",
    "    print(f\"{name} contains duplicate rows: {d.duplicated().any()}\")"
   ]
  },
  {
   "cell_type": "code",
   "execution_count": 7,
   "metadata": {},
   "outputs": [
    {
     "data": {
      "text/html": [
       "<div>\n",
       "<style scoped>\n",
       "    .dataframe tbody tr th:only-of-type {\n",
       "        vertical-align: middle;\n",
       "    }\n",
       "\n",
       "    .dataframe tbody tr th {\n",
       "        vertical-align: top;\n",
       "    }\n",
       "\n",
       "    .dataframe thead th {\n",
       "        text-align: right;\n",
       "    }\n",
       "</style>\n",
       "<table border=\"1\" class=\"dataframe\">\n",
       "  <thead>\n",
       "    <tr style=\"text-align: right;\">\n",
       "      <th></th>\n",
       "      <th>Algorithm</th>\n",
       "      <th>Log Source</th>\n",
       "      <th>Log</th>\n",
       "      <th>Min Adaptive Window</th>\n",
       "      <th>Max Adaptive Window</th>\n",
       "      <th>Detected Changepoints</th>\n",
       "      <th>Actual Changepoints for Log</th>\n",
       "      <th>F1-Score</th>\n",
       "      <th>Average Lag</th>\n",
       "      <th>Duration</th>\n",
       "      <th>P-Value</th>\n",
       "      <th>MRID</th>\n",
       "      <th>Epsilon</th>\n",
       "      <th>Window Size</th>\n",
       "      <th>SW Step Size</th>\n",
       "    </tr>\n",
       "  </thead>\n",
       "  <tbody>\n",
       "    <tr>\n",
       "      <th>15667</th>\n",
       "      <td>Martjushev ADWIN J</td>\n",
       "      <td>Ostovar</td>\n",
       "      <td>Atomic_ConditionalRemoval_output_ConditionalRe...</td>\n",
       "      <td>400.0</td>\n",
       "      <td>400.0</td>\n",
       "      <td>[]</td>\n",
       "      <td>[999, 1999]</td>\n",
       "      <td>NaN</td>\n",
       "      <td>NaN</td>\n",
       "      <td>00:06:51</td>\n",
       "      <td>0.4</td>\n",
       "      <td>NaN</td>\n",
       "      <td>NaN</td>\n",
       "      <td>NaN</td>\n",
       "      <td>NaN</td>\n",
       "    </tr>\n",
       "    <tr>\n",
       "      <th>18401</th>\n",
       "      <td>Martjushev ADWIN J</td>\n",
       "      <td>Ostovar</td>\n",
       "      <td>Atomic_ConditionalRemoval_output_ConditionalRe...</td>\n",
       "      <td>400.0</td>\n",
       "      <td>400.0</td>\n",
       "      <td>[]</td>\n",
       "      <td>[999, 1999]</td>\n",
       "      <td>NaN</td>\n",
       "      <td>NaN</td>\n",
       "      <td>00:06:51</td>\n",
       "      <td>0.4</td>\n",
       "      <td>NaN</td>\n",
       "      <td>NaN</td>\n",
       "      <td>NaN</td>\n",
       "      <td>NaN</td>\n",
       "    </tr>\n",
       "    <tr>\n",
       "      <th>1313</th>\n",
       "      <td>Martjushev ADWIN J</td>\n",
       "      <td>Ostovar</td>\n",
       "      <td>Atomic_Frequency_output_Frequency</td>\n",
       "      <td>300.0</td>\n",
       "      <td>500.0</td>\n",
       "      <td>[499]</td>\n",
       "      <td>[999, 1999]</td>\n",
       "      <td>NaN</td>\n",
       "      <td>NaN</td>\n",
       "      <td>00:02:28</td>\n",
       "      <td>0.4</td>\n",
       "      <td>NaN</td>\n",
       "      <td>NaN</td>\n",
       "      <td>NaN</td>\n",
       "      <td>NaN</td>\n",
       "    </tr>\n",
       "    <tr>\n",
       "      <th>24888</th>\n",
       "      <td>Martjushev ADWIN J</td>\n",
       "      <td>Ostovar</td>\n",
       "      <td>Atomic_Frequency_output_Frequency</td>\n",
       "      <td>300.0</td>\n",
       "      <td>500.0</td>\n",
       "      <td>[499]</td>\n",
       "      <td>[999, 1999]</td>\n",
       "      <td>NaN</td>\n",
       "      <td>NaN</td>\n",
       "      <td>00:02:28</td>\n",
       "      <td>0.4</td>\n",
       "      <td>NaN</td>\n",
       "      <td>NaN</td>\n",
       "      <td>NaN</td>\n",
       "      <td>NaN</td>\n",
       "    </tr>\n",
       "    <tr>\n",
       "      <th>5844</th>\n",
       "      <td>Martjushev ADWIN J</td>\n",
       "      <td>Ostovar</td>\n",
       "      <td>Atomic_Frequency_output_Frequency_2</td>\n",
       "      <td>100.0</td>\n",
       "      <td>400.0</td>\n",
       "      <td>[]</td>\n",
       "      <td>[999, 1999]</td>\n",
       "      <td>NaN</td>\n",
       "      <td>NaN</td>\n",
       "      <td>00:03:46</td>\n",
       "      <td>0.4</td>\n",
       "      <td>NaN</td>\n",
       "      <td>NaN</td>\n",
       "      <td>NaN</td>\n",
       "      <td>NaN</td>\n",
       "    </tr>\n",
       "    <tr>\n",
       "      <th>...</th>\n",
       "      <td>...</td>\n",
       "      <td>...</td>\n",
       "      <td>...</td>\n",
       "      <td>...</td>\n",
       "      <td>...</td>\n",
       "      <td>...</td>\n",
       "      <td>...</td>\n",
       "      <td>...</td>\n",
       "      <td>...</td>\n",
       "      <td>...</td>\n",
       "      <td>...</td>\n",
       "      <td>...</td>\n",
       "      <td>...</td>\n",
       "      <td>...</td>\n",
       "      <td>...</td>\n",
       "    </tr>\n",
       "    <tr>\n",
       "      <th>26497</th>\n",
       "      <td>Martjushev ADWIN J</td>\n",
       "      <td>Ceravolo</td>\n",
       "      <td>sudden_trace_noise5_1000_sw</td>\n",
       "      <td>300.0</td>\n",
       "      <td>700.0</td>\n",
       "      <td>[]</td>\n",
       "      <td>[499]</td>\n",
       "      <td>NaN</td>\n",
       "      <td>NaN</td>\n",
       "      <td>00:00:09</td>\n",
       "      <td>0.4</td>\n",
       "      <td>NaN</td>\n",
       "      <td>NaN</td>\n",
       "      <td>NaN</td>\n",
       "      <td>NaN</td>\n",
       "    </tr>\n",
       "    <tr>\n",
       "      <th>14630</th>\n",
       "      <td>Martjushev ADWIN J</td>\n",
       "      <td>Ceravolo</td>\n",
       "      <td>sudden_trace_noise5_1000_sw</td>\n",
       "      <td>400.0</td>\n",
       "      <td>400.0</td>\n",
       "      <td>[]</td>\n",
       "      <td>[499]</td>\n",
       "      <td>NaN</td>\n",
       "      <td>NaN</td>\n",
       "      <td>00:00:07</td>\n",
       "      <td>0.4</td>\n",
       "      <td>NaN</td>\n",
       "      <td>NaN</td>\n",
       "      <td>NaN</td>\n",
       "      <td>NaN</td>\n",
       "    </tr>\n",
       "    <tr>\n",
       "      <th>26028</th>\n",
       "      <td>Martjushev ADWIN J</td>\n",
       "      <td>Ceravolo</td>\n",
       "      <td>sudden_trace_noise5_1000_sw</td>\n",
       "      <td>400.0</td>\n",
       "      <td>400.0</td>\n",
       "      <td>[]</td>\n",
       "      <td>[499]</td>\n",
       "      <td>NaN</td>\n",
       "      <td>NaN</td>\n",
       "      <td>00:00:07</td>\n",
       "      <td>0.4</td>\n",
       "      <td>NaN</td>\n",
       "      <td>NaN</td>\n",
       "      <td>NaN</td>\n",
       "      <td>NaN</td>\n",
       "    </tr>\n",
       "    <tr>\n",
       "      <th>1324</th>\n",
       "      <td>Martjushev ADWIN J</td>\n",
       "      <td>Ceravolo</td>\n",
       "      <td>sudden_trace_noise5_1000_sw</td>\n",
       "      <td>400.0</td>\n",
       "      <td>700.0</td>\n",
       "      <td>[]</td>\n",
       "      <td>[499]</td>\n",
       "      <td>NaN</td>\n",
       "      <td>NaN</td>\n",
       "      <td>00:00:06</td>\n",
       "      <td>0.4</td>\n",
       "      <td>NaN</td>\n",
       "      <td>NaN</td>\n",
       "      <td>NaN</td>\n",
       "      <td>NaN</td>\n",
       "    </tr>\n",
       "    <tr>\n",
       "      <th>18526</th>\n",
       "      <td>Martjushev ADWIN J</td>\n",
       "      <td>Ceravolo</td>\n",
       "      <td>sudden_trace_noise5_1000_sw</td>\n",
       "      <td>400.0</td>\n",
       "      <td>700.0</td>\n",
       "      <td>[]</td>\n",
       "      <td>[499]</td>\n",
       "      <td>NaN</td>\n",
       "      <td>NaN</td>\n",
       "      <td>00:00:06</td>\n",
       "      <td>0.4</td>\n",
       "      <td>NaN</td>\n",
       "      <td>NaN</td>\n",
       "      <td>NaN</td>\n",
       "      <td>NaN</td>\n",
       "    </tr>\n",
       "  </tbody>\n",
       "</table>\n",
       "<p>978 rows × 15 columns</p>\n",
       "</div>"
      ],
      "text/plain": [
       "                Algorithm Log Source  \\\n",
       "15667  Martjushev ADWIN J    Ostovar   \n",
       "18401  Martjushev ADWIN J    Ostovar   \n",
       "1313   Martjushev ADWIN J    Ostovar   \n",
       "24888  Martjushev ADWIN J    Ostovar   \n",
       "5844   Martjushev ADWIN J    Ostovar   \n",
       "...                   ...        ...   \n",
       "26497  Martjushev ADWIN J   Ceravolo   \n",
       "14630  Martjushev ADWIN J   Ceravolo   \n",
       "26028  Martjushev ADWIN J   Ceravolo   \n",
       "1324   Martjushev ADWIN J   Ceravolo   \n",
       "18526  Martjushev ADWIN J   Ceravolo   \n",
       "\n",
       "                                                     Log  Min Adaptive Window  \\\n",
       "15667  Atomic_ConditionalRemoval_output_ConditionalRe...                400.0   \n",
       "18401  Atomic_ConditionalRemoval_output_ConditionalRe...                400.0   \n",
       "1313                   Atomic_Frequency_output_Frequency                300.0   \n",
       "24888                  Atomic_Frequency_output_Frequency                300.0   \n",
       "5844                 Atomic_Frequency_output_Frequency_2                100.0   \n",
       "...                                                  ...                  ...   \n",
       "26497                        sudden_trace_noise5_1000_sw                300.0   \n",
       "14630                        sudden_trace_noise5_1000_sw                400.0   \n",
       "26028                        sudden_trace_noise5_1000_sw                400.0   \n",
       "1324                         sudden_trace_noise5_1000_sw                400.0   \n",
       "18526                        sudden_trace_noise5_1000_sw                400.0   \n",
       "\n",
       "       Max Adaptive Window Detected Changepoints Actual Changepoints for Log  \\\n",
       "15667                400.0                    []                 [999, 1999]   \n",
       "18401                400.0                    []                 [999, 1999]   \n",
       "1313                 500.0                 [499]                 [999, 1999]   \n",
       "24888                500.0                 [499]                 [999, 1999]   \n",
       "5844                 400.0                    []                 [999, 1999]   \n",
       "...                    ...                   ...                         ...   \n",
       "26497                700.0                    []                       [499]   \n",
       "14630                400.0                    []                       [499]   \n",
       "26028                400.0                    []                       [499]   \n",
       "1324                 700.0                    []                       [499]   \n",
       "18526                700.0                    []                       [499]   \n",
       "\n",
       "       F1-Score  Average Lag  Duration  P-Value  MRID  Epsilon  Window Size  \\\n",
       "15667       NaN          NaN  00:06:51      0.4   NaN      NaN          NaN   \n",
       "18401       NaN          NaN  00:06:51      0.4   NaN      NaN          NaN   \n",
       "1313        NaN          NaN  00:02:28      0.4   NaN      NaN          NaN   \n",
       "24888       NaN          NaN  00:02:28      0.4   NaN      NaN          NaN   \n",
       "5844        NaN          NaN  00:03:46      0.4   NaN      NaN          NaN   \n",
       "...         ...          ...       ...      ...   ...      ...          ...   \n",
       "26497       NaN          NaN  00:00:09      0.4   NaN      NaN          NaN   \n",
       "14630       NaN          NaN  00:00:07      0.4   NaN      NaN          NaN   \n",
       "26028       NaN          NaN  00:00:07      0.4   NaN      NaN          NaN   \n",
       "1324        NaN          NaN  00:00:06      0.4   NaN      NaN          NaN   \n",
       "18526       NaN          NaN  00:00:06      0.4   NaN      NaN          NaN   \n",
       "\n",
       "       SW Step Size  \n",
       "15667           NaN  \n",
       "18401           NaN  \n",
       "1313            NaN  \n",
       "24888           NaN  \n",
       "5844            NaN  \n",
       "...             ...  \n",
       "26497           NaN  \n",
       "14630           NaN  \n",
       "26028           NaN  \n",
       "1324            NaN  \n",
       "18526           NaN  \n",
       "\n",
       "[978 rows x 15 columns]"
      ]
     },
     "execution_count": 7,
     "metadata": {},
     "output_type": "execute_result"
    }
   ],
   "source": [
    "df_csv = pd.read_csv(\"evaluation_results.csv\")\n",
    "df_m = df_csv[df_csv[\"Algorithm\"] == \"Martjushev ADWIN J\"]\n",
    "df_m[df_m.duplicated(keep=False)].sort_values(by=[\"Log\", \"Min Adaptive Window\", \"Max Adaptive Window\", \"Duration\", \"Detected Changepoints\"])"
   ]
  },
  {
   "cell_type": "markdown",
   "metadata": {},
   "source": [
    "### Split into noisy/noiseful logs"
   ]
  },
  {
   "cell_type": "code",
   "execution_count": 8,
   "metadata": {},
   "outputs": [],
   "source": [
    "logs = zip(df[\"Log Source\"], df[\"Log\"])\n",
    "\n",
    "noiseless_logs = {\n",
    "    log for source, log in logs if \n",
    "    (source == \"Ostovar\"  and not (log.endswith(\"_2\") or log.endswith(\"_5\"))) or\n",
    "    (source == \"Ceravolo\" and log.split(\"_\")[2]==\"noise0\") or\n",
    "    source == \"Bose\"\n",
    "}\n",
    "\n",
    "df_noiseless = df[df[\"Log\"].isin(noiseless_logs)]\n",
    "df_noisy = df[df[\"Log\"].isin(noiseless_logs) == False]\n",
    "\n",
    "dfs_noisy = split_by_name(df_noisy)\n",
    "dfs_noiseless = split_by_name(df_noiseless)"
   ]
  },
  {
   "cell_type": "markdown",
   "metadata": {},
   "source": [
    "## Accuracy\n",
    "- All Change-Patterns\n",
    "- Only 0 Noise\n",
    "- Max cummulative *Recall* achieved of all parameter settings"
   ]
  },
  {
   "cell_type": "code",
   "execution_count": 10,
   "metadata": {},
   "outputs": [
    {
     "data": {
      "text/plain": [
       "array(['Process Graph Metrics', 'Martjushev ADWIN J',\n",
       "       'Martjushev ADWIN WC', 'Zheng DBSCAN', 'ProDrift', 'Bose J',\n",
       "       'Bose WC', \"Earth Mover's Distance\"], dtype=object)"
      ]
     },
     "execution_count": 10,
     "metadata": {},
     "output_type": "execute_result"
    }
   ],
   "source": [
    "df[\"Algorithm\"].unique()"
   ]
  },
  {
   "cell_type": "code",
   "execution_count": 11,
   "metadata": {},
   "outputs": [
    {
     "name": "stdout",
     "output_type": "stream",
     "text": [
      "Martjushev ADWIN J: 0.7462686567164178\n",
      "Martjushev ADWIN WC: 0\n",
      "Process Graph Metrics: 0.7196969696969697\n",
      "Earth Mover's Distance: 0.8333333333333334\n",
      "Bose J: 0.7901234567901234\n",
      "Bose WC: 0.7428571428571429\n",
      "Zheng DBSCAN: 0.8641975308641975\n",
      "ProDrift: 0.5964912280701754\n"
     ]
    }
   ],
   "source": [
    "used_parameters = {\n",
    "        \"Bose J\": [\"Window Size\", \"SW Step Size\"],\n",
    "        \"Bose WC\": [\"Window Size\", \"SW Step Size\"],\n",
    "        \"Martjushev ADWIN J\": [\"Min Adaptive Window\", \"Max Adaptive Window\", \"P-Value\"],\n",
    "        \"Martjushev ADWIN WC\": [\"Min Adaptive Window\", \"Max Adaptive Window\", \"P-Value\"],\n",
    "        \"ProDrift\": [\"Window Size\", \"SW Step Size\"],\n",
    "        \"Earth Mover's Distance\": [\"Window Size\", \"SW Step Size\"],\n",
    "        \"Process Graph Metrics\": [\"Min Adaptive Window\", \"Max Adaptive Window\"],\n",
    "        \"Zheng DBSCAN\": [\"MRID\", \"Epsilon\"]\n",
    "        # \"Maaradji Runs\": [\"Window Size\"],#, \"SW Step Size\"],\n",
    "        # Forgot to write down PValue for Process Graph Metrics\n",
    "        # \"Process Graph Metrics\": [\"Min Adaptive Window\", \"Max Adaptive Window\", \"P-Value\"],\n",
    "        # Ignore PValue for now\n",
    "    }\n",
    "\n",
    "\n",
    "\n",
    "def calcAccuracy(df:pd.DataFrame, param_names:List[str], lag_window: int):\n",
    "    \"\"\"Calculates the Accuracy Metric for the given dataframe by grouping by the given parameters and calculating the mean accuracy\n",
    "\n",
    "    Args:\n",
    "        df (pd.DataFrame): _description_\n",
    "        param_names (List[str]): _description_\n",
    "        lag_window (int): _description_\n",
    "\n",
    "    Returns:\n",
    "        _type_: _description_\n",
    "    \"\"\"\n",
    "\n",
    "    f1s = dict()\n",
    "    recalls = dict()\n",
    "    precisions = dict()\n",
    "    # Group by parameter values to calculate accuracy per parameter setting, over all logs\n",
    "    for parameters, group in df.groupby(by=param_names):\n",
    "        # Calculate Accuracy for this parameter setting\n",
    "        ## --> F1-Score, but first collect all TP and FP\n",
    "        tps = 0\n",
    "        fps = 0\n",
    "        positives = 0\n",
    "        detected = 0\n",
    "\n",
    "        # Collect TP FP, etc. \n",
    "        for index, row in group.iterrows():\n",
    "            actual_cp = row[\"Actual Changepoints for Log\"]\n",
    "            detected_cp = row[\"Detected Changepoints\"]\n",
    "            tp, fp = evaluation.getTP_FP(detected_cp, actual_cp, lag_window)\n",
    "            tps += tp\n",
    "            fps += fp\n",
    "            positives += len(actual_cp)\n",
    "            detected += len(detected_cp)\n",
    "\n",
    "        try:\n",
    "            precisions[parameters] = tps / detected\n",
    "        except ZeroDivisionError:\n",
    "            precisions[parameters] = np.NaN\n",
    "        \n",
    "        try:\n",
    "            recalls[parameters] = tps / positives\n",
    "        except ZeroDivisionError:\n",
    "            recalls[parameters] = np.NaN\n",
    "\n",
    "        f1s[parameters] = harmonic_mean([precisions[parameters], recalls[parameters]]) # If either is nan, the harmonic mean is nan\n",
    "    return (precisions, recalls, f1s)\n",
    "\n",
    "computed_accuracy_dicts = dict()\n",
    "computed_precision_dicts = dict()\n",
    "computed_recall_dicts = dict()\n",
    "\n",
    "accuracy_best_param = dict()\n",
    "\n",
    "accuracies = dict()\n",
    "for name, a_df in dfs_noiseless:\n",
    "    computed_precision_dicts[name], computed_recall_dicts[name], computed_accuracy_dicts[name] = calcAccuracy(a_df, used_parameters[name], LAG_WINDOW)\n",
    "\n",
    "    best_param = max(computed_accuracy_dicts[name],  key=lambda x: computed_accuracy_dicts[name][x])\n",
    "\n",
    "    accuracy_best_param[name] = best_param\n",
    "\n",
    "    # accuracies[name] = max(computed_accuracy_dicts[name].values())\n",
    "    accuracies[name] = computed_accuracy_dicts[name][best_param]\n",
    "    print(f\"{name}: {accuracies[name]}\")"
   ]
  },
  {
   "cell_type": "markdown",
   "metadata": {},
   "source": [
    "#### Plot Accuracy as Barplot of Precision, Recall, F1"
   ]
  },
  {
   "cell_type": "code",
   "execution_count": 32,
   "metadata": {},
   "outputs": [
    {
     "data": {
      "image/png": "[encoded data removed]",
      "text/plain": [
       "<Figure size 1080x288 with 1 Axes>"
      ]
     },
     "metadata": {
      "needs_background": "light"
     },
     "output_type": "display_data"
    }
   ],
   "source": [
    "accuracy_plot_df = pd.DataFrame(\n",
    "    [\n",
    "        {\n",
    "            \"Algorithm\": name,\n",
    "            \"Metric\": \"F1-Score\",\n",
    "            \"Value\": computed_accuracy_dicts[name][accuracy_best_param[name]]\n",
    "        }\n",
    "        for name in computed_accuracy_dicts.keys()\n",
    "    ] + [\n",
    "        {\n",
    "            \"Algorithm\": name,\n",
    "            \"Metric\": \"Precision\",\n",
    "            \"Value\": computed_precision_dicts[name][accuracy_best_param[name]]\n",
    "        }\n",
    "        for name in computed_accuracy_dicts.keys()\n",
    "    ] + [\n",
    "        {\n",
    "            \"Algorithm\": name,\n",
    "            \"Metric\": \"Recall\",\n",
    "            \"Value\": computed_recall_dicts[name][accuracy_best_param[name]]\n",
    "        }\n",
    "        for name in computed_accuracy_dicts.keys()\n",
    "    ]\n",
    ")\n",
    "# accuracy_plot_df = pd.DataFrame([\n",
    "#     {\n",
    "#         \"Algorithm\": name,\n",
    "#         \"F1-Score\": computed_accuracy_dicts[name][accuracy_best_param[name]],\n",
    "#         \"Precision\": computed_precision_dicts[name][accuracy_best_param[name]],\n",
    "#         \"Recall\": computed_recall_dicts[name][accuracy_best_param[name]]\n",
    "\n",
    "#     }\n",
    "#     for name in computed_accuracy_dicts.keys()\n",
    "# ])\n",
    "\n",
    "ax = sns.barplot(x=\"Algorithm\", y=\"Value\", data=accuracy_plot_df, hue=\"Metric\") # Blueish\n",
    "# palette = palette={\"Precision\": \"#573deb\", \"F1-Score\": \"#ff0076\", \"Recall\": \"#ffa600\"}\n",
    "\n",
    "ax.figure.set_size_inches(15, 4)\n",
    "# ax.tick_params(labelrotation=10, ha=\"right\")\n",
    "# Set each ticks horizontal alignment to \"right\"\n",
    "for tick in ax.get_xticklabels():\n",
    "    tick.set_ha(\"right\")\n",
    "    tick.set_rotation(20)\n",
    "plt.show()"
   ]
  },
  {
   "cell_type": "markdown",
   "metadata": {},
   "source": [
    "## Latency\n",
    "- Using best parameter setting\n",
    "- Same logs as above"
   ]
  },
  {
   "cell_type": "code",
   "execution_count": 41,
   "metadata": {},
   "outputs": [
    {
     "name": "stdout",
     "output_type": "stream",
     "text": [
      "Process Graph Metrics: 97.16981132075473 Traces; Score: 0.5141509433962264\n",
      "Martjushev ADWIN J: 86.97435897435896 Traces; Score: 0.5651282051282052\n",
      "Martjushev ADWIN WC: nan Traces; Score: nan\n",
      "Earth Mover's Distance: 56.1219512195122 Traces; Score: 0.719390243902439\n",
      "Bose J: 65.08333333333334 Traces; Score: 0.6745833333333333\n",
      "Bose WC: 92.3913043478261 Traces; Score: 0.5380434782608695\n",
      "Zheng DBSCAN: 67.01751893939394 Traces; Score: 0.6649124053030303\n",
      "ProDrift: 71.3529411764706 Traces; Score: 0.643235294117647\n"
     ]
    }
   ],
   "source": [
    "from statistics import mean\n",
    "def calcLatency(df, param_names, lag_window):\n",
    "    latencies = dict()\n",
    "    for parameters, group in df.groupby(by=param_names):\n",
    "        # Calculate Accuracy for this parameter setting\n",
    "        lags = []\n",
    "        for index, row in group.iterrows():\n",
    "            actual_cp = row[\"Actual Changepoints for Log\"]\n",
    "            detected_cp = row[\"Detected Changepoints\"]\n",
    "            assignments = evaluation.assign_changepoints(detected_cp, actual_cp)\n",
    "            for d,a in assignments:\n",
    "                lags.append(abs(d-a))\n",
    "        if len(lags) != 0:\n",
    "            # Scale Latency from 0 to 1\n",
    "            avg_lag = 1-(mean(lags)/lag_window)\n",
    "        else:\n",
    "            avg_lag = np.NaN\n",
    "        latencies[parameters] = avg_lag\n",
    "    return latencies\n",
    "\n",
    "computed_latency_dicts = dict()\n",
    "latencies = dict()\n",
    "for name, a_df in dfs_noiseless:\n",
    "    result = calcLatency(a_df, used_parameters[name], LAG_WINDOW)\n",
    "    computed_latency_dicts[name] = result\n",
    "    latencies[name] = min(result.values())\n",
    "    print(f\"{name}: {(1-latencies[name])*200} Traces; Score: {latencies[name]}\")"
   ]
  },
  {
   "cell_type": "markdown",
   "metadata": {},
   "source": [
    "## Versatility"
   ]
  },
  {
   "cell_type": "markdown",
   "metadata": {},
   "source": [
    "#### Preprocessing"
   ]
  },
  {
   "cell_type": "code",
   "execution_count": 22,
   "metadata": {},
   "outputs": [],
   "source": [
    "mapping_ostovar_to_shortnames = {\n",
    "    \"ConditionalMove\": 'cm',\n",
    "    \"ConditionalRemoval\": 'cre',\n",
    "    \"ConditionalToSequence\": 'cf',\n",
    "    \"Frequency\": 'fr',\n",
    "    \"Loop\": 'lp',\n",
    "    \"ParallelMove\": 'pm',\n",
    "    \"ParallelRemoval\": 'pre',\n",
    "    \"ParallelToSequence\": 'pl',\n",
    "    \"SerialMove\": 'sm',\n",
    "    \"SerialRemoval\": 'sre',\n",
    "    \"Skip\": 'cb',\n",
    "    \"Substitute\": 'rp',\n",
    "    \"Swap\": 'sw',\n",
    "}\n",
    "\n",
    "def map_row_to_cp(row):\n",
    "    logname = row[\"Log\"]\n",
    "    if row[\"Log Source\"] == \"Ceravolo\":\n",
    "        return logname.split(\"_\")[-1]\n",
    "    elif row[\"Log Source\"] == \"Ostovar\":\n",
    "        return mapping_ostovar_to_shortnames[logname.split(\"_\")[-1]]\n",
    "    else:\n",
    "        print(\"Whoopsie Daisy!\")\n",
    "        raise ValueError(f\"Unknown Log Source for Versatility: {row['Log Source']}; Is this Log meant to be used for a Versatility Evaluation?\")\n",
    "# Only use the Ceravolo and Ostovar Logs as Bose has only 1 log with various change points\n",
    "df_v = df_noiseless[df_noiseless[\"Log Source\"].isin([\"Ceravolo\", \"Ostovar\"])].copy(deep=True)\n",
    "# Add a column stating the change pattern that is applied\n",
    "df_v[\"Change Pattern\"] = df_v.apply(lambda x: map_row_to_cp(x), axis=1)"
   ]
  },
  {
   "cell_type": "markdown",
   "metadata": {},
   "source": [
    "#### Calculation\n",
    "- Recall of all logs of the same pattern, \"concatenated\", i.e., accumulate TP and FP first\n",
    "- Divide this by the number of change patterns"
   ]
  },
  {
   "cell_type": "code",
   "execution_count": 26,
   "metadata": {},
   "outputs": [
    {
     "name": "stdout",
     "output_type": "stream",
     "text": [
      "Bose J: 0.6059027777777778\n",
      "Bose WC: 0.3767361111111111\n",
      "Earth Mover's Distance: 0.7309027777777778\n",
      "Martjushev ADWIN J: 0.5651041666666666\n",
      "Martjushev ADWIN WC: 0.0\n",
      "ProDrift: 0.2586805555555555\n",
      "Process Graph Metrics: 0.5498046875\n",
      "Zheng DBSCAN: 0.6875\n"
     ]
    }
   ],
   "source": [
    "versatility_recall_dicts = dict() # Map approach to a dictionary mapping a change pattern to the recall achieved by the approach on this change pattern\n",
    "versatilities = dict() # Map approach to versatility score\n",
    "for name, group in df_v.groupby(by=[\"Algorithm\"]):\n",
    "    recalls_of_this_approach = dict()\n",
    "    for change_pattern, cp_group in group.groupby(by=[\"Change Pattern\"]):\n",
    "        TPS = 0\n",
    "        POSITIVES = 0\n",
    "        # TP / TP+FN = TP / POSTIVES = Recall\n",
    "        for index, row in cp_group.iterrows():\n",
    "            detected_changepoints = row[\"Detected Changepoints\"]\n",
    "            actual_changepoints = row[\"Actual Changepoints for Log\"]\n",
    "\n",
    "            tp, _ = evaluation.getTP_FP(detected_changepoints, actual_changepoints, LAG_WINDOW)\n",
    "\n",
    "            TPS += tp\n",
    "            POSITIVES += len(actual_changepoints)\n",
    "\n",
    "        # Recall of this algorithm for this change pattern:\n",
    "        recall = TPS / POSITIVES if POSITIVES != 0 else np.NaN # Only the case if there are no actual changepoints, which should not be the case\n",
    "        recalls_of_this_approach[change_pattern] = recall\n",
    "    versatility_recall_dicts[name] = recalls_of_this_approach\n",
    "    versatilities[name] = mean(recalls_of_this_approach.values())\n",
    "    print(f\"{name}: {versatilities[name]}\")\n"
   ]
  },
  {
   "cell_type": "markdown",
   "metadata": {},
   "source": [
    "#### Plot\n",
    "- Barplot with \"bar\" for each change pattern and approach"
   ]
  },
  {
   "cell_type": "code",
   "execution_count": 38,
   "metadata": {},
   "outputs": [
    {
     "data": {
      "image/png": "[encoded data removed]",
      "text/plain": [
       "<Figure size 1440x288 with 1 Axes>"
      ]
     },
     "metadata": {
      "needs_background": "light"
     },
     "output_type": "display_data"
    }
   ],
   "source": [
    "df_vers_plot = pd.DataFrame([\n",
    "    {\n",
    "        \"Algorithm\": name,\n",
    "        \"Change Pattern\": cp,\n",
    "        \"Versatility\": versatility_recall_dicts[name][cp]\n",
    "    }\n",
    "    for name in versatility_recall_dicts.keys()\n",
    "    for cp in versatility_recall_dicts[name].keys()\n",
    "])\n",
    "\n",
    "\n",
    "fig,ax = plt.subplots(figsize=(20, 4))\n",
    "sns.barplot(x=\"Change Pattern\", y=\"Versatility\", data=df_vers_plot, hue=\"Algorithm\", ax=ax)\n",
    "plt.legend(bbox_to_anchor=(1.01, 1), loc='upper left', borderaxespad=0)\n",
    "plt.show()"
   ]
  },
  {
   "cell_type": "markdown",
   "metadata": {},
   "source": [
    "## Scalability\n",
    "- Mean Duration\n",
    "- Across ***all*** logs this time!"
   ]
  },
  {
   "cell_type": "code",
   "execution_count": 33,
   "metadata": {},
   "outputs": [
    {
     "name": "stdout",
     "output_type": "stream",
     "text": [
      "Process Graph Metrics: 00:00:29\n",
      "Martjushev ADWIN J: 00:04:35\n",
      "Martjushev ADWIN WC: 00:02:48\n",
      "Zheng DBSCAN: 00:00:04\n",
      "ProDrift: 00:04:44\n",
      "Bose J: 00:12:59\n",
      "Bose WC: 00:13:13\n",
      "Earth Mover's Distance: 00:18:33\n"
     ]
    }
   ],
   "source": [
    "scalabilities = dict()\n",
    "for name, a_df in dfs:\n",
    "    result = a_df[\"Duration\"].mean()\n",
    "    result_str = datetime.strftime(datetime.utcfromtimestamp(result.seconds), '%H:%M:%S')\n",
    "    scalabilities[name] = {\"datetime\": result, \"str\": result_str}\n",
    "    print(f\"{name}: {result_str}\")"
   ]
  },
  {
   "cell_type": "markdown",
   "metadata": {},
   "source": [
    "#### Plot Boxplot"
   ]
  },
  {
   "cell_type": "code",
   "execution_count": 56,
   "metadata": {},
   "outputs": [
    {
     "data": {
      "text/plain": [
       "<AxesSubplot:xlabel='Duration', ylabel='Algorithm'>"
      ]
     },
     "execution_count": 56,
     "metadata": {},
     "output_type": "execute_result"
    },
    {
     "data": {
      "image/png": "[encoded data removed]",
      "text/plain": [
       "<Figure size 720x360 with 1 Axes>"
      ]
     },
     "metadata": {
      "needs_background": "light"
     },
     "output_type": "display_data"
    }
   ],
   "source": [
    "scalability_plot_df = pd.DataFrame([\n",
    "    {\n",
    "        \"Algorithm\": name,\n",
    "        \"Duration\": duration.total_seconds() / 60\n",
    "    }\n",
    "    for name, a_df in dfs\n",
    "    for duration in a_df[\"Duration\"].tolist()\n",
    "])\n",
    "\n",
    "fig, ax = plt.subplots(figsize=(10, 5))\n",
    "ax.set_xlabel(\"Duration [Minutes]\")\n",
    "sns.boxplot(data=scalability_plot_df, x=\"Duration\", y=\"Algorithm\", width=1, ax=ax, fliersize=0)"
   ]
  },
  {
   "cell_type": "markdown",
   "metadata": {},
   "source": [
    "## Parameter Sensitivity\n",
    "- For each Parameter setting, harmonic mean of *accuracy*, *latency*, and *versatility*\n",
    "  - &rarr; Visualize the variance, etc., with a boxplot"
   ]
  },
  {
   "cell_type": "code",
   "execution_count": null,
   "metadata": {},
   "outputs": [],
   "source": [
    "sensitivities = dict()\n",
    "for name in df[\"Algorithm\"].unique():\n",
    "    _sensitivities = dict()\n",
    "    acc = computed_accuracy_dicts[name]\n",
    "    lat = computed_latency_dicts[name]\n",
    "    vers = computed_versatility_dicts[name]\n",
    "    for param_choice in acc.keys():\n",
    "        sensitivity = harmonic_mean([acc[param_choice], lat[param_choice]])\n",
    "        _sensitivities[param_choice] = sensitivity\n",
    "    sensitivities[name] = _sensitivities\n"
   ]
  },
  {
   "cell_type": "code",
   "execution_count": null,
   "metadata": {},
   "outputs": [
    {
     "data": {
      "text/plain": [
       "<AxesSubplot:xlabel='Observed Performances', ylabel='Algorithm'>"
      ]
     },
     "execution_count": 16,
     "metadata": {},
     "output_type": "execute_result"
    },
    {
     "data": {
      "image/png": "[encoded data removed]",
      "text/plain": [
       "<Figure size 720x360 with 1 Axes>"
      ]
     },
     "metadata": {
      "needs_background": "light"
     },
     "output_type": "display_data"
    }
   ],
   "source": [
    "sens_df = pd.DataFrame([\n",
    "    {\n",
    "        \"Parameters\": param,\n",
    "        \"Algorithm\": name,\n",
    "        \"Observed Performances\": sens\n",
    "    }\n",
    "    for name, sens_dict in sensitivities.items()\n",
    "    for param, sens in sens_dict.items()\n",
    "])\n",
    "import seaborn as sns\n",
    "\n",
    "fig, ax = plt.subplots(figsize=(10, 5))\n",
    "sns.boxplot(data=sens_df, x=\"Observed Performances\", y=\"Algorithm\", width=1, ax=ax)"
   ]
  },
  {
   "cell_type": "code",
   "execution_count": null,
   "metadata": {},
   "outputs": [
    {
     "name": "stdout",
     "output_type": "stream",
     "text": [
      "Standard Deviations\n",
      "Process Graph Metrics: 0.0164531847316924\n",
      "Martjushev ADWIN J: 0.015688172247205142\n",
      "Martjushev ADWIN WC: nan\n",
      "Zheng DBSCAN: 0.047956190307036746\n",
      "ProDrift: 0.10146858184237247\n",
      "Bose J: 0.055111064851049156\n",
      "Bose WC: 0.1520628486397899\n",
      "Earth Mover's Distance: 0.02880039527329389\n"
     ]
    }
   ],
   "source": [
    "# Standard Deviation\n",
    "print(\"Standard Deviations\")\n",
    "\n",
    "def try_calc_stdev(data):\n",
    "    try:\n",
    "        return stdev(data)\n",
    "    except:\n",
    "        return np.NaN\n",
    "\n",
    "sensitivity_stds = dict()\n",
    "for name, sens in sensitivities.items():\n",
    "    std = try_calc_stdev(sens.values())\n",
    "    sensitivity_stds[name] = std\n",
    "    print(f\"{name}: {std}\")"
   ]
  },
  {
   "cell_type": "markdown",
   "metadata": {},
   "source": [
    "### Robustness"
   ]
  },
  {
   "cell_type": "code",
   "execution_count": null,
   "metadata": {},
   "outputs": [
    {
     "ename": "KeyboardInterrupt",
     "evalue": "",
     "output_type": "error",
     "traceback": [
      "\u001b[1;31m---------------------------------------------------------------------------\u001b[0m",
      "\u001b[1;31mKeyboardInterrupt\u001b[0m                         Traceback (most recent call last)",
      "\u001b[1;32mc:\\Users\\Cam\\Desktop\\CDrift_Evaluation\\evaluate_results.ipynb Cell 26\u001b[0m in \u001b[0;36m<cell line: 4>\u001b[1;34m()\u001b[0m\n\u001b[0;32m      <a href='vscode-notebook-cell:/c%3A/Users/Cam/Desktop/CDrift_Evaluation/evaluate_results.ipynb#X31sZmlsZQ%3D%3D?line=3'>4</a>\u001b[0m \u001b[39mfor\u001b[39;00m name, d \u001b[39min\u001b[39;00m dfs_noisy:\n\u001b[0;32m      <a href='vscode-notebook-cell:/c%3A/Users/Cam/Desktop/CDrift_Evaluation/evaluate_results.ipynb#X31sZmlsZQ%3D%3D?line=4'>5</a>\u001b[0m     \u001b[39m# Have to calculate them here, because this is the only place where we use the noisy logs\t\u001b[39;00m\n\u001b[0;32m      <a href='vscode-notebook-cell:/c%3A/Users/Cam/Desktop/CDrift_Evaluation/evaluate_results.ipynb#X31sZmlsZQ%3D%3D?line=5'>6</a>\u001b[0m     acc \u001b[39m=\u001b[39m calcAccuracy(d, used_parameters[name], LAG_WINDOW)\n\u001b[1;32m----> <a href='vscode-notebook-cell:/c%3A/Users/Cam/Desktop/CDrift_Evaluation/evaluate_results.ipynb#X31sZmlsZQ%3D%3D?line=6'>7</a>\u001b[0m     lat \u001b[39m=\u001b[39m calcLatency(d, used_parameters[name], LAG_WINDOW)\n\u001b[0;32m      <a href='vscode-notebook-cell:/c%3A/Users/Cam/Desktop/CDrift_Evaluation/evaluate_results.ipynb#X31sZmlsZQ%3D%3D?line=7'>8</a>\u001b[0m     vers \u001b[39m=\u001b[39m calcVersatility(d, used_parameters[name])\n\u001b[0;32m      <a href='vscode-notebook-cell:/c%3A/Users/Cam/Desktop/CDrift_Evaluation/evaluate_results.ipynb#X31sZmlsZQ%3D%3D?line=8'>9</a>\u001b[0m     robustnesses[name] \u001b[39m=\u001b[39m \u001b[39mmin\u001b[39m(\n\u001b[0;32m     <a href='vscode-notebook-cell:/c%3A/Users/Cam/Desktop/CDrift_Evaluation/evaluate_results.ipynb#X31sZmlsZQ%3D%3D?line=9'>10</a>\u001b[0m         try_calc_stdev([\n\u001b[0;32m     <a href='vscode-notebook-cell:/c%3A/Users/Cam/Desktop/CDrift_Evaluation/evaluate_results.ipynb#X31sZmlsZQ%3D%3D?line=10'>11</a>\u001b[0m             harmonic_mean([acc[param_choice], vers[param_choice], lat[param_choice]])\n\u001b[0;32m     <a href='vscode-notebook-cell:/c%3A/Users/Cam/Desktop/CDrift_Evaluation/evaluate_results.ipynb#X31sZmlsZQ%3D%3D?line=11'>12</a>\u001b[0m         ])\n\u001b[0;32m     <a href='vscode-notebook-cell:/c%3A/Users/Cam/Desktop/CDrift_Evaluation/evaluate_results.ipynb#X31sZmlsZQ%3D%3D?line=12'>13</a>\u001b[0m         \u001b[39mfor\u001b[39;00m param_choice \u001b[39min\u001b[39;00m acc\u001b[39m.\u001b[39mkeys()\n\u001b[0;32m     <a href='vscode-notebook-cell:/c%3A/Users/Cam/Desktop/CDrift_Evaluation/evaluate_results.ipynb#X31sZmlsZQ%3D%3D?line=13'>14</a>\u001b[0m     )\n",
      "\u001b[1;32mc:\\Users\\Cam\\Desktop\\CDrift_Evaluation\\evaluate_results.ipynb Cell 26\u001b[0m in \u001b[0;36mcalcLatency\u001b[1;34m(df, param_names, lag_window)\u001b[0m\n\u001b[0;32m      <a href='vscode-notebook-cell:/c%3A/Users/Cam/Desktop/CDrift_Evaluation/evaluate_results.ipynb#X31sZmlsZQ%3D%3D?line=7'>8</a>\u001b[0m actual_cp \u001b[39m=\u001b[39m row[\u001b[39m\"\u001b[39m\u001b[39mActual Changepoints for Log\u001b[39m\u001b[39m\"\u001b[39m]\n\u001b[0;32m      <a href='vscode-notebook-cell:/c%3A/Users/Cam/Desktop/CDrift_Evaluation/evaluate_results.ipynb#X31sZmlsZQ%3D%3D?line=8'>9</a>\u001b[0m detected_cp \u001b[39m=\u001b[39m row[\u001b[39m\"\u001b[39m\u001b[39mDetected Changepoints\u001b[39m\u001b[39m\"\u001b[39m]\n\u001b[1;32m---> <a href='vscode-notebook-cell:/c%3A/Users/Cam/Desktop/CDrift_Evaluation/evaluate_results.ipynb#X31sZmlsZQ%3D%3D?line=9'>10</a>\u001b[0m assignments \u001b[39m=\u001b[39m evaluation\u001b[39m.\u001b[39;49massign_changepoints(detected_cp, actual_cp)\n\u001b[0;32m     <a href='vscode-notebook-cell:/c%3A/Users/Cam/Desktop/CDrift_Evaluation/evaluate_results.ipynb#X31sZmlsZQ%3D%3D?line=10'>11</a>\u001b[0m \u001b[39mfor\u001b[39;00m d,a \u001b[39min\u001b[39;00m assignments:\n\u001b[0;32m     <a href='vscode-notebook-cell:/c%3A/Users/Cam/Desktop/CDrift_Evaluation/evaluate_results.ipynb#X31sZmlsZQ%3D%3D?line=11'>12</a>\u001b[0m     lags\u001b[39m.\u001b[39mappend(\u001b[39mabs\u001b[39m(d\u001b[39m-\u001b[39ma))\n",
      "File \u001b[1;32mc:\\Users\\Cam\\Desktop\\CDrift_Evaluation\\cdrift\\evaluation.py:194\u001b[0m, in \u001b[0;36massign_changepoints\u001b[1;34m(detected_changepoints, actual_changepoints, lag_window)\u001b[0m\n\u001b[0;32m    185\u001b[0m prob1, prob1_vars \u001b[39m=\u001b[39m buildProb_NoObjective(LpMaximize)\n\u001b[0;32m    186\u001b[0m prob1 \u001b[39m+\u001b[39m\u001b[39m=\u001b[39m (\n\u001b[0;32m    187\u001b[0m     lpSum(\n\u001b[0;32m    188\u001b[0m         \u001b[39m# Minimize the squared distance between assigned changepoints\u001b[39;00m\n\u001b[1;32m   (...)\u001b[0m\n\u001b[0;32m    192\u001b[0m     \u001b[39m\"\u001b[39m\u001b[39mMaximize number of assignments\u001b[39m\u001b[39m\"\u001b[39m\n\u001b[0;32m    193\u001b[0m )\n\u001b[1;32m--> 194\u001b[0m prob1\u001b[39m.\u001b[39;49msolve(solver)\n\u001b[0;32m    195\u001b[0m \u001b[39m# Calculate number of TP\u001b[39;00m\n\u001b[0;32m    196\u001b[0m num_tp \u001b[39m=\u001b[39m \u001b[39mlen\u001b[39m([\n\u001b[0;32m    197\u001b[0m     (dp, ap)\n\u001b[0;32m    198\u001b[0m     \u001b[39mfor\u001b[39;00m dp \u001b[39min\u001b[39;00m detected_changepoints \u001b[39mfor\u001b[39;00m ap \u001b[39min\u001b[39;00m actual_changepoints\n\u001b[0;32m    199\u001b[0m     \u001b[39mif\u001b[39;00m prob1_vars[dp, ap]\u001b[39m.\u001b[39mvarValue \u001b[39m==\u001b[39m \u001b[39m1\u001b[39m\n\u001b[0;32m    200\u001b[0m ])\n",
      "File \u001b[1;32mc:\\Users\\Cam\\AppData\\Local\\Programs\\Python\\Python310\\lib\\site-packages\\pulp\\pulp.py:1913\u001b[0m, in \u001b[0;36mLpProblem.solve\u001b[1;34m(self, solver, **kwargs)\u001b[0m\n\u001b[0;32m   1911\u001b[0m \u001b[39m# time it\u001b[39;00m\n\u001b[0;32m   1912\u001b[0m \u001b[39mself\u001b[39m\u001b[39m.\u001b[39mstartClock()\n\u001b[1;32m-> 1913\u001b[0m status \u001b[39m=\u001b[39m solver\u001b[39m.\u001b[39mactualSolve(\u001b[39mself\u001b[39m, \u001b[39m*\u001b[39m\u001b[39m*\u001b[39mkwargs)\n\u001b[0;32m   1914\u001b[0m \u001b[39mself\u001b[39m\u001b[39m.\u001b[39mstopClock()\n\u001b[0;32m   1915\u001b[0m \u001b[39mself\u001b[39m\u001b[39m.\u001b[39mrestoreObjective(wasNone, dummyVar)\n",
      "File \u001b[1;32mc:\\Users\\Cam\\AppData\\Local\\Programs\\Python\\Python310\\lib\\site-packages\\pulp\\apis\\coin_api.py:137\u001b[0m, in \u001b[0;36mCOIN_CMD.actualSolve\u001b[1;34m(self, lp, **kwargs)\u001b[0m\n\u001b[0;32m    135\u001b[0m \u001b[39mdef\u001b[39;00m \u001b[39mactualSolve\u001b[39m(\u001b[39mself\u001b[39m, lp, \u001b[39m*\u001b[39m\u001b[39m*\u001b[39mkwargs):\n\u001b[0;32m    136\u001b[0m     \u001b[39m\"\"\"Solve a well formulated lp problem\"\"\"\u001b[39;00m\n\u001b[1;32m--> 137\u001b[0m     \u001b[39mreturn\u001b[39;00m \u001b[39mself\u001b[39m\u001b[39m.\u001b[39msolve_CBC(lp, \u001b[39m*\u001b[39m\u001b[39m*\u001b[39mkwargs)\n",
      "File \u001b[1;32mc:\\Users\\Cam\\AppData\\Local\\Programs\\Python\\Python310\\lib\\site-packages\\pulp\\apis\\coin_api.py:195\u001b[0m, in \u001b[0;36mCOIN_CMD.solve_CBC\u001b[1;34m(self, lp, use_mps)\u001b[0m\n\u001b[0;32m    193\u001b[0m args\u001b[39m.\u001b[39mextend(cmds[\u001b[39m1\u001b[39m:]\u001b[39m.\u001b[39msplit())\n\u001b[0;32m    194\u001b[0m cbc \u001b[39m=\u001b[39m subprocess\u001b[39m.\u001b[39mPopen(args, stdout\u001b[39m=\u001b[39mpipe, stderr\u001b[39m=\u001b[39mpipe, stdin\u001b[39m=\u001b[39mdevnull)\n\u001b[1;32m--> 195\u001b[0m \u001b[39mif\u001b[39;00m cbc\u001b[39m.\u001b[39;49mwait() \u001b[39m!=\u001b[39m \u001b[39m0\u001b[39m:\n\u001b[0;32m    196\u001b[0m     \u001b[39mif\u001b[39;00m pipe:\n\u001b[0;32m    197\u001b[0m         pipe\u001b[39m.\u001b[39mclose()\n",
      "File \u001b[1;32mc:\\Users\\Cam\\AppData\\Local\\Programs\\Python\\Python310\\lib\\subprocess.py:1207\u001b[0m, in \u001b[0;36mPopen.wait\u001b[1;34m(self, timeout)\u001b[0m\n\u001b[0;32m   1205\u001b[0m     endtime \u001b[39m=\u001b[39m _time() \u001b[39m+\u001b[39m timeout\n\u001b[0;32m   1206\u001b[0m \u001b[39mtry\u001b[39;00m:\n\u001b[1;32m-> 1207\u001b[0m     \u001b[39mreturn\u001b[39;00m \u001b[39mself\u001b[39;49m\u001b[39m.\u001b[39;49m_wait(timeout\u001b[39m=\u001b[39;49mtimeout)\n\u001b[0;32m   1208\u001b[0m \u001b[39mexcept\u001b[39;00m \u001b[39mKeyboardInterrupt\u001b[39;00m:\n\u001b[0;32m   1209\u001b[0m     \u001b[39m# https://bugs.python.org/issue25942\u001b[39;00m\n\u001b[0;32m   1210\u001b[0m     \u001b[39m# The first keyboard interrupt waits briefly for the child to\u001b[39;00m\n\u001b[0;32m   1211\u001b[0m     \u001b[39m# exit under the common assumption that it also received the ^C\u001b[39;00m\n\u001b[0;32m   1212\u001b[0m     \u001b[39m# generated SIGINT and will exit rapidly.\u001b[39;00m\n\u001b[0;32m   1213\u001b[0m     \u001b[39mif\u001b[39;00m timeout \u001b[39mis\u001b[39;00m \u001b[39mnot\u001b[39;00m \u001b[39mNone\u001b[39;00m:\n",
      "File \u001b[1;32mc:\\Users\\Cam\\AppData\\Local\\Programs\\Python\\Python310\\lib\\subprocess.py:1488\u001b[0m, in \u001b[0;36mPopen._wait\u001b[1;34m(self, timeout)\u001b[0m\n\u001b[0;32m   1485\u001b[0m     timeout_millis \u001b[39m=\u001b[39m \u001b[39mint\u001b[39m(timeout \u001b[39m*\u001b[39m \u001b[39m1000\u001b[39m)\n\u001b[0;32m   1486\u001b[0m \u001b[39mif\u001b[39;00m \u001b[39mself\u001b[39m\u001b[39m.\u001b[39mreturncode \u001b[39mis\u001b[39;00m \u001b[39mNone\u001b[39;00m:\n\u001b[0;32m   1487\u001b[0m     \u001b[39m# API note: Returns immediately if timeout_millis == 0.\u001b[39;00m\n\u001b[1;32m-> 1488\u001b[0m     result \u001b[39m=\u001b[39m _winapi\u001b[39m.\u001b[39;49mWaitForSingleObject(\u001b[39mself\u001b[39;49m\u001b[39m.\u001b[39;49m_handle,\n\u001b[0;32m   1489\u001b[0m                                          timeout_millis)\n\u001b[0;32m   1490\u001b[0m     \u001b[39mif\u001b[39;00m result \u001b[39m==\u001b[39m _winapi\u001b[39m.\u001b[39mWAIT_TIMEOUT:\n\u001b[0;32m   1491\u001b[0m         \u001b[39mraise\u001b[39;00m TimeoutExpired(\u001b[39mself\u001b[39m\u001b[39m.\u001b[39margs, timeout)\n",
      "\u001b[1;31mKeyboardInterrupt\u001b[0m: "
     ]
    }
   ],
   "source": [
    "\n",
    "# assert computed_accuracy_dicts.keys() == computed_latency_dicts.keys() == versatilities.keys()\n",
    "# robustnesses = dict()\n",
    "# robust_harm_means = dict()\n",
    "# for name, d in dfs_noisy:\n",
    "#     # Have to calculate them here, because this is the only place where we use the noisy logs\t\n",
    "#     acc = calcAccuracy(d, used_parameters[name], LAG_WINDOW)\n",
    "#     lat = calcLatency(d, used_parameters[name], LAG_WINDOW)\n",
    "#     vers = calcVersatility(d, used_parameters[name])\n",
    "#     robustnesses[name] = min(\n",
    "#         try_calc_stdev([\n",
    "#             harmonic_mean([acc[param_choice], vers[param_choice], lat[param_choice]])\n",
    "#         ])\n",
    "#         for param_choice in acc.keys()\n",
    "#     )\n",
    "# robustnesses"
   ]
  },
  {
   "cell_type": "code",
   "execution_count": 81,
   "metadata": {},
   "outputs": [
    {
     "name": "stdout",
     "output_type": "stream",
     "text": [
      "Zheng DBSCAN: 0.010884763436068402\n",
      "ProDrift: 0.032457033054624614\n",
      "Bose J: 0.11493188864073595\n",
      "Bose WC: 0.12284200545503243\n",
      "Earth Mover's Distance: 0.03966485476772907\n"
     ]
    }
   ],
   "source": [
    "# IF F1 F1-SCORE OR LATENCY IS NAN, DISREGARD THIS SAMPLE IN THE CALCULATION OF THE STANDARD DEVIATION\n",
    "\n",
    "robustnesses = dict()\n",
    "std_dicts = dict()\n",
    "for name, a_df in dfs:\n",
    "    if name in [\"Process Graph Metrics\"] or name.startswith(\"Martjushev\"):\n",
    "        continue\n",
    "    standard_deviations = dict()\n",
    "    for params, group in a_df.groupby(used_parameters[name]):\n",
    "        results = []\n",
    "        for idx, row in group.iterrows():\n",
    "            detected = row[\"Detected Changepoints\"]\n",
    "            actual  = row[\"Actual Changepoints for Log\"]\n",
    "            accuracy = evaluation.F1_Score(detected, actual, LAG_WINDOW, zero_division=np.NaN)\n",
    "            latency = 1 - (evaluation.get_avg_lag(detected, actual , LAG_WINDOW)/LAG_WINDOW) # Average lag on this log, scaled 0 to 1\n",
    "            result = harmonic_mean([accuracy, latency])\n",
    "            if not np.isnan(result):\n",
    "                results.append(mean([accuracy, latency]))\n",
    "        standard_deviations[params] = stdev(results)\n",
    "    robustnesses[name] = min(standard_deviations.values())\n",
    "    std_dicts[name] = standard_deviations\n",
    "    print(f\"{name}: {robustnesses[name]}\")"
   ]
  },
  {
   "cell_type": "markdown",
   "metadata": {},
   "source": [
    "## Save Results"
   ]
  },
  {
   "cell_type": "code",
   "execution_count": null,
   "metadata": {},
   "outputs": [],
   "source": [
    "pd.DataFrame([\n",
    "    {\n",
    "        \"Algorithm\": name,\n",
    "        \"Accuracy\": accuracies[name],\n",
    "        \"Latency\": latencies[name],\n",
    "        \"Versatility:\": versatilities[name],\n",
    "        \"Scalability\": scalabilities[name][\"str\"],\n",
    "        \"Parameter Sensitivity (STD)\": sensitivity_stds[name],\n",
    "        \"Robustness\": robustnesses[name]\n",
    "    }\n",
    "    for name in df[\"Algorithm\"].unique()\n",
    "]).to_csv(\"evaluation_measures.csv\", index=False)"
   ]
  }
 ],
 "metadata": {
  "kernelspec": {
   "display_name": "Python 3.10.5 64-bit",
   "language": "python",
   "name": "python3"
  },
  "language_info": {
   "codemirror_mode": {
    "name": "ipython",
    "version": 3
   },
   "file_extension": ".py",
   "mimetype": "text/x-python",
   "name": "python",
   "nbconvert_exporter": "python",
   "pygments_lexer": "ipython3",
   "version": "3.10.5"
  },
  "orig_nbformat": 4,
  "vscode": {
   "interpreter": {
    "hash": "c0efd6421cd58cc5766031ee19a1051d9d94a373055e86f710d77da54df41529"
   }
  }
 },
 "nbformat": 4,
 "nbformat_minor": 2
}
