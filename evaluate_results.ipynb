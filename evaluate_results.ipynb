{
 "cells": [
  {
   "cell_type": "code",
   "execution_count": 52,
   "metadata": {},
   "outputs": [],
   "source": [
    "import matplotlib.pyplot as plt\n",
    "import pandas as pd\n",
    "from cdrift import evaluation\n",
    "from cdrift.utils.helpers import readCSV_Lists, convertToTimedelta\n",
    "import numpy as np\n",
    "from datetime import datetime\n",
    "from statistics import mean, harmonic_mean, stdev\n",
    "\n",
    "LAG_WINDOW = 200"
   ]
  },
  {
   "cell_type": "markdown",
   "metadata": {},
   "source": [
    "### Read the CSV and split by approach"
   ]
  },
  {
   "cell_type": "code",
   "execution_count": 53,
   "metadata": {},
   "outputs": [
    {
     "name": "stdout",
     "output_type": "stream",
     "text": [
      "Process Graph Metrics contains duplicate rows: True\n",
      "Martjushev ADWIN J contains duplicate rows: True\n",
      "Martjushev ADWIN WC contains duplicate rows: True\n",
      "Zheng DBSCAN contains duplicate rows: False\n",
      "Maaradji Runs contains duplicate rows: False\n",
      "Bose J contains duplicate rows: False\n",
      "Bose WC contains duplicate rows: False\n",
      "Earth Mover's Distance contains duplicate rows: False\n"
     ]
    }
   ],
   "source": [
    "df = readCSV_Lists(\"evaluation_results.csv\")\n",
    "\n",
    "def split_by_name(df):\n",
    "    return [\n",
    "        (alg, df[df[\"Algorithm\"] == alg])\n",
    "        for alg in df[\"Algorithm\"].unique()\n",
    "    ]\n",
    "\n",
    "dfs = split_by_name(df)\n",
    "df.Algorithm.unique()\n",
    "\n",
    "for name, d in split_by_name(pd.read_csv(\"evaluation_results.csv\")):\n",
    "    print(f\"{name} contains duplicate rows: {d.duplicated().any()}\")"
   ]
  },
  {
   "cell_type": "code",
   "execution_count": 54,
   "metadata": {},
   "outputs": [
    {
     "data": {
      "text/html": [
       "<div>\n",
       "<style scoped>\n",
       "    .dataframe tbody tr th:only-of-type {\n",
       "        vertical-align: middle;\n",
       "    }\n",
       "\n",
       "    .dataframe tbody tr th {\n",
       "        vertical-align: top;\n",
       "    }\n",
       "\n",
       "    .dataframe thead th {\n",
       "        text-align: right;\n",
       "    }\n",
       "</style>\n",
       "<table border=\"1\" class=\"dataframe\">\n",
       "  <thead>\n",
       "    <tr style=\"text-align: right;\">\n",
       "      <th></th>\n",
       "      <th>Algorithm</th>\n",
       "      <th>Log Source</th>\n",
       "      <th>Log</th>\n",
       "      <th>Min Adaptive Window</th>\n",
       "      <th>Max Adaptive Window</th>\n",
       "      <th>Detected Changepoints</th>\n",
       "      <th>Actual Changepoints for Log</th>\n",
       "      <th>F1-Score</th>\n",
       "      <th>Average Lag</th>\n",
       "      <th>Duration</th>\n",
       "      <th>P-Value</th>\n",
       "      <th>MRID</th>\n",
       "      <th>Epsilon</th>\n",
       "      <th>Window Size</th>\n",
       "      <th>SW Step Size</th>\n",
       "    </tr>\n",
       "  </thead>\n",
       "  <tbody>\n",
       "    <tr>\n",
       "      <th>15667</th>\n",
       "      <td>Martjushev ADWIN J</td>\n",
       "      <td>Ostovar</td>\n",
       "      <td>Atomic_ConditionalRemoval_output_ConditionalRe...</td>\n",
       "      <td>400.0</td>\n",
       "      <td>400.0</td>\n",
       "      <td>[]</td>\n",
       "      <td>[999, 1999]</td>\n",
       "      <td>NaN</td>\n",
       "      <td>NaN</td>\n",
       "      <td>00:06:51</td>\n",
       "      <td>0.4</td>\n",
       "      <td>NaN</td>\n",
       "      <td>NaN</td>\n",
       "      <td>NaN</td>\n",
       "      <td>NaN</td>\n",
       "    </tr>\n",
       "    <tr>\n",
       "      <th>18401</th>\n",
       "      <td>Martjushev ADWIN J</td>\n",
       "      <td>Ostovar</td>\n",
       "      <td>Atomic_ConditionalRemoval_output_ConditionalRe...</td>\n",
       "      <td>400.0</td>\n",
       "      <td>400.0</td>\n",
       "      <td>[]</td>\n",
       "      <td>[999, 1999]</td>\n",
       "      <td>NaN</td>\n",
       "      <td>NaN</td>\n",
       "      <td>00:06:51</td>\n",
       "      <td>0.4</td>\n",
       "      <td>NaN</td>\n",
       "      <td>NaN</td>\n",
       "      <td>NaN</td>\n",
       "      <td>NaN</td>\n",
       "    </tr>\n",
       "    <tr>\n",
       "      <th>1313</th>\n",
       "      <td>Martjushev ADWIN J</td>\n",
       "      <td>Ostovar</td>\n",
       "      <td>Atomic_Frequency_output_Frequency</td>\n",
       "      <td>300.0</td>\n",
       "      <td>500.0</td>\n",
       "      <td>[499]</td>\n",
       "      <td>[999, 1999]</td>\n",
       "      <td>NaN</td>\n",
       "      <td>NaN</td>\n",
       "      <td>00:02:28</td>\n",
       "      <td>0.4</td>\n",
       "      <td>NaN</td>\n",
       "      <td>NaN</td>\n",
       "      <td>NaN</td>\n",
       "      <td>NaN</td>\n",
       "    </tr>\n",
       "    <tr>\n",
       "      <th>24888</th>\n",
       "      <td>Martjushev ADWIN J</td>\n",
       "      <td>Ostovar</td>\n",
       "      <td>Atomic_Frequency_output_Frequency</td>\n",
       "      <td>300.0</td>\n",
       "      <td>500.0</td>\n",
       "      <td>[499]</td>\n",
       "      <td>[999, 1999]</td>\n",
       "      <td>NaN</td>\n",
       "      <td>NaN</td>\n",
       "      <td>00:02:28</td>\n",
       "      <td>0.4</td>\n",
       "      <td>NaN</td>\n",
       "      <td>NaN</td>\n",
       "      <td>NaN</td>\n",
       "      <td>NaN</td>\n",
       "    </tr>\n",
       "    <tr>\n",
       "      <th>5844</th>\n",
       "      <td>Martjushev ADWIN J</td>\n",
       "      <td>Ostovar</td>\n",
       "      <td>Atomic_Frequency_output_Frequency_2</td>\n",
       "      <td>100.0</td>\n",
       "      <td>400.0</td>\n",
       "      <td>[]</td>\n",
       "      <td>[999, 1999]</td>\n",
       "      <td>NaN</td>\n",
       "      <td>NaN</td>\n",
       "      <td>00:03:46</td>\n",
       "      <td>0.4</td>\n",
       "      <td>NaN</td>\n",
       "      <td>NaN</td>\n",
       "      <td>NaN</td>\n",
       "      <td>NaN</td>\n",
       "    </tr>\n",
       "    <tr>\n",
       "      <th>...</th>\n",
       "      <td>...</td>\n",
       "      <td>...</td>\n",
       "      <td>...</td>\n",
       "      <td>...</td>\n",
       "      <td>...</td>\n",
       "      <td>...</td>\n",
       "      <td>...</td>\n",
       "      <td>...</td>\n",
       "      <td>...</td>\n",
       "      <td>...</td>\n",
       "      <td>...</td>\n",
       "      <td>...</td>\n",
       "      <td>...</td>\n",
       "      <td>...</td>\n",
       "      <td>...</td>\n",
       "    </tr>\n",
       "    <tr>\n",
       "      <th>26497</th>\n",
       "      <td>Martjushev ADWIN J</td>\n",
       "      <td>Ceravolo</td>\n",
       "      <td>sudden_trace_noise5_1000_sw</td>\n",
       "      <td>300.0</td>\n",
       "      <td>700.0</td>\n",
       "      <td>[]</td>\n",
       "      <td>[499]</td>\n",
       "      <td>NaN</td>\n",
       "      <td>NaN</td>\n",
       "      <td>00:00:09</td>\n",
       "      <td>0.4</td>\n",
       "      <td>NaN</td>\n",
       "      <td>NaN</td>\n",
       "      <td>NaN</td>\n",
       "      <td>NaN</td>\n",
       "    </tr>\n",
       "    <tr>\n",
       "      <th>14630</th>\n",
       "      <td>Martjushev ADWIN J</td>\n",
       "      <td>Ceravolo</td>\n",
       "      <td>sudden_trace_noise5_1000_sw</td>\n",
       "      <td>400.0</td>\n",
       "      <td>400.0</td>\n",
       "      <td>[]</td>\n",
       "      <td>[499]</td>\n",
       "      <td>NaN</td>\n",
       "      <td>NaN</td>\n",
       "      <td>00:00:07</td>\n",
       "      <td>0.4</td>\n",
       "      <td>NaN</td>\n",
       "      <td>NaN</td>\n",
       "      <td>NaN</td>\n",
       "      <td>NaN</td>\n",
       "    </tr>\n",
       "    <tr>\n",
       "      <th>26028</th>\n",
       "      <td>Martjushev ADWIN J</td>\n",
       "      <td>Ceravolo</td>\n",
       "      <td>sudden_trace_noise5_1000_sw</td>\n",
       "      <td>400.0</td>\n",
       "      <td>400.0</td>\n",
       "      <td>[]</td>\n",
       "      <td>[499]</td>\n",
       "      <td>NaN</td>\n",
       "      <td>NaN</td>\n",
       "      <td>00:00:07</td>\n",
       "      <td>0.4</td>\n",
       "      <td>NaN</td>\n",
       "      <td>NaN</td>\n",
       "      <td>NaN</td>\n",
       "      <td>NaN</td>\n",
       "    </tr>\n",
       "    <tr>\n",
       "      <th>1324</th>\n",
       "      <td>Martjushev ADWIN J</td>\n",
       "      <td>Ceravolo</td>\n",
       "      <td>sudden_trace_noise5_1000_sw</td>\n",
       "      <td>400.0</td>\n",
       "      <td>700.0</td>\n",
       "      <td>[]</td>\n",
       "      <td>[499]</td>\n",
       "      <td>NaN</td>\n",
       "      <td>NaN</td>\n",
       "      <td>00:00:06</td>\n",
       "      <td>0.4</td>\n",
       "      <td>NaN</td>\n",
       "      <td>NaN</td>\n",
       "      <td>NaN</td>\n",
       "      <td>NaN</td>\n",
       "    </tr>\n",
       "    <tr>\n",
       "      <th>18526</th>\n",
       "      <td>Martjushev ADWIN J</td>\n",
       "      <td>Ceravolo</td>\n",
       "      <td>sudden_trace_noise5_1000_sw</td>\n",
       "      <td>400.0</td>\n",
       "      <td>700.0</td>\n",
       "      <td>[]</td>\n",
       "      <td>[499]</td>\n",
       "      <td>NaN</td>\n",
       "      <td>NaN</td>\n",
       "      <td>00:00:06</td>\n",
       "      <td>0.4</td>\n",
       "      <td>NaN</td>\n",
       "      <td>NaN</td>\n",
       "      <td>NaN</td>\n",
       "      <td>NaN</td>\n",
       "    </tr>\n",
       "  </tbody>\n",
       "</table>\n",
       "<p>978 rows × 15 columns</p>\n",
       "</div>"
      ],
      "text/plain": [
       "                Algorithm Log Source  \\\n",
       "15667  Martjushev ADWIN J    Ostovar   \n",
       "18401  Martjushev ADWIN J    Ostovar   \n",
       "1313   Martjushev ADWIN J    Ostovar   \n",
       "24888  Martjushev ADWIN J    Ostovar   \n",
       "5844   Martjushev ADWIN J    Ostovar   \n",
       "...                   ...        ...   \n",
       "26497  Martjushev ADWIN J   Ceravolo   \n",
       "14630  Martjushev ADWIN J   Ceravolo   \n",
       "26028  Martjushev ADWIN J   Ceravolo   \n",
       "1324   Martjushev ADWIN J   Ceravolo   \n",
       "18526  Martjushev ADWIN J   Ceravolo   \n",
       "\n",
       "                                                     Log  Min Adaptive Window  \\\n",
       "15667  Atomic_ConditionalRemoval_output_ConditionalRe...                400.0   \n",
       "18401  Atomic_ConditionalRemoval_output_ConditionalRe...                400.0   \n",
       "1313                   Atomic_Frequency_output_Frequency                300.0   \n",
       "24888                  Atomic_Frequency_output_Frequency                300.0   \n",
       "5844                 Atomic_Frequency_output_Frequency_2                100.0   \n",
       "...                                                  ...                  ...   \n",
       "26497                        sudden_trace_noise5_1000_sw                300.0   \n",
       "14630                        sudden_trace_noise5_1000_sw                400.0   \n",
       "26028                        sudden_trace_noise5_1000_sw                400.0   \n",
       "1324                         sudden_trace_noise5_1000_sw                400.0   \n",
       "18526                        sudden_trace_noise5_1000_sw                400.0   \n",
       "\n",
       "       Max Adaptive Window Detected Changepoints Actual Changepoints for Log  \\\n",
       "15667                400.0                    []                 [999, 1999]   \n",
       "18401                400.0                    []                 [999, 1999]   \n",
       "1313                 500.0                 [499]                 [999, 1999]   \n",
       "24888                500.0                 [499]                 [999, 1999]   \n",
       "5844                 400.0                    []                 [999, 1999]   \n",
       "...                    ...                   ...                         ...   \n",
       "26497                700.0                    []                       [499]   \n",
       "14630                400.0                    []                       [499]   \n",
       "26028                400.0                    []                       [499]   \n",
       "1324                 700.0                    []                       [499]   \n",
       "18526                700.0                    []                       [499]   \n",
       "\n",
       "       F1-Score  Average Lag  Duration  P-Value  MRID  Epsilon  Window Size  \\\n",
       "15667       NaN          NaN  00:06:51      0.4   NaN      NaN          NaN   \n",
       "18401       NaN          NaN  00:06:51      0.4   NaN      NaN          NaN   \n",
       "1313        NaN          NaN  00:02:28      0.4   NaN      NaN          NaN   \n",
       "24888       NaN          NaN  00:02:28      0.4   NaN      NaN          NaN   \n",
       "5844        NaN          NaN  00:03:46      0.4   NaN      NaN          NaN   \n",
       "...         ...          ...       ...      ...   ...      ...          ...   \n",
       "26497       NaN          NaN  00:00:09      0.4   NaN      NaN          NaN   \n",
       "14630       NaN          NaN  00:00:07      0.4   NaN      NaN          NaN   \n",
       "26028       NaN          NaN  00:00:07      0.4   NaN      NaN          NaN   \n",
       "1324        NaN          NaN  00:00:06      0.4   NaN      NaN          NaN   \n",
       "18526       NaN          NaN  00:00:06      0.4   NaN      NaN          NaN   \n",
       "\n",
       "       SW Step Size  \n",
       "15667           NaN  \n",
       "18401           NaN  \n",
       "1313            NaN  \n",
       "24888           NaN  \n",
       "5844            NaN  \n",
       "...             ...  \n",
       "26497           NaN  \n",
       "14630           NaN  \n",
       "26028           NaN  \n",
       "1324            NaN  \n",
       "18526           NaN  \n",
       "\n",
       "[978 rows x 15 columns]"
      ]
     },
     "execution_count": 54,
     "metadata": {},
     "output_type": "execute_result"
    }
   ],
   "source": [
    "df_csv = pd.read_csv(\"evaluation_results.csv\")\n",
    "df_m = df_csv[df_csv[\"Algorithm\"] == \"Martjushev ADWIN J\"]\n",
    "df_m[df_m.duplicated(keep=False)].sort_values(by=[\"Log\", \"Min Adaptive Window\", \"Max Adaptive Window\", \"Duration\", \"Detected Changepoints\"])"
   ]
  },
  {
   "cell_type": "markdown",
   "metadata": {},
   "source": [
    "### Split into noisy/noiseful logs"
   ]
  },
  {
   "cell_type": "code",
   "execution_count": 55,
   "metadata": {},
   "outputs": [],
   "source": [
    "logs = zip(df[\"Log Source\"], df[\"Log\"])\n",
    "\n",
    "noiseless_logs = {\n",
    "    log for source, log in logs if \n",
    "    (source == \"Ostovar\"  and not (log.endswith(\"_2\") or log.endswith(\"_5\"))) or\n",
    "    (source == \"Ceravolo\" and log.split(\"_\")[2]==\"noise0\") or\n",
    "    source == \"Bose\"\n",
    "}\n",
    "\n",
    "df_noiseless = df[df[\"Log\"].isin(noiseless_logs)]\n",
    "df_noisy = df[df[\"Log\"].isin(noiseless_logs) == False]\n",
    "\n",
    "dfs_noisy = split_by_name(df_noisy)\n",
    "dfs_noiseless = split_by_name(df_noiseless)"
   ]
  },
  {
   "cell_type": "markdown",
   "metadata": {},
   "source": [
    "## Accuracy\n",
    "- All Change-Patterns\n",
    "- Only 0 Noise\n",
    "- Max cummulative *Recall* achieved of all parameter settings"
   ]
  },
  {
   "cell_type": "code",
   "execution_count": 56,
   "metadata": {},
   "outputs": [
    {
     "data": {
      "text/plain": [
       "array(['Process Graph Metrics', 'Martjushev ADWIN J',\n",
       "       'Martjushev ADWIN WC', 'Zheng DBSCAN', 'Maaradji Runs', 'Bose J',\n",
       "       'Bose WC', \"Earth Mover's Distance\"], dtype=object)"
      ]
     },
     "execution_count": 56,
     "metadata": {},
     "output_type": "execute_result"
    }
   ],
   "source": [
    "df[\"Algorithm\"].unique()"
   ]
  },
  {
   "cell_type": "code",
   "execution_count": 57,
   "metadata": {},
   "outputs": [
    {
     "name": "stdout",
     "output_type": "stream",
     "text": [
      "Process Graph Metrics: 0.7210144927536232\n",
      "Martjushev ADWIN J: 0.7536231884057971\n",
      "Martjushev ADWIN WC: nan\n",
      "Zheng DBSCAN: 0.9420289855072463\n",
      "Earth Mover's Distance: 0.9420289855072463\n",
      "Bose J: 0.8840579710144928\n",
      "Bose WC: 0.7681159420289855\n",
      "Maaradji Runs: 0.42028985507246375\n"
     ]
    }
   ],
   "source": [
    "bose_j_df = df_noiseless[df_noiseless[\"Algorithm\"] == \"Bose J\"]\n",
    "bose_wc_df = df_noiseless[df_noiseless[\"Algorithm\"] == \"Bose WC\"]\n",
    "\n",
    "bose_j_accuracies = dict() # Mapping tuple of parameter values to achieved accuracy\n",
    "\n",
    "used_parameters = {\n",
    "        \"Bose J\": [\"Window Size\", \"SW Step Size\"],\n",
    "        \"Bose WC\": [\"Window Size\", \"SW Step Size\"],\n",
    "        \"Martjushev ADWIN J\": [\"Min Adaptive Window\", \"Max Adaptive Window\", \"P-Value\"],\n",
    "        \"Martjushev ADWIN WC\": [\"Min Adaptive Window\", \"Max Adaptive Window\", \"P-Value\"],\n",
    "        \"Maaradji Runs\": [\"Window Size\"],#, \"SW Step Size\"],\n",
    "        \"Earth Mover's Distance\": [\"Window Size\", \"SW Step Size\"],\n",
    "        # Forgot to write down PValue for Process Graph Metrics\n",
    "        # \"Process Graph Metrics\": [\"Min Adaptive Window\", \"Max Adaptive Window\", \"P-Value\"],\n",
    "        # Ignore PValue for now\n",
    "        \"Process Graph Metrics\": [\"Min Adaptive Window\", \"Max Adaptive Window\"],\n",
    "        \"Zheng DBSCAN\": [\"MRID\", \"Epsilon\"]\n",
    "    }\n",
    "\n",
    "\n",
    "\n",
    "def calcAccuracy(df, param_names, lag_window):\n",
    "    accuracies = dict()\n",
    "    # Group by parameter values to calculate accuracy per parameter setting, over all logs\n",
    "    for parameters, group in df.groupby(by=param_names):\n",
    "        # Calculate Accuracy for this parameter setting\n",
    "        ## --> F1-Score, but first collect all TP and FP\n",
    "        tps = 0\n",
    "        fps = 0\n",
    "        positives = 0\n",
    "        detected = 0\n",
    "\n",
    "        # Collect TP FP, etc. \n",
    "        for index, row in group.iterrows():\n",
    "            actual_cp = row[\"Actual Changepoints for Log\"]\n",
    "            detected_cp = row[\"Detected Changepoints\"]\n",
    "            tp, fp = evaluation.getTP_FP(detected_cp, actual_cp, lag_window)\n",
    "            tps += tp\n",
    "            fps += fp\n",
    "            positives += len(actual_cp)\n",
    "            detected += len(detected_cp)\n",
    "        if positives != 0 and detected != 0:\n",
    "            precision = tps / detected\n",
    "            recall = tps / positives\n",
    "            accuracies[parameters] = recall\n",
    "        else:\n",
    "            accuracies[parameters] = np.NaN\n",
    "    return accuracies\n",
    "\n",
    "computed_accuracy_dicts = dict()\n",
    "accuracies = dict()\n",
    "for name, a_df in dfs_noiseless:\n",
    "    result = calcAccuracy(a_df, used_parameters[name], LAG_WINDOW)\n",
    "    computed_accuracy_dicts[name] = result\n",
    "    accuracies[name] = max(result.values())\n",
    "    print(f\"{name}: {accuracies[name]}\")"
   ]
  },
  {
   "cell_type": "markdown",
   "metadata": {},
   "source": [
    "## Latency\n",
    "- Using best parameter setting\n",
    "- Same logs as above"
   ]
  },
  {
   "cell_type": "code",
   "execution_count": 58,
   "metadata": {},
   "outputs": [
    {
     "name": "stdout",
     "output_type": "stream",
     "text": [
      "Process Graph Metrics: 88.95959595959594 Traces; Score: 0.5552020202020203\n",
      "Martjushev ADWIN J: 80.13669064748201 Traces; Score: 0.5993165467625899\n",
      "Martjushev ADWIN WC: nan Traces; Score: nan\n",
      "Zheng DBSCAN: 70.32887753478892 Traces; Score: 0.6483556123260554\n",
      "Earth Mover's Distance: 57.76923076923075 Traces; Score: 0.7111538461538462\n",
      "Bose J: 66.20833333333334 Traces; Score: 0.6689583333333333\n",
      "Bose WC: 87.05882352941177 Traces; Score: 0.5647058823529412\n",
      "Maaradji Runs: 62.904761904761905 Traces; Score: 0.6854761904761905\n"
     ]
    }
   ],
   "source": [
    "from statistics import mean\n",
    "def calcLatency(df, param_names, lag_window):\n",
    "    latencies = dict()\n",
    "    for parameters, group in df.groupby(by=param_names):\n",
    "        # Calculate Accuracy for this parameter setting\n",
    "        lags = []\n",
    "        for index, row in group.iterrows():\n",
    "            actual_cp = row[\"Actual Changepoints for Log\"]\n",
    "            detected_cp = row[\"Detected Changepoints\"]\n",
    "            assignments = evaluation.assign_changepoints(detected_cp, actual_cp)\n",
    "            for d,a in assignments:\n",
    "                lags.append(abs(d-a))\n",
    "        if len(lags) != 0:\n",
    "            # Scale Latency from 0 to 1\n",
    "            avg_lag = 1-(mean(lags)/lag_window)\n",
    "        else:\n",
    "            avg_lag = np.NaN\n",
    "        latencies[parameters] = avg_lag\n",
    "    return latencies\n",
    "\n",
    "computed_latency_dicts = dict()\n",
    "latencies = dict()\n",
    "for name, a_df in dfs_noiseless:\n",
    "    result = calcLatency(a_df, used_parameters[name], LAG_WINDOW)\n",
    "    computed_latency_dicts[name] = result\n",
    "    latencies[name] = min(result.values())\n",
    "    print(f\"{name}: {(1-latencies[name])*200} Traces; Score: {latencies[name]}\")"
   ]
  },
  {
   "cell_type": "markdown",
   "metadata": {},
   "source": [
    "## Versatility"
   ]
  },
  {
   "cell_type": "code",
   "execution_count": 59,
   "metadata": {},
   "outputs": [],
   "source": [
    "versatilities = {name: 1 for name in df[\"Algorithm\"].unique()}\n",
    "\n",
    "def calcVersatility(df, param_names):\n",
    "    return {param: 1 for param in computed_accuracy_dicts[name].keys()}\n",
    "computed_versatility_dicts = {name: calcVersatility(df, used_parameters[name]) for name in df[\"Algorithm\"].unique()}\n",
    "mapping_ostovar_cp_ceravolo = {\n",
    "    (\"ConditionalMove\", \"cm\"),\n",
    "    (\"ConditionalRemoval\", ),\n",
    "    (\"ConditionalToSequence\", \"cf\"),\n",
    "    (\"Frequency\", \"fr\"),\n",
    "    (\"Loop\", \"lp\"),\n",
    "    (\"ParallelMove\", \"pm\"),\n",
    "    (\"ParallelRemoval\", ),\n",
    "    (\"ParallelToSequence\", \"pl\"),\n",
    "    (\"SerialMove\", ),\n",
    "    (\"SerialRemoval\", ),\n",
    "    (\"Skip\", \"cb\"),\n",
    "    (\"Substitute\", \"rp\"),\n",
    "    (\"Swap\", \"sw\"),\n",
    "}\n",
    "# mapping_ostovar_cp_ceravolo = {\n",
    "#     {\"ConditionalMove\", },\n",
    "#     {\"ConditionalRemoval\", },\n",
    "#     {\"ConditionalToSequence\", \"cf\"},\n",
    "#     {\"Frequency\", },\n",
    "#     {\"Loop\", \"lp\"},\n",
    "#     {\"ParallelMove\", \"pm\"},\n",
    "#     {\"ParallelRemoval\", },\n",
    "#     {\"ParallelToSequence\", \"pl\"},\n",
    "#     {\"SerialMove\", },\n",
    "#     {\"SerialRemoval\", },\n",
    "#     {\"Skip\", \"cb\"},\n",
    "#     {\"Substitute\", \"rp\"},\n",
    "#     {\"Swap\", \"sw\"},\n",
    "# }"
   ]
  },
  {
   "cell_type": "code",
   "execution_count": 60,
   "metadata": {},
   "outputs": [
    {
     "data": {
      "text/plain": [
       "['pm',\n",
       " 'pl',\n",
       " 'cp',\n",
       " 'sw',\n",
       " 'cf',\n",
       " 'cb',\n",
       " 'rp',\n",
       " 'cd',\n",
       " 'lp',\n",
       " 're',\n",
       " 'IOR',\n",
       " 'OIR',\n",
       " 'RIO',\n",
       " 'IRO',\n",
       " 'ROI']"
      ]
     },
     "execution_count": 60,
     "metadata": {},
     "output_type": "execute_result"
    }
   ],
   "source": [
    "ceravolo_patterns = list({       \n",
    "        logname.split(\"_\")[-1]\n",
    "        for logname in df_noiseless[df_noiseless[\"Log Source\"] == \"Ceravolo\"][\"Log\"].unique()\n",
    "})\n",
    "\n",
    "ceravolo_patterns.sort(key=lambda x:len(x))\n",
    "ceravolo_patterns"
   ]
  },
  {
   "cell_type": "code",
   "execution_count": 61,
   "metadata": {},
   "outputs": [
    {
     "data": {
      "text/plain": [
       "['OIR',\n",
       " 'RIO',\n",
       " 'ROI',\n",
       " 'ORI',\n",
       " 'IOR',\n",
       " 'IRO',\n",
       " 'Loop',\n",
       " 'Skip',\n",
       " 'Swap',\n",
       " 'Frequency',\n",
       " 'Substitute',\n",
       " 'SerialMove',\n",
       " 'ParallelMove',\n",
       " 'SerialRemoval',\n",
       " 'ParallelRemoval',\n",
       " 'ConditionalMove',\n",
       " 'ParallelToSequence',\n",
       " 'ConditionalRemoval',\n",
       " 'ConditionalToSequence']"
      ]
     },
     "execution_count": 61,
     "metadata": {},
     "output_type": "execute_result"
    }
   ],
   "source": [
    "ostovar_patterns = list({       \n",
    "        logname.split('_')[-1]\n",
    "        for logname in df_noiseless[df_noiseless[\"Log Source\"] == \"Ostovar\"][\"Log\"].unique()\n",
    "})\n",
    "\n",
    "ostovar_patterns.sort(key=lambda x:len(x))\n",
    "ostovar_patterns"
   ]
  },
  {
   "cell_type": "markdown",
   "metadata": {},
   "source": [
    "## Scalability\n",
    "- Mean Duration\n",
    "- Across ***all*** logs this time!"
   ]
  },
  {
   "cell_type": "code",
   "execution_count": 62,
   "metadata": {},
   "outputs": [
    {
     "name": "stdout",
     "output_type": "stream",
     "text": [
      "Process Graph Metrics: 00:00:25\n",
      "Martjushev ADWIN J: 00:04:06\n",
      "Martjushev ADWIN WC: 00:02:29\n",
      "Zheng DBSCAN: 00:00:03\n",
      "Maaradji Runs: 00:04:45\n",
      "Bose J: 00:11:32\n",
      "Bose WC: 00:11:24\n",
      "Earth Mover's Distance: 00:16:54\n"
     ]
    }
   ],
   "source": [
    "scalabilities = dict()\n",
    "for name, a_df in dfs:\n",
    "    result = a_df[\"Duration\"].mean()\n",
    "    result_str = datetime.strftime(datetime.utcfromtimestamp(result.seconds), '%H:%M:%S')\n",
    "    scalabilities[name] = {\"datetime\": result, \"str\": result_str}\n",
    "    print(f\"{name}: {result_str}\")"
   ]
  },
  {
   "cell_type": "markdown",
   "metadata": {},
   "source": [
    "## Parameter Sensitivity\n",
    "- For each Parameter setting, harmonic mean of *accuracy*, *latency*, and *versatility*\n",
    "  - &rarr; Visualize the variance, etc., with a boxplot"
   ]
  },
  {
   "cell_type": "code",
   "execution_count": 63,
   "metadata": {},
   "outputs": [],
   "source": [
    "import seaborn as sns\n",
    "sensitivities = dict()\n",
    "for name in df[\"Algorithm\"].unique():\n",
    "    _sensitivities = dict()\n",
    "    acc = computed_accuracy_dicts[name]\n",
    "    lat = computed_latency_dicts[name]\n",
    "    for param_choice in acc.keys():\n",
    "        sensitivity = harmonic_mean([acc[param_choice], lat[param_choice]])\n",
    "        _sensitivities[param_choice] = sensitivity\n",
    "    sensitivities[name] = _sensitivities\n"
   ]
  },
  {
   "cell_type": "code",
   "execution_count": 64,
   "metadata": {},
   "outputs": [
    {
     "data": {
      "text/plain": [
       "<AxesSubplot:xlabel='Observed Performances', ylabel='Algorithm'>"
      ]
     },
     "execution_count": 64,
     "metadata": {},
     "output_type": "execute_result"
    },
    {
     "data": {
      "image/png": "[encoded data removed]",
      "text/plain": [
       "<Figure size 720x360 with 1 Axes>"
      ]
     },
     "metadata": {
      "needs_background": "light"
     },
     "output_type": "display_data"
    }
   ],
   "source": [
    "sens_df = pd.DataFrame([\n",
    "    {\n",
    "        \"Parameters\": param,\n",
    "        \"Algorithm\": name,\n",
    "        \"Observed Performances\": sens\n",
    "    }\n",
    "    for name, sens_dict in sensitivities.items()\n",
    "    for param, sens in sens_dict.items()\n",
    "])\n",
    "import seaborn as sns\n",
    "\n",
    "fig, ax = plt.subplots(figsize=(10, 5))\n",
    "sns.boxplot(data=sens_df, x=\"Observed Performances\", y=\"Algorithm\", width=1, ax=ax)"
   ]
  },
  {
   "cell_type": "code",
   "execution_count": 65,
   "metadata": {},
   "outputs": [
    {
     "name": "stdout",
     "output_type": "stream",
     "text": [
      "Standard Deviations\n",
      "Process Graph Metrics: 0.0164531847316924\n",
      "Martjushev ADWIN J: 0.015688172247205142\n",
      "Martjushev ADWIN WC: nan\n",
      "Zheng DBSCAN: 0.047956190307036746\n",
      "Maaradji Runs: 0.10146858184237247\n",
      "Bose J: 0.055111064851049156\n",
      "Bose WC: 0.1520628486397899\n",
      "Earth Mover's Distance: 0.02880039527329389\n"
     ]
    }
   ],
   "source": [
    "# Standard Deviation\n",
    "print(\"Standard Deviations\")\n",
    "sensitivity_stds = dict()\n",
    "for name, sens in sensitivities.items():\n",
    "    try:\n",
    "        std = stdev(sens.values())\n",
    "    except:\n",
    "        std = np.NaN\n",
    "    sensitivity_stds[name] = std\n",
    "    print(f\"{name}: {std}\")"
   ]
  },
  {
   "cell_type": "markdown",
   "metadata": {},
   "source": [
    "### Robustness"
   ]
  },
  {
   "cell_type": "code",
   "execution_count": 66,
   "metadata": {},
   "outputs": [
    {
     "data": {
      "text/plain": [
       "{'Process Graph Metrics': 0.7852315334007204,\n",
       " 'Martjushev ADWIN J': 0.6838664869060751,\n",
       " 'Martjushev ADWIN WC': nan,\n",
       " 'Zheng DBSCAN': 0.5542831071061937,\n",
       " 'Maaradji Runs': 0.5903022216760444,\n",
       " 'Bose J': 0.8550949665370728,\n",
       " 'Bose WC': 0.8020435270659926,\n",
       " \"Earth Mover's Distance\": 0.8600694825434191}"
      ]
     },
     "execution_count": 66,
     "metadata": {},
     "output_type": "execute_result"
    }
   ],
   "source": [
    "\n",
    "assert computed_accuracy_dicts.keys() == computed_latency_dicts.keys() == versatilities.keys()\n",
    "robustnesses = dict()\n",
    "for name, d in dfs_noisy:\n",
    "    # Have to calculate them here, because this is the only place where we use the noisy logs\t\n",
    "    acc = calcAccuracy(d, used_parameters[name], LAG_WINDOW)\n",
    "    lat = calcLatency(d, used_parameters[name], LAG_WINDOW)\n",
    "    vers = calcVersatility(d, used_parameters[name])\n",
    "    robustnesses[name] = max(\n",
    "        harmonic_mean([acc[param], lat[param], vers[param]]) \n",
    "        for param in acc.keys()\n",
    "    )\n",
    "robustnesses"
   ]
  },
  {
   "cell_type": "markdown",
   "metadata": {},
   "source": [
    "## Save Results"
   ]
  },
  {
   "cell_type": "code",
   "execution_count": 68,
   "metadata": {},
   "outputs": [],
   "source": [
    "pd.DataFrame([\n",
    "    {\n",
    "        \"Algorithm\": name,\n",
    "        \"Accuracy\": accuracies[name],\n",
    "        \"Latency\": latencies[name],\n",
    "        \"Versatility:\": versatilities[name],\n",
    "        \"Scalability\": scalabilities[name][\"str\"],\n",
    "        \"Parameter Sensitivity (STD)\": sensitivity_stds[name],\n",
    "        \"Robustness\": robustnesses[name]\n",
    "    }\n",
    "    for name in df[\"Algorithm\"].unique()\n",
    "]).to_csv(\"evaluation_measures.csv\", index=False)"
   ]
  }
 ],
 "metadata": {
  "kernelspec": {
   "display_name": "Python 3.10.5 64-bit",
   "language": "python",
   "name": "python3"
  },
  "language_info": {
   "codemirror_mode": {
    "name": "ipython",
    "version": 3
   },
   "file_extension": ".py",
   "mimetype": "text/x-python",
   "name": "python",
   "nbconvert_exporter": "python",
   "pygments_lexer": "ipython3",
   "version": "3.10.5"
  },
  "orig_nbformat": 4,
  "vscode": {
   "interpreter": {
    "hash": "c0efd6421cd58cc5766031ee19a1051d9d94a373055e86f710d77da54df41529"
   }
  }
 },
 "nbformat": 4,
 "nbformat_minor": 2
}
