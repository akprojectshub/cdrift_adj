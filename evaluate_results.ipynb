{
 "cells": [
  {
   "cell_type": "code",
   "execution_count": 1,
   "metadata": {},
   "outputs": [],
   "source": [
    "import matplotlib.pyplot as plt\n",
    "import pandas as pd\n",
    "from cdrift import evaluation\n",
    "from cdrift.utils.helpers import readCSV_Lists, convertToTimedelta\n",
    "import numpy as np\n",
    "from datetime import datetime\n",
    "from statistics import mean, harmonic_mean, stdev\n",
    "from typing import List\n",
    "import seaborn as sns\n",
    "import re\n",
    "import os\n",
    "\n",
    "LAG_WINDOW = 200\n",
    "CSV_PATH = \"evaluation_results_total.csv\""
   ]
  },
  {
   "cell_type": "markdown",
   "metadata": {},
   "source": [
    "### Read the CSV and split by approach"
   ]
  },
  {
   "cell_type": "code",
   "execution_count": 2,
   "metadata": {},
   "outputs": [],
   "source": [
    "df = readCSV_Lists(CSV_PATH)"
   ]
  },
  {
   "cell_type": "markdown",
   "metadata": {},
   "source": [
    "### Rename approaches to shorter names"
   ]
  },
  {
   "cell_type": "code",
   "execution_count": 3,
   "metadata": {},
   "outputs": [
    {
     "name": "stdout",
     "output_type": "stream",
     "text": [
      "['Zheng DBSCAN' 'ProDrift' 'Bose J' 'Bose WC' \"Earth Mover's Distance\"\n",
      " 'Martjushev ADWIN J' 'Martjushev ADWIN WC' 'Process Graph Metrics']\n"
     ]
    },
    {
     "data": {
      "text/plain": [
       "array(['RINV', 'ProDrift', 'J-Measure', 'Window Count', 'EMD', 'ADWIN J',\n",
       "       'ADWIN WC', 'PGM'], dtype=object)"
      ]
     },
     "execution_count": 3,
     "metadata": {},
     "output_type": "execute_result"
    }
   ],
   "source": [
    "print(df[\"Algorithm\"].unique())\n",
    "shorter_names = {\n",
    "    \"Zheng DBSCAN\": \"RINV\",\n",
    "    \"ProDrift\": \"ProDrift\",\n",
    "    \"Bose J\": \"J-Measure\",\n",
    "    \"Bose WC\": \"Window Count\",\n",
    "    \"Earth Mover's Distance\": \"EMD\",\n",
    "    \"Process Graph Metrics\": \"PGM\",\n",
    "    \"Martjushev ADWIN J\": \"ADWIN J\",\n",
    "    \"Martjushev ADWIN WC\": \"ADWIN WC\",\n",
    "}\n",
    "df[\"Algorithm\"] = df[\"Algorithm\"].map(shorter_names)\n",
    "df[\"Algorithm\"].unique()"
   ]
  },
  {
   "cell_type": "code",
   "execution_count": 4,
   "metadata": {},
   "outputs": [
    {
     "data": {
      "text/plain": [
       "['ADWIN J',\n",
       " 'ADWIN WC',\n",
       " 'EMD',\n",
       " 'J-Measure',\n",
       " 'PGM',\n",
       " 'ProDrift',\n",
       " 'RINV',\n",
       " 'Window Count']"
      ]
     },
     "execution_count": 4,
     "metadata": {},
     "output_type": "execute_result"
    }
   ],
   "source": [
    "# Order in which to plot the approaches, to stay consistent\n",
    "ALPHA_SORT_NAMES = sorted(list(df[\"Algorithm\"].unique()))\n",
    "ALPHA_SORT_NAMES"
   ]
  },
  {
   "cell_type": "markdown",
   "metadata": {},
   "source": [
    "##### Only use Atomic Logs"
   ]
  },
  {
   "cell_type": "code",
   "execution_count": 5,
   "metadata": {},
   "outputs": [],
   "source": [
    "atomic_logs = {\n",
    "    log\n",
    "    for index, (source, log) in df[[\"Log Source\", \"Log\"]].iterrows()\n",
    "    if (source.lower() == \"ostovar\" and log.lower().startswith(\"atomic\")) # Only use atomic logs from ostovar\n",
    "    or (log.lower().startswith(\"bose\")) # Use bose log\n",
    "    or (source.lower() == \"ceravolo\" and set(log.lower().split(\"_\")[-1]) != {'i', 'o', 'r'}) # Exclude all composite (IOR, ROI, etc.) logs from ceravolo\n",
    "}\n",
    "\n",
    "df = df[df[\"Log\"].isin(atomic_logs)]"
   ]
  },
  {
   "cell_type": "code",
   "execution_count": 6,
   "metadata": {},
   "outputs": [
    {
     "name": "stdout",
     "output_type": "stream",
     "text": [
      "No duplicate rows in the Dataframe! :)\n"
     ]
    },
    {
     "data": {
      "text/html": [
       "<div>\n",
       "<style scoped>\n",
       "    .dataframe tbody tr th:only-of-type {\n",
       "        vertical-align: middle;\n",
       "    }\n",
       "\n",
       "    .dataframe tbody tr th {\n",
       "        vertical-align: top;\n",
       "    }\n",
       "\n",
       "    .dataframe thead th {\n",
       "        text-align: right;\n",
       "    }\n",
       "</style>\n",
       "<table border=\"1\" class=\"dataframe\">\n",
       "  <thead>\n",
       "    <tr style=\"text-align: right;\">\n",
       "      <th></th>\n",
       "      <th>Algorithm</th>\n",
       "      <th>Log Source</th>\n",
       "      <th>Log</th>\n",
       "      <th>Min Adaptive Window</th>\n",
       "      <th>Max Adaptive Window</th>\n",
       "      <th>Detected Changepoints</th>\n",
       "      <th>Actual Changepoints for Log</th>\n",
       "      <th>F1-Score</th>\n",
       "      <th>Average Lag</th>\n",
       "      <th>Duration</th>\n",
       "      <th>P-Value</th>\n",
       "      <th>MRID</th>\n",
       "      <th>Epsilon</th>\n",
       "      <th>Window Size</th>\n",
       "      <th>SW Step Size</th>\n",
       "      <th>ADWIN Step Size</th>\n",
       "    </tr>\n",
       "  </thead>\n",
       "  <tbody>\n",
       "    <tr>\n",
       "      <th>0</th>\n",
       "      <td>RINV</td>\n",
       "      <td>Ostovar</td>\n",
       "      <td>Atomic_Frequency_output_Frequency_5</td>\n",
       "      <td>NaN</td>\n",
       "      <td>NaN</td>\n",
       "      <td>[1516.9802143446002]</td>\n",
       "      <td>[999, 1999]</td>\n",
       "      <td>NaN</td>\n",
       "      <td>NaN</td>\n",
       "      <td>0 days 00:00:04</td>\n",
       "      <td>NaN</td>\n",
       "      <td>400.0</td>\n",
       "      <td>40.0</td>\n",
       "      <td>NaN</td>\n",
       "      <td>NaN</td>\n",
       "      <td>NaN</td>\n",
       "    </tr>\n",
       "    <tr>\n",
       "      <th>1</th>\n",
       "      <td>RINV</td>\n",
       "      <td>Ostovar</td>\n",
       "      <td>Atomic_Frequency_output_Frequency_5</td>\n",
       "      <td>NaN</td>\n",
       "      <td>NaN</td>\n",
       "      <td>[1516.9802143446002]</td>\n",
       "      <td>[999, 1999]</td>\n",
       "      <td>NaN</td>\n",
       "      <td>NaN</td>\n",
       "      <td>0 days 00:00:04</td>\n",
       "      <td>NaN</td>\n",
       "      <td>400.0</td>\n",
       "      <td>80.0</td>\n",
       "      <td>NaN</td>\n",
       "      <td>NaN</td>\n",
       "      <td>NaN</td>\n",
       "    </tr>\n",
       "    <tr>\n",
       "      <th>2</th>\n",
       "      <td>RINV</td>\n",
       "      <td>Ostovar</td>\n",
       "      <td>Atomic_Frequency_output_Frequency_5</td>\n",
       "      <td>NaN</td>\n",
       "      <td>NaN</td>\n",
       "      <td>[1516.9802143446002]</td>\n",
       "      <td>[999, 1999]</td>\n",
       "      <td>NaN</td>\n",
       "      <td>NaN</td>\n",
       "      <td>0 days 00:00:04</td>\n",
       "      <td>NaN</td>\n",
       "      <td>400.0</td>\n",
       "      <td>120.0</td>\n",
       "      <td>NaN</td>\n",
       "      <td>NaN</td>\n",
       "      <td>NaN</td>\n",
       "    </tr>\n",
       "    <tr>\n",
       "      <th>3</th>\n",
       "      <td>RINV</td>\n",
       "      <td>Ostovar</td>\n",
       "      <td>Atomic_Frequency_output_Frequency_5</td>\n",
       "      <td>NaN</td>\n",
       "      <td>NaN</td>\n",
       "      <td>[1516.9802143446002]</td>\n",
       "      <td>[999, 1999]</td>\n",
       "      <td>NaN</td>\n",
       "      <td>NaN</td>\n",
       "      <td>0 days 00:00:04</td>\n",
       "      <td>NaN</td>\n",
       "      <td>400.0</td>\n",
       "      <td>160.0</td>\n",
       "      <td>NaN</td>\n",
       "      <td>NaN</td>\n",
       "      <td>NaN</td>\n",
       "    </tr>\n",
       "    <tr>\n",
       "      <th>4</th>\n",
       "      <td>RINV</td>\n",
       "      <td>Ostovar</td>\n",
       "      <td>Atomic_Frequency_output_Frequency_5</td>\n",
       "      <td>NaN</td>\n",
       "      <td>NaN</td>\n",
       "      <td>[1516.9802143446002]</td>\n",
       "      <td>[999, 1999]</td>\n",
       "      <td>NaN</td>\n",
       "      <td>NaN</td>\n",
       "      <td>0 days 00:00:04</td>\n",
       "      <td>NaN</td>\n",
       "      <td>400.0</td>\n",
       "      <td>200.0</td>\n",
       "      <td>NaN</td>\n",
       "      <td>NaN</td>\n",
       "      <td>NaN</td>\n",
       "    </tr>\n",
       "    <tr>\n",
       "      <th>...</th>\n",
       "      <td>...</td>\n",
       "      <td>...</td>\n",
       "      <td>...</td>\n",
       "      <td>...</td>\n",
       "      <td>...</td>\n",
       "      <td>...</td>\n",
       "      <td>...</td>\n",
       "      <td>...</td>\n",
       "      <td>...</td>\n",
       "      <td>...</td>\n",
       "      <td>...</td>\n",
       "      <td>...</td>\n",
       "      <td>...</td>\n",
       "      <td>...</td>\n",
       "      <td>...</td>\n",
       "      <td>...</td>\n",
       "    </tr>\n",
       "    <tr>\n",
       "      <th>32307</th>\n",
       "      <td>ADWIN J</td>\n",
       "      <td>Ostovar</td>\n",
       "      <td>Atomic_ConditionalMove_output_ConditionalMove</td>\n",
       "      <td>200.0</td>\n",
       "      <td>500.0</td>\n",
       "      <td>[971, 1915]</td>\n",
       "      <td>[999, 1999]</td>\n",
       "      <td>1.000000</td>\n",
       "      <td>56.0</td>\n",
       "      <td>0 days 00:07:28</td>\n",
       "      <td>0.4000</td>\n",
       "      <td>NaN</td>\n",
       "      <td>NaN</td>\n",
       "      <td>NaN</td>\n",
       "      <td>NaN</td>\n",
       "      <td>10.0</td>\n",
       "    </tr>\n",
       "    <tr>\n",
       "      <th>32308</th>\n",
       "      <td>ADWIN WC</td>\n",
       "      <td>Ostovar</td>\n",
       "      <td>Atomic_ConditionalMove_output_ConditionalMove</td>\n",
       "      <td>200.0</td>\n",
       "      <td>500.0</td>\n",
       "      <td>[]</td>\n",
       "      <td>[999, 1999]</td>\n",
       "      <td>NaN</td>\n",
       "      <td>NaN</td>\n",
       "      <td>0 days 00:03:21</td>\n",
       "      <td>0.4000</td>\n",
       "      <td>NaN</td>\n",
       "      <td>NaN</td>\n",
       "      <td>NaN</td>\n",
       "      <td>NaN</td>\n",
       "      <td>10.0</td>\n",
       "    </tr>\n",
       "    <tr>\n",
       "      <th>32309</th>\n",
       "      <td>PGM</td>\n",
       "      <td>Ostovar</td>\n",
       "      <td>Atomic_ConditionalToSequence_output_Conditiona...</td>\n",
       "      <td>400.0</td>\n",
       "      <td>400.0</td>\n",
       "      <td>[1041]</td>\n",
       "      <td>[999, 1999]</td>\n",
       "      <td>0.666667</td>\n",
       "      <td>42.0</td>\n",
       "      <td>0 days 00:00:31</td>\n",
       "      <td>0.0001</td>\n",
       "      <td>NaN</td>\n",
       "      <td>NaN</td>\n",
       "      <td>NaN</td>\n",
       "      <td>NaN</td>\n",
       "      <td>NaN</td>\n",
       "    </tr>\n",
       "    <tr>\n",
       "      <th>32312</th>\n",
       "      <td>PGM</td>\n",
       "      <td>Ceravolo</td>\n",
       "      <td>sudden_trace_noise15_1000_cf</td>\n",
       "      <td>400.0</td>\n",
       "      <td>500.0</td>\n",
       "      <td>[765]</td>\n",
       "      <td>[499]</td>\n",
       "      <td>NaN</td>\n",
       "      <td>NaN</td>\n",
       "      <td>0 days 00:00:12</td>\n",
       "      <td>0.0500</td>\n",
       "      <td>NaN</td>\n",
       "      <td>NaN</td>\n",
       "      <td>NaN</td>\n",
       "      <td>NaN</td>\n",
       "      <td>NaN</td>\n",
       "    </tr>\n",
       "    <tr>\n",
       "      <th>32313</th>\n",
       "      <td>PGM</td>\n",
       "      <td>Ceravolo</td>\n",
       "      <td>sudden_trace_noise5_1000_cd</td>\n",
       "      <td>200.0</td>\n",
       "      <td>500.0</td>\n",
       "      <td>[]</td>\n",
       "      <td>[499]</td>\n",
       "      <td>NaN</td>\n",
       "      <td>NaN</td>\n",
       "      <td>0 days 00:00:00</td>\n",
       "      <td>0.1000</td>\n",
       "      <td>NaN</td>\n",
       "      <td>NaN</td>\n",
       "      <td>NaN</td>\n",
       "      <td>NaN</td>\n",
       "      <td>NaN</td>\n",
       "    </tr>\n",
       "  </tbody>\n",
       "</table>\n",
       "<p>19260 rows × 16 columns</p>\n",
       "</div>"
      ],
      "text/plain": [
       "      Algorithm Log Source                                                Log  \\\n",
       "0          RINV    Ostovar                Atomic_Frequency_output_Frequency_5   \n",
       "1          RINV    Ostovar                Atomic_Frequency_output_Frequency_5   \n",
       "2          RINV    Ostovar                Atomic_Frequency_output_Frequency_5   \n",
       "3          RINV    Ostovar                Atomic_Frequency_output_Frequency_5   \n",
       "4          RINV    Ostovar                Atomic_Frequency_output_Frequency_5   \n",
       "...         ...        ...                                                ...   \n",
       "32307   ADWIN J    Ostovar      Atomic_ConditionalMove_output_ConditionalMove   \n",
       "32308  ADWIN WC    Ostovar      Atomic_ConditionalMove_output_ConditionalMove   \n",
       "32309       PGM    Ostovar  Atomic_ConditionalToSequence_output_Conditiona...   \n",
       "32312       PGM   Ceravolo                       sudden_trace_noise15_1000_cf   \n",
       "32313       PGM   Ceravolo                        sudden_trace_noise5_1000_cd   \n",
       "\n",
       "       Min Adaptive Window  Max Adaptive Window Detected Changepoints  \\\n",
       "0                      NaN                  NaN  [1516.9802143446002]   \n",
       "1                      NaN                  NaN  [1516.9802143446002]   \n",
       "2                      NaN                  NaN  [1516.9802143446002]   \n",
       "3                      NaN                  NaN  [1516.9802143446002]   \n",
       "4                      NaN                  NaN  [1516.9802143446002]   \n",
       "...                    ...                  ...                   ...   \n",
       "32307                200.0                500.0           [971, 1915]   \n",
       "32308                200.0                500.0                    []   \n",
       "32309                400.0                400.0                [1041]   \n",
       "32312                400.0                500.0                 [765]   \n",
       "32313                200.0                500.0                    []   \n",
       "\n",
       "      Actual Changepoints for Log  F1-Score  Average Lag        Duration  \\\n",
       "0                     [999, 1999]       NaN          NaN 0 days 00:00:04   \n",
       "1                     [999, 1999]       NaN          NaN 0 days 00:00:04   \n",
       "2                     [999, 1999]       NaN          NaN 0 days 00:00:04   \n",
       "3                     [999, 1999]       NaN          NaN 0 days 00:00:04   \n",
       "4                     [999, 1999]       NaN          NaN 0 days 00:00:04   \n",
       "...                           ...       ...          ...             ...   \n",
       "32307                 [999, 1999]  1.000000         56.0 0 days 00:07:28   \n",
       "32308                 [999, 1999]       NaN          NaN 0 days 00:03:21   \n",
       "32309                 [999, 1999]  0.666667         42.0 0 days 00:00:31   \n",
       "32312                       [499]       NaN          NaN 0 days 00:00:12   \n",
       "32313                       [499]       NaN          NaN 0 days 00:00:00   \n",
       "\n",
       "       P-Value   MRID  Epsilon  Window Size  SW Step Size  ADWIN Step Size  \n",
       "0          NaN  400.0     40.0          NaN           NaN              NaN  \n",
       "1          NaN  400.0     80.0          NaN           NaN              NaN  \n",
       "2          NaN  400.0    120.0          NaN           NaN              NaN  \n",
       "3          NaN  400.0    160.0          NaN           NaN              NaN  \n",
       "4          NaN  400.0    200.0          NaN           NaN              NaN  \n",
       "...        ...    ...      ...          ...           ...              ...  \n",
       "32307   0.4000    NaN      NaN          NaN           NaN             10.0  \n",
       "32308   0.4000    NaN      NaN          NaN           NaN             10.0  \n",
       "32309   0.0001    NaN      NaN          NaN           NaN              NaN  \n",
       "32312   0.0500    NaN      NaN          NaN           NaN              NaN  \n",
       "32313   0.1000    NaN      NaN          NaN           NaN              NaN  \n",
       "\n",
       "[19260 rows x 16 columns]"
      ]
     },
     "execution_count": 6,
     "metadata": {},
     "output_type": "execute_result"
    }
   ],
   "source": [
    "def split_by_name(df):\n",
    "    return [\n",
    "        (alg, df[df[\"Algorithm\"] == alg].copy())\n",
    "        for alg in df[\"Algorithm\"].unique()\n",
    "    ]\n",
    "\n",
    "dfs = split_by_name(df)\n",
    "\n",
    "if not pd.read_csv(CSV_PATH).duplicated().any():\n",
    "    print(\"No duplicate rows in the Dataframe! :)\")\n",
    "else:\n",
    "    for name, d in split_by_name(pd.read_csv(CSV_PATH)):\n",
    "        print(f\"{name} contains duplicate rows: {d.duplicated().any()}\")\n",
    "df"
   ]
  },
  {
   "cell_type": "markdown",
   "metadata": {},
   "source": [
    "#### Add Auxiliary Columns for Noise and Change Pattern"
   ]
  },
  {
   "cell_type": "code",
   "execution_count": 7,
   "metadata": {},
   "outputs": [],
   "source": [
    "mapping_ostovar_to_shortnames = {\n",
    "    \"ConditionalMove\": 'cm',\n",
    "    \"ConditionalRemoval\": 'cre',\n",
    "    \"ConditionalToSequence\": 'cf',\n",
    "    \"Frequency\": 'fr',\n",
    "    \"Loop\": 'lp',\n",
    "    \"ParallelMove\": 'pm',\n",
    "    \"ParallelRemoval\": 'pre',\n",
    "    \"ParallelToSequence\": 'pl',\n",
    "    \"SerialMove\": 'sm',\n",
    "    \"SerialRemoval\": 'sre',\n",
    "    \"Skip\": 'cb',\n",
    "    \"Substitute\": 'rp',\n",
    "    \"Swap\": 'sw',\n",
    "}\n",
    "\n",
    "def map_row_to_cp(row):\n",
    "    logname = row[\"Log\"]\n",
    "    if row[\"Log Source\"] == \"Ceravolo\":\n",
    "        return logname.split(\"_\")[-1]\n",
    "    elif row[\"Log Source\"] == \"Ostovar\":\n",
    "        change_pattern = logname.split(\"_\")[-1]\n",
    "        if change_pattern.isnumeric(): # This log has a noise level; Use the second to last string instead\n",
    "            change_pattern = logname.split(\"_\")[-2]\n",
    "        return mapping_ostovar_to_shortnames[change_pattern]\n",
    "    elif row[\"Log Source\"] == \"Bose\":\n",
    "        return None\n",
    "    else:\n",
    "        raise ValueError(f\"Unknown Log Source for Versatility: {row['Log Source']}; Is this Log meant to be used for a Versatility Evaluation?\")\n",
    "\n",
    "# Add a column stating the change pattern that is applied\n",
    "df[\"Change Pattern\"] = df.apply(lambda x: map_row_to_cp(x), axis=1)"
   ]
  },
  {
   "cell_type": "code",
   "execution_count": 8,
   "metadata": {},
   "outputs": [
    {
     "data": {
      "text/html": [
       "<div>\n",
       "<style scoped>\n",
       "    .dataframe tbody tr th:only-of-type {\n",
       "        vertical-align: middle;\n",
       "    }\n",
       "\n",
       "    .dataframe tbody tr th {\n",
       "        vertical-align: top;\n",
       "    }\n",
       "\n",
       "    .dataframe thead th {\n",
       "        text-align: right;\n",
       "    }\n",
       "</style>\n",
       "<table border=\"1\" class=\"dataframe\">\n",
       "  <thead>\n",
       "    <tr style=\"text-align: right;\">\n",
       "      <th></th>\n",
       "      <th>Algorithm</th>\n",
       "      <th>Log Source</th>\n",
       "      <th>Log</th>\n",
       "      <th>Change Pattern</th>\n",
       "      <th>Noise Level</th>\n",
       "    </tr>\n",
       "  </thead>\n",
       "  <tbody>\n",
       "    <tr>\n",
       "      <th>0</th>\n",
       "      <td>RINV</td>\n",
       "      <td>Ostovar</td>\n",
       "      <td>Atomic_Frequency_output_Frequency_5</td>\n",
       "      <td>fr</td>\n",
       "      <td>5</td>\n",
       "    </tr>\n",
       "    <tr>\n",
       "      <th>1</th>\n",
       "      <td>RINV</td>\n",
       "      <td>Ostovar</td>\n",
       "      <td>Atomic_Frequency_output_Frequency_5</td>\n",
       "      <td>fr</td>\n",
       "      <td>5</td>\n",
       "    </tr>\n",
       "    <tr>\n",
       "      <th>2</th>\n",
       "      <td>RINV</td>\n",
       "      <td>Ostovar</td>\n",
       "      <td>Atomic_Frequency_output_Frequency_5</td>\n",
       "      <td>fr</td>\n",
       "      <td>5</td>\n",
       "    </tr>\n",
       "    <tr>\n",
       "      <th>3</th>\n",
       "      <td>RINV</td>\n",
       "      <td>Ostovar</td>\n",
       "      <td>Atomic_Frequency_output_Frequency_5</td>\n",
       "      <td>fr</td>\n",
       "      <td>5</td>\n",
       "    </tr>\n",
       "    <tr>\n",
       "      <th>4</th>\n",
       "      <td>RINV</td>\n",
       "      <td>Ostovar</td>\n",
       "      <td>Atomic_Frequency_output_Frequency_5</td>\n",
       "      <td>fr</td>\n",
       "      <td>5</td>\n",
       "    </tr>\n",
       "    <tr>\n",
       "      <th>...</th>\n",
       "      <td>...</td>\n",
       "      <td>...</td>\n",
       "      <td>...</td>\n",
       "      <td>...</td>\n",
       "      <td>...</td>\n",
       "    </tr>\n",
       "    <tr>\n",
       "      <th>32307</th>\n",
       "      <td>ADWIN J</td>\n",
       "      <td>Ostovar</td>\n",
       "      <td>Atomic_ConditionalMove_output_ConditionalMove</td>\n",
       "      <td>cm</td>\n",
       "      <td>0</td>\n",
       "    </tr>\n",
       "    <tr>\n",
       "      <th>32308</th>\n",
       "      <td>ADWIN WC</td>\n",
       "      <td>Ostovar</td>\n",
       "      <td>Atomic_ConditionalMove_output_ConditionalMove</td>\n",
       "      <td>cm</td>\n",
       "      <td>0</td>\n",
       "    </tr>\n",
       "    <tr>\n",
       "      <th>32309</th>\n",
       "      <td>PGM</td>\n",
       "      <td>Ostovar</td>\n",
       "      <td>Atomic_ConditionalToSequence_output_Conditiona...</td>\n",
       "      <td>cf</td>\n",
       "      <td>2</td>\n",
       "    </tr>\n",
       "    <tr>\n",
       "      <th>32312</th>\n",
       "      <td>PGM</td>\n",
       "      <td>Ceravolo</td>\n",
       "      <td>sudden_trace_noise15_1000_cf</td>\n",
       "      <td>cf</td>\n",
       "      <td>15</td>\n",
       "    </tr>\n",
       "    <tr>\n",
       "      <th>32313</th>\n",
       "      <td>PGM</td>\n",
       "      <td>Ceravolo</td>\n",
       "      <td>sudden_trace_noise5_1000_cd</td>\n",
       "      <td>cd</td>\n",
       "      <td>5</td>\n",
       "    </tr>\n",
       "  </tbody>\n",
       "</table>\n",
       "<p>19260 rows × 5 columns</p>\n",
       "</div>"
      ],
      "text/plain": [
       "      Algorithm Log Source                                                Log  \\\n",
       "0          RINV    Ostovar                Atomic_Frequency_output_Frequency_5   \n",
       "1          RINV    Ostovar                Atomic_Frequency_output_Frequency_5   \n",
       "2          RINV    Ostovar                Atomic_Frequency_output_Frequency_5   \n",
       "3          RINV    Ostovar                Atomic_Frequency_output_Frequency_5   \n",
       "4          RINV    Ostovar                Atomic_Frequency_output_Frequency_5   \n",
       "...         ...        ...                                                ...   \n",
       "32307   ADWIN J    Ostovar      Atomic_ConditionalMove_output_ConditionalMove   \n",
       "32308  ADWIN WC    Ostovar      Atomic_ConditionalMove_output_ConditionalMove   \n",
       "32309       PGM    Ostovar  Atomic_ConditionalToSequence_output_Conditiona...   \n",
       "32312       PGM   Ceravolo                       sudden_trace_noise15_1000_cf   \n",
       "32313       PGM   Ceravolo                        sudden_trace_noise5_1000_cd   \n",
       "\n",
       "      Change Pattern Noise Level  \n",
       "0                 fr           5  \n",
       "1                 fr           5  \n",
       "2                 fr           5  \n",
       "3                 fr           5  \n",
       "4                 fr           5  \n",
       "...              ...         ...  \n",
       "32307             cm           0  \n",
       "32308             cm           0  \n",
       "32309             cf           2  \n",
       "32312             cf          15  \n",
       "32313             cd           5  \n",
       "\n",
       "[19260 rows x 5 columns]"
      ]
     },
     "execution_count": 8,
     "metadata": {},
     "output_type": "execute_result"
    }
   ],
   "source": [
    "# Preprocessing; Add \"Noise Level\" Column\n",
    "def map_row_to_noise(row):\n",
    "    logname = row[\"Log\"]\n",
    "    if row[\"Log Source\"] == \"Ceravolo\":\n",
    "        return re.search('noise([0-9]*)_', logname).group(1)\n",
    "    elif row[\"Log Source\"] == \"Ostovar\":\n",
    "        # return mapping_ostovar_to_shortnames[logname.split(\"_\")[-1]]\n",
    "        last_member = logname.split('_')[-1]\n",
    "        if last_member.isnumeric():\n",
    "            return last_member\n",
    "        else:\n",
    "            return '0'\n",
    "    elif row[\"Log Source\"] == \"Bose\":\n",
    "        return None\n",
    "    else:\n",
    "        raise ValueError(f\"Unknown Log Source for Noise Level: {row['Log Source']}; Is this Log meant to be used for a Robustness Evaluation?\")\n",
    "\n",
    "# Only use the Ceravolo and Ostovar Logs as Bose has only 1 log, i.e., no noise levels\n",
    "# Add a column stating the change pattern that is applied and one for the noise level\n",
    "df[\"Noise Level\"] = df.apply(lambda x: map_row_to_noise(x), axis=1)\n",
    "df[['Algorithm', 'Log Source', 'Log', 'Change Pattern', 'Noise Level']]"
   ]
  },
  {
   "cell_type": "markdown",
   "metadata": {},
   "source": [
    "### Split into noisy/noiseful logs"
   ]
  },
  {
   "cell_type": "code",
   "execution_count": 9,
   "metadata": {},
   "outputs": [],
   "source": [
    "logs = zip(df[\"Log Source\"], df[\"Log\"])\n",
    "\n",
    "noiseless_logs = {\n",
    "    log for source, log in logs if \n",
    "    (source == \"Ostovar\"  and not (log.endswith(\"_2\") or log.endswith(\"_5\"))) or\n",
    "    (source == \"Ceravolo\" and log.split(\"_\")[2]==\"noise0\") or\n",
    "    source == \"Bose\"\n",
    "}\n",
    "\n",
    "df_noiseless = df[df[\"Log\"].isin(noiseless_logs)]\n",
    "df_noisy = df[df[\"Log\"].isin(noiseless_logs) == False]\n",
    "\n",
    "dfs_noisy = split_by_name(df_noisy)\n",
    "dfs_noiseless = split_by_name(df_noiseless)"
   ]
  },
  {
   "cell_type": "markdown",
   "metadata": {},
   "source": [
    "## Accuracy\n",
    "- All Change-Patterns\n",
    "- Only 0 Noise\n",
    "- Max cummulative *Recall* achieved of all parameter settings\n",
    "  - Accumulate TP and FP over all event logs before calculating recall"
   ]
  },
  {
   "cell_type": "code",
   "execution_count": 10,
   "metadata": {},
   "outputs": [
    {
     "data": {
      "text/plain": [
       "array(['RINV', 'ProDrift', 'J-Measure', 'Window Count', 'EMD', 'PGM',\n",
       "       'ADWIN J', 'ADWIN WC'], dtype=object)"
      ]
     },
     "execution_count": 10,
     "metadata": {},
     "output_type": "execute_result"
    }
   ],
   "source": [
    "df[\"Algorithm\"].unique()"
   ]
  },
  {
   "cell_type": "code",
   "execution_count": 11,
   "metadata": {},
   "outputs": [
    {
     "name": "stdout",
     "output_type": "stream",
     "text": [
      "ADWIN J: 0.75\n",
      "ADWIN WC: 0\n",
      "EMD: 0.8333333333333334\n",
      "J-Measure: 0.7901234567901234\n",
      "PGM: 0.7647058823529412\n",
      "ProDrift: 0.5964912280701754\n",
      "RINV: 0.8641975308641975\n",
      "Window Count: 0.7428571428571429\n"
     ]
    }
   ],
   "source": [
    "used_parameters = {\n",
    "        \"Bose J\": [\"Window Size\", \"SW Step Size\"],\n",
    "        \"Bose WC\": [\"Window Size\", \"SW Step Size\"],\n",
    "        \"Martjushev ADWIN J\": [\"Min Adaptive Window\", \"Max Adaptive Window\", \"P-Value\", \"ADWIN Step Size\"],\n",
    "        \"Martjushev ADWIN WC\": [\"Min Adaptive Window\", \"Max Adaptive Window\", \"P-Value\", \"ADWIN Step Size\"],\n",
    "        \"ProDrift\": [\"Window Size\", \"SW Step Size\"],\n",
    "        \"Earth Mover's Distance\": [\"Window Size\", \"SW Step Size\"],\n",
    "        \"Process Graph Metrics\": [\"Min Adaptive Window\", \"Max Adaptive Window\", \"P-Value\"],\n",
    "        \"Zheng DBSCAN\": [\"MRID\", \"Epsilon\"]\n",
    "    }\n",
    "\n",
    "used_parameters = {\n",
    "    shorter_names[name]: used_parameters[name]\n",
    "    for name in used_parameters.keys()\n",
    "}\n",
    "\n",
    "\n",
    "\n",
    "def calcAccuracy(df:pd.DataFrame, param_names:List[str], lag_window: int):\n",
    "    \"\"\"Calculates the Accuracy Metric for the given dataframe by grouping by the given parameters and calculating the mean accuracy\n",
    "\n",
    "    Args:\n",
    "        df (pd.DataFrame): The dataframe containing the results to be evaluated\n",
    "        param_names (List[str]): The names of the parameters of this approach\n",
    "        lag_window (int): The lag window to be used for the evaluation to determine true positives and false positives\n",
    "\n",
    "    Returns:\n",
    "        _type_: _description_\n",
    "    \"\"\"\n",
    "\n",
    "    f1s = dict()\n",
    "    recalls = dict()\n",
    "    precisions = dict()\n",
    "    # Group by parameter values to calculate accuracy per parameter setting, over all logs\n",
    "    for parameters, group in df.groupby(by=param_names):\n",
    "        # Calculate Accuracy for this parameter setting\n",
    "        ## --> F1-Score, but first collect all TP and FP\n",
    "        tps = 0\n",
    "        fps = 0\n",
    "        positives = 0\n",
    "        detected = 0\n",
    "\n",
    "        # Collect TP FP, etc. \n",
    "        for index, row in group.iterrows():\n",
    "            actual_cp = row[\"Actual Changepoints for Log\"]\n",
    "            detected_cp = row[\"Detected Changepoints\"]\n",
    "            tp, fp = evaluation.getTP_FP(detected_cp, actual_cp, lag_window)\n",
    "            tps += tp\n",
    "            fps += fp\n",
    "            positives += len(actual_cp)\n",
    "            detected += len(detected_cp)\n",
    "\n",
    "        try:\n",
    "            precisions[parameters] = tps / detected\n",
    "        except ZeroDivisionError:\n",
    "            precisions[parameters] = np.NaN\n",
    "        \n",
    "        try:\n",
    "            recalls[parameters] = tps / positives\n",
    "        except ZeroDivisionError:\n",
    "            recalls[parameters] = np.NaN\n",
    "\n",
    "        f1s[parameters] = harmonic_mean([precisions[parameters], recalls[parameters]]) # If either is nan, the harmonic mean is nan\n",
    "    return (precisions, recalls, f1s)\n",
    "\n",
    "def calculate_accuracy_metric_df(dataframe, lag_window, verbose=True):\n",
    "    computed_accuracy_dicts = dict()\n",
    "    computed_precision_dicts = dict()\n",
    "    computed_recall_dicts = dict()\n",
    "\n",
    "    accuracy_best_param = dict()\n",
    "\n",
    "    accuracies = dict()\n",
    "    for name, a_df in dataframe.groupby(by=\"Algorithm\"):\n",
    "        computed_precision_dicts[name], computed_recall_dicts[name], computed_accuracy_dicts[name] = calcAccuracy(a_df, used_parameters[name], LAG_WINDOW)\n",
    "\n",
    "        best_param = max(computed_accuracy_dicts[name],  key=lambda x: computed_accuracy_dicts[name][x])\n",
    "\n",
    "        accuracy_best_param[name] = best_param\n",
    "\n",
    "        # accuracies[name] = max(computed_accuracy_dicts[name].values())\n",
    "        accuracies[name] = computed_accuracy_dicts[name][best_param]\n",
    "        if verbose:\n",
    "            print(f\"{name}: {accuracies[name]}\")\n",
    "\n",
    "    return (accuracies, computed_accuracy_dicts, computed_precision_dicts, computed_recall_dicts, accuracy_best_param)\n",
    "\n",
    "accuracies, computed_accuracy_dicts, computed_precision_dicts, computed_recall_dicts, accuracy_best_param = calculate_accuracy_metric_df(df_noiseless, LAG_WINDOW)"
   ]
  },
  {
   "cell_type": "markdown",
   "metadata": {},
   "source": [
    "#### Plot Accuracy as Barplot of Precision, Recall, F1"
   ]
  },
  {
   "cell_type": "code",
   "execution_count": 171,
   "metadata": {},
   "outputs": [
    {
     "data": {
      "image/png": "[encoded data removed]",
      "text/plain": [
       "<Figure size 1080x288 with 1 Axes>"
      ]
     },
     "metadata": {
      "needs_background": "light"
     },
     "output_type": "display_data"
    }
   ],
   "source": [
    "accuracy_plot_df = pd.DataFrame(\n",
    "    [\n",
    "        {\n",
    "            \"Algorithm\": name,\n",
    "            \"Metric\": \"F1-Score\",\n",
    "            \"Value\": computed_accuracy_dicts[name][accuracy_best_param[name]]\n",
    "        }\n",
    "        for name in computed_accuracy_dicts.keys()\n",
    "    ] + [\n",
    "        {\n",
    "            \"Algorithm\": name,\n",
    "            \"Metric\": \"Precision\",\n",
    "            \"Value\": computed_precision_dicts[name][accuracy_best_param[name]]\n",
    "        }\n",
    "        for name in computed_accuracy_dicts.keys()\n",
    "    ] + [\n",
    "        {\n",
    "            \"Algorithm\": name,\n",
    "            \"Metric\": \"Recall\",\n",
    "            \"Value\": computed_recall_dicts[name][accuracy_best_param[name]]\n",
    "        }\n",
    "        for name in computed_accuracy_dicts.keys()\n",
    "    ]\n",
    ")\n",
    "\n",
    "palette=None #{\"Precision\": \"#573deb\", \"F1-Score\": \"#ff0076\", \"Recall\": \"#ffa600\"}\n",
    "ax = sns.barplot(x=\"Metric\", y=\"Value\", data=accuracy_plot_df, hue=\"Algorithm\", palette=palette, hue_order=ALPHA_SORT_NAMES)\n",
    "\n",
    "ax.figure.set_size_inches(15, 4)\n",
    "# ax.tick_params(labelrotation=10, ha=\"right\")\n",
    "# Set each ticks horizontal alignment to \"right\"\n",
    "# for tick in ax.get_xticklabels():\n",
    "#     tick.set_ha(\"right\")\n",
    "#     tick.set_rotation(20)\n",
    "\n",
    "plt.legend(bbox_to_anchor=(1.01, 1), loc='upper left', borderaxespad=0)\n",
    "\n",
    "if not os.path.exists(\"Final_Eval/Accuracy\"):\n",
    "    os.makedirs(\"Final_Eval/Accuracy\")\n",
    "plt.savefig(\"Final_Eval/Accuracy/accuracy.pdf\", bbox_inches=\"tight\", format=\"pdf\")\n",
    "plt.show()"
   ]
  },
  {
   "cell_type": "markdown",
   "metadata": {},
   "source": [
    "### Plot as Points"
   ]
  },
  {
   "cell_type": "code",
   "execution_count": 13,
   "metadata": {},
   "outputs": [
    {
     "data": {
      "image/png": "[encoded data removed]",
      "text/plain": [
       "<Figure size 1080x288 with 1 Axes>"
      ]
     },
     "metadata": {
      "needs_background": "light"
     },
     "output_type": "display_data"
    }
   ],
   "source": [
    "ax = sns.pointplot(\n",
    "    x=\"Algorithm\",\n",
    "    y=\"Value\",\n",
    "    data=accuracy_plot_df,\n",
    "    hue=\"Metric\",\n",
    "    order=ALPHA_SORT_NAMES,\n",
    "    join=True,\n",
    ")\n",
    "ax.figure.set_size_inches(15, 4)\n",
    "plt.show()"
   ]
  },
  {
   "cell_type": "markdown",
   "metadata": {},
   "source": [
    "## Latency\n",
    "- Using best parameter setting\n",
    "- Same logs as above"
   ]
  },
  {
   "cell_type": "code",
   "execution_count": 14,
   "metadata": {},
   "outputs": [
    {
     "name": "stdout",
     "output_type": "stream",
     "text": [
      "ADWIN J: 66.72 Traces; Score: 0.6664\n",
      "ADWIN WC: nan Traces; Score: nan\n",
      "EMD: 43.896551724137936 Traces; Score: 0.7805172413793103\n",
      "J-Measure: 52.629629629629626 Traces; Score: 0.7368518518518519\n",
      "PGM: 48.45000000000002 Traces; Score: 0.7577499999999999\n",
      "ProDrift: 18.294117647058815 Traces; Score: 0.9085294117647059\n",
      "RINV: 54.04231802148467 Traces; Score: 0.7297884098925767\n",
      "Window Count: 41.57142857142857 Traces; Score: 0.7921428571428571\n"
     ]
    }
   ],
   "source": [
    "from statistics import mean\n",
    "\n",
    "def calcLatencies(df, param_names, lag_window):\n",
    "    latencies = dict()\n",
    "    for parameters, group in df.groupby(by=param_names):\n",
    "        lags = []\n",
    "        for index, row in group.iterrows():\n",
    "            actual_cp = row[\"Actual Changepoints for Log\"]\n",
    "            detected_cp = row[\"Detected Changepoints\"]\n",
    "            assignments = evaluation.assign_changepoints(detected_cp, actual_cp, lag_window)\n",
    "            for d, a in assignments:\n",
    "                lags.append(abs(d-a))\n",
    "        latencies[parameters] = lags\n",
    "    return latencies\n",
    "\n",
    "def calculate_latency(dataframe, lag_window, verbose=True):\n",
    "    latencies = dict() # Dict holding the best achieved latency per approach\n",
    "    scaled_latency_dicts = dict() # Dict holding the scaled mean latency per approach per parameter setting\n",
    "    computed_latency_dicts = dict() # Dict holding the raw list of detection lags per approach per parameter setting\n",
    "    best_params_latency = dict() # Dict holding the best parameter setting per approach (the one that achieves the best latency)\n",
    "    for name, a_df in dataframe.groupby(by=\"Algorithm\"):\n",
    "        result = calcLatencies(a_df, used_parameters[name], LAG_WINDOW)\n",
    "        computed_latency_dicts[name] = result\n",
    "        latency_scaled_dict = {\n",
    "            param: 1-(mean(result[param])/LAG_WINDOW) if len(result[param]) > 0 else np.NaN\n",
    "            for param in result.keys()\n",
    "        }\n",
    "        scaled_latency_dicts[name] = latency_scaled_dict\n",
    "        best_param = max(latency_scaled_dict,  key=lambda x: latency_scaled_dict[x])\n",
    "        best_params_latency[name] = best_param\n",
    "        latencies[name] = latency_scaled_dict[best_param]\n",
    "        if verbose:\n",
    "            print(f\"{name}: {(1-latencies[name])*LAG_WINDOW} Traces; Score: {latencies[name]}\")\n",
    "    return (latencies, scaled_latency_dicts, computed_latency_dicts, best_params_latency)\n",
    "\n",
    "latencies, scaled_latency_dicts, computed_latency_dicts, best_params_latency = calculate_latency(df_noiseless, LAG_WINDOW)"
   ]
  },
  {
   "cell_type": "markdown",
   "metadata": {},
   "source": [
    "#### Plot Latency\n",
    "- Plotting the observed average latency along with the corresponding standard deviation for the found best parameter setting"
   ]
  },
  {
   "cell_type": "code",
   "execution_count": 172,
   "metadata": {},
   "outputs": [
    {
     "data": {
      "image/png": "[encoded data removed]",
      "text/plain": [
       "<Figure size 1224x288 with 1 Axes>"
      ]
     },
     "metadata": {
      "needs_background": "light"
     },
     "output_type": "display_data"
    }
   ],
   "source": [
    "latency_plot_df = pd.DataFrame([\n",
    "    {\n",
    "        \"Algorithm\": name,\n",
    "        \"Unscaled Latency\": latency\n",
    "    }\n",
    "    for name in computed_latency_dicts.keys()\n",
    "    for latency in computed_latency_dicts[name][best_params_latency[name]]\n",
    "])\n",
    "\n",
    "ax = plt.subplots(figsize=(17, 4))\n",
    "\n",
    "# Order by latency, ascending (best is left)\n",
    "# order = [name for name, _ in sorted(latencies.items(), key=lambda x: x[1] if not np.isnan(x[1]) else 0, reverse=True)]\n",
    "# print(order)\n",
    "sns.barplot(x=\"Algorithm\", y=\"Unscaled Latency\", data=latency_plot_df, order=ALPHA_SORT_NAMES)\n",
    "plt.ylabel(\"Latency [Traces]\")\n",
    "\n",
    "\n",
    "if not os.path.exists(\"Final_Eval/Latency\"):\n",
    "    os.makedirs(\"Final_Eval/Latency\")\n",
    "plt.savefig(\"Final_Eval/Latency/latency.pdf\", bbox_inches=\"tight\", format=\"pdf\")\n"
   ]
  },
  {
   "cell_type": "markdown",
   "metadata": {},
   "source": [
    "## Versatility"
   ]
  },
  {
   "cell_type": "markdown",
   "metadata": {},
   "source": [
    "#### Preprocessing"
   ]
  },
  {
   "cell_type": "code",
   "execution_count": 16,
   "metadata": {},
   "outputs": [],
   "source": [
    "# mapping_ostovar_to_shortnames = {\n",
    "#     \"ConditionalMove\": 'cm',\n",
    "#     \"ConditionalRemoval\": 'cre',\n",
    "#     \"ConditionalToSequence\": 'cf',\n",
    "#     \"Frequency\": 'fr',\n",
    "#     \"Loop\": 'lp',\n",
    "#     \"ParallelMove\": 'pm',\n",
    "#     \"ParallelRemoval\": 'pre',\n",
    "#     \"ParallelToSequence\": 'pl',\n",
    "#     \"SerialMove\": 'sm',\n",
    "#     \"SerialRemoval\": 'sre',\n",
    "#     \"Skip\": 'cb',\n",
    "#     \"Substitute\": 'rp',\n",
    "#     \"Swap\": 'sw',\n",
    "# }\n",
    "\n",
    "# def map_row_to_cp(row):\n",
    "#     logname = row[\"Log\"]\n",
    "#     if row[\"Log Source\"] == \"Ceravolo\":\n",
    "#         return logname.split(\"_\")[-1]\n",
    "#     elif row[\"Log Source\"] == \"Ostovar\":\n",
    "#         change_pattern = logname.split(\"_\")[-1]\n",
    "#         if change_pattern.isnumeric(): # This log has a noise level; Use the second to last string instead\n",
    "#             change_pattern = logname.split(\"_\")[-2]\n",
    "#         return mapping_ostovar_to_shortnames[change_pattern]\n",
    "#     else:\n",
    "#         raise ValueError(f\"Unknown Log Source for Versatility: {row['Log Source']}; Is this Log meant to be used for a Versatility Evaluation?\")\n",
    "# # Only use the Ceravolo and Ostovar Logs as Bose has only 1 log with various change points\n",
    "df_v = df_noiseless[df_noiseless[\"Log Source\"].isin([\"Ceravolo\", \"Ostovar\"])].copy(deep=True)\n",
    "# # Add a column stating the change pattern that is applied\n",
    "# df_v[\"Change Pattern\"] = df_v.apply(lambda x: map_row_to_cp(x), axis=1)\n"
   ]
  },
  {
   "cell_type": "markdown",
   "metadata": {},
   "source": [
    "#### Calculation\n",
    "- Recall of all logs of the same pattern, \"concatenated\", i.e., accumulate TP and FP first\n",
    "- Divide this by the number of change patterns"
   ]
  },
  {
   "cell_type": "code",
   "execution_count": 17,
   "metadata": {},
   "outputs": [],
   "source": [
    "# TODO: Map an approach to a dict mapping param setting to change patterns to recall\n",
    "# versatility_recall_dicts = dict() # Map approach to a dictionary mapping a change pattern to the recall achieved by the approach on this change pattern\n",
    "# versatilities = dict() # Map approach to versatility score\n",
    "# for name, group in df_v.groupby(by=[\"Algorithm\"]):\n",
    "#     recalls_of_this_approach = dict()\n",
    "#     for change_pattern, cp_group in group.groupby(by=[\"Change Pattern\"]):\n",
    "#         TPS = 0\n",
    "#         POSITIVES = 0\n",
    "#         # TP / TP+FN = TP / POSTIVES = Recall\n",
    "#         for index, row in cp_group.iterrows():\n",
    "#             detected_changepoints = row[\"Detected Changepoints\"]\n",
    "#             actual_changepoints = row[\"Actual Changepoints for Log\"]\n",
    "\n",
    "#             tp, _ = evaluation.getTP_FP(detected_changepoints, actual_changepoints, LAG_WINDOW)\n",
    "\n",
    "#             TPS += tp\n",
    "#             POSITIVES += len(actual_changepoints)\n",
    "\n",
    "#         # Recall of this algorithm for this change pattern:\n",
    "#         recall = TPS / POSITIVES if POSITIVES != 0 else np.NaN # Only the case if there are no actual changepoints, which should not be the case\n",
    "#         recalls_of_this_approach[change_pattern] = recall\n",
    "#     versatility_recall_dicts[name] = recalls_of_this_approach\n",
    "#     versatilities[name] = mean(recalls_of_this_approach.values())\n",
    "#     print(f\"{name}: {versatilities[name]}\")\n"
   ]
  },
  {
   "cell_type": "code",
   "execution_count": 18,
   "metadata": {},
   "outputs": [
    {
     "name": "stdout",
     "output_type": "stream",
     "text": [
      "ADWIN J: 0.59375\n",
      "ADWIN WC: 0.0\n",
      "EMD: 0.875\n",
      "J-Measure: 0.7708333333333333\n",
      "PGM: 0.65625\n",
      "ProDrift: 0.38541666666666663\n",
      "RINV: 0.8541666666666666\n",
      "Window Count: 0.625\n"
     ]
    }
   ],
   "source": [
    "def calc_versatility(dataframe, lag_window, verbose=True):\n",
    "\n",
    "    versatility_recall_dicts = dict() # Map approach to a dictionary mapping param setting to mean recall over all change patterns\n",
    "    versatilities = dict() # Map approach to versatility score\n",
    "    best_params_versatility = dict() # Map approach to best param setting\n",
    "\n",
    "    for name, group in dataframe.groupby(by=[\"Algorithm\"]):\n",
    "        recalls_of_this_approach = dict()\n",
    "        for params, params_group in group.groupby(by=used_parameters[name]):\n",
    "            recalls = dict()\n",
    "            for change_pattern, cp_group in params_group.groupby(by=[\"Change Pattern\"]):\n",
    "                TPS = 0\n",
    "                POSITIVES = 0\n",
    "                # TP / TP+FN = TP / POSTIVES = Recall\n",
    "                for index, row in cp_group.iterrows():\n",
    "                    detected_changepoints = row[\"Detected Changepoints\"]\n",
    "                    actual_changepoints = row[\"Actual Changepoints for Log\"]\n",
    "\n",
    "                    tp, _ = evaluation.getTP_FP(detected_changepoints, actual_changepoints, lag_window)\n",
    "\n",
    "                    TPS += tp\n",
    "                    POSITIVES += len(actual_changepoints)\n",
    "\n",
    "                # Recall of this algorithm for this change pattern:\n",
    "                recall = TPS / POSITIVES if POSITIVES != 0 else np.NaN # Only the case if there are no actual changepoints, which should not be the case\n",
    "                recalls[change_pattern] = recall\n",
    "            recalls_of_this_approach[params] = recalls\n",
    "        versatility_recall_dicts[name] = recalls_of_this_approach\n",
    "        best_param = max(recalls_of_this_approach, key=lambda x: np.nanmean(list(recalls_of_this_approach[x].values()))) # .values() gives us all the recalls for all change patterns on this param setting\n",
    "        best_params_versatility[name] = best_param\n",
    "        versatilities[name] = np.nanmean(list(\n",
    "            recalls_of_this_approach[best_param].values()\n",
    "        ))\n",
    "        \n",
    "        if verbose:\n",
    "            print(f\"{name}: {versatilities[name]}\")\n",
    "        \n",
    "    return versatilities, versatility_recall_dicts, best_params_versatility\n",
    "\n",
    "versatilities, versatility_recall_dicts, best_params_versatility = calc_versatility(df_v, LAG_WINDOW)\n"
   ]
  },
  {
   "cell_type": "markdown",
   "metadata": {},
   "source": [
    "#### Plot\n",
    "- Barplot with \"bar\" for each change pattern and approach"
   ]
  },
  {
   "cell_type": "code",
   "execution_count": 173,
   "metadata": {},
   "outputs": [
    {
     "data": {
      "image/png": "[encoded data removed]",
      "text/plain": [
       "<Figure size 1440x288 with 1 Axes>"
      ]
     },
     "metadata": {
      "needs_background": "light"
     },
     "output_type": "display_data"
    }
   ],
   "source": [
    "df_vers_plot = pd.DataFrame([\n",
    "    {\n",
    "        \"Algorithm\": name,\n",
    "        \"Change Pattern\": cp,\n",
    "        \"Versatility\": versatility_recall_dicts[name][best_params_versatility[name]][cp]\n",
    "    }\n",
    "    for name in versatility_recall_dicts.keys()\n",
    "    for cp in versatility_recall_dicts[name][best_params_versatility[name]].keys()\n",
    "])\n",
    "\n",
    "\n",
    "fig,ax = plt.subplots(figsize=(20, 4))\n",
    "sns.barplot(x=\"Change Pattern\", y=\"Versatility\", data=df_vers_plot, hue=\"Algorithm\", ax=ax, hue_order=ALPHA_SORT_NAMES)\n",
    "plt.legend(bbox_to_anchor=(1.01, 1), loc='upper left', borderaxespad=0)\n",
    "\n",
    "if not os.path.exists(\"Final_Eval/Versatility\"):\n",
    "    os.makedirs(\"Final_Eval/Versatility\")\n",
    "plt.savefig(\"Final_Eval/Versatility/versatility.pdf\", bbox_inches=\"tight\", format=\"pdf\")\n",
    "plt.show()"
   ]
  },
  {
   "cell_type": "code",
   "execution_count": 20,
   "metadata": {},
   "outputs": [
    {
     "data": {
      "image/png": "[encoded data removed]",
      "text/plain": [
       "<Figure size 1440x288 with 1 Axes>"
      ]
     },
     "metadata": {
      "needs_background": "light"
     },
     "output_type": "display_data"
    }
   ],
   "source": [
    "change_patterns = sorted(list(df_vers_plot[\"Change Pattern\"].unique()))\n",
    "ax = sns.pointplot(\n",
    "    x=\"Change Pattern\",\n",
    "    y=\"Versatility\",\n",
    "    data=df_vers_plot,\n",
    "    hue=\"Algorithm\",\n",
    "    hue_order=ALPHA_SORT_NAMES,\n",
    "    order=change_patterns\n",
    ")\n",
    "ax.figure.set_size_inches(20,4)\n",
    "plt.legend(bbox_to_anchor=(1.01, 1), loc='upper left', borderaxespad=0)\n",
    "plt.show()"
   ]
  },
  {
   "cell_type": "code",
   "execution_count": 174,
   "metadata": {},
   "outputs": [
    {
     "data": {
      "image/png": "[encoded data removed]",
      "text/plain": [
       "<Figure size 1440x288 with 1 Axes>"
      ]
     },
     "metadata": {
      "needs_background": "light"
     },
     "output_type": "display_data"
    }
   ],
   "source": [
    "# Plot again, but split in half\n",
    "first_half = change_patterns[:len(change_patterns)//2]\n",
    "second_half = change_patterns[len(change_patterns)//2:]\n",
    "fig,ax = plt.subplots(figsize=(20, 4))\n",
    "sns.barplot(x=\"Change Pattern\", y=\"Versatility\", data=df_vers_plot[df_vers_plot[\"Change Pattern\"].isin(first_half)], hue=\"Algorithm\", order=first_half, ax=ax, hue_order=ALPHA_SORT_NAMES)\n",
    "plt.legend(bbox_to_anchor=(1.01, 1), loc='upper left', borderaxespad=0)\n",
    "\n",
    "plt.savefig(\"Final_Eval/Versatility/versatility_split_1.pdf\", bbox_inches=\"tight\", format=\"pdf\")\n",
    "plt.show()"
   ]
  },
  {
   "cell_type": "code",
   "execution_count": 175,
   "metadata": {},
   "outputs": [
    {
     "data": {
      "image/png": "[encoded data removed]",
      "text/plain": [
       "<Figure size 1440x288 with 1 Axes>"
      ]
     },
     "metadata": {
      "needs_background": "light"
     },
     "output_type": "display_data"
    }
   ],
   "source": [
    "fig2,ax2 = plt.subplots(figsize=(20, 4))\n",
    "sns.barplot(x=\"Change Pattern\", y=\"Versatility\", data=df_vers_plot[df_vers_plot[\"Change Pattern\"].isin(second_half)], hue=\"Algorithm\", order=second_half, ax=ax2, hue_order=ALPHA_SORT_NAMES)\n",
    "plt.legend(bbox_to_anchor=(1.01, 1), loc='upper left', borderaxespad=0)\n",
    "plt.savefig(\"Final_Eval/Versatility/versatility_split_2.pdf\", bbox_inches=\"tight\", format=\"pdf\")"
   ]
  },
  {
   "cell_type": "markdown",
   "metadata": {},
   "source": [
    "#### Plot as Radar Plot (Trying out plotly first)"
   ]
  },
  {
   "cell_type": "code",
   "execution_count": 176,
   "metadata": {},
   "outputs": [
    {
     "data": {
      "application/vnd.plotly.v1+json": {
       "config": {
        "plotlyServerURL": "https://plot.ly"
       },
       "data": [
        {
         "fill": "toself",
         "hovertemplate": "Algorithm=Window Count<br>Versatility=%{r}<br>Change Pattern=%{theta}<extra></extra>",
         "legendgroup": "Window Count",
         "line": {
          "color": "#B6E880",
          "dash": "solid"
         },
         "marker": {
          "symbol": "circle"
         },
         "mode": "lines",
         "name": "Window Count",
         "r": [
          1,
          0,
          0.6666666666666666,
          1,
          1,
          0.5,
          1,
          1,
          0,
          0,
          0.5,
          1,
          1,
          0,
          1,
          0.3333333333333333,
          1
         ],
         "showlegend": true,
         "subplot": "polar",
         "theta": [
          "cb",
          "cd",
          "cf",
          "cm",
          "cp",
          "cre",
          "fr",
          "lp",
          "pl",
          "pm",
          "pre",
          "re",
          "rp",
          "sm",
          "sre",
          "sw",
          "cb"
         ],
         "type": "scatterpolar"
        }
       ],
       "layout": {
        "legend": {
         "title": {
          "text": "Algorithm"
         },
         "tracegroupgap": 0
        },
        "margin": {
         "t": 60
        },
        "polar": {
         "angularaxis": {
          "direction": "clockwise",
          "rotation": 90
         },
         "domain": {
          "x": [
           0,
           1
          ],
          "y": [
           0,
           1
          ]
         }
        },
        "showlegend": false,
        "template": {
         "data": {
          "bar": [
           {
            "error_x": {
             "color": "#2a3f5f"
            },
            "error_y": {
             "color": "#2a3f5f"
            },
            "marker": {
             "line": {
              "color": "#E5ECF6",
              "width": 0.5
             },
             "pattern": {
              "fillmode": "overlay",
              "size": 10,
              "solidity": 0.2
             }
            },
            "type": "bar"
           }
          ],
          "barpolar": [
           {
            "marker": {
             "line": {
              "color": "#E5ECF6",
              "width": 0.5
             },
             "pattern": {
              "fillmode": "overlay",
              "size": 10,
              "solidity": 0.2
             }
            },
            "type": "barpolar"
           }
          ],
          "carpet": [
           {
            "aaxis": {
             "endlinecolor": "#2a3f5f",
             "gridcolor": "white",
             "linecolor": "white",
             "minorgridcolor": "white",
             "startlinecolor": "#2a3f5f"
            },
            "baxis": {
             "endlinecolor": "#2a3f5f",
             "gridcolor": "white",
             "linecolor": "white",
             "minorgridcolor": "white",
             "startlinecolor": "#2a3f5f"
            },
            "type": "carpet"
           }
          ],
          "choropleth": [
           {
            "colorbar": {
             "outlinewidth": 0,
             "ticks": ""
            },
            "type": "choropleth"
           }
          ],
          "contour": [
           {
            "colorbar": {
             "outlinewidth": 0,
             "ticks": ""
            },
            "colorscale": [
             [
              0,
              "#0d0887"
             ],
             [
              0.1111111111111111,
              "#46039f"
             ],
             [
              0.2222222222222222,
              "#7201a8"
             ],
             [
              0.3333333333333333,
              "#9c179e"
             ],
             [
              0.4444444444444444,
              "#bd3786"
             ],
             [
              0.5555555555555556,
              "#d8576b"
             ],
             [
              0.6666666666666666,
              "#ed7953"
             ],
             [
              0.7777777777777778,
              "#fb9f3a"
             ],
             [
              0.8888888888888888,
              "#fdca26"
             ],
             [
              1,
              "#f0f921"
             ]
            ],
            "type": "contour"
           }
          ],
          "contourcarpet": [
           {
            "colorbar": {
             "outlinewidth": 0,
             "ticks": ""
            },
            "type": "contourcarpet"
           }
          ],
          "heatmap": [
           {
            "colorbar": {
             "outlinewidth": 0,
             "ticks": ""
            },
            "colorscale": [
             [
              0,
              "#0d0887"
             ],
             [
              0.1111111111111111,
              "#46039f"
             ],
             [
              0.2222222222222222,
              "#7201a8"
             ],
             [
              0.3333333333333333,
              "#9c179e"
             ],
             [
              0.4444444444444444,
              "#bd3786"
             ],
             [
              0.5555555555555556,
              "#d8576b"
             ],
             [
              0.6666666666666666,
              "#ed7953"
             ],
             [
              0.7777777777777778,
              "#fb9f3a"
             ],
             [
              0.8888888888888888,
              "#fdca26"
             ],
             [
              1,
              "#f0f921"
             ]
            ],
            "type": "heatmap"
           }
          ],
          "heatmapgl": [
           {
            "colorbar": {
             "outlinewidth": 0,
             "ticks": ""
            },
            "colorscale": [
             [
              0,
              "#0d0887"
             ],
             [
              0.1111111111111111,
              "#46039f"
             ],
             [
              0.2222222222222222,
              "#7201a8"
             ],
             [
              0.3333333333333333,
              "#9c179e"
             ],
             [
              0.4444444444444444,
              "#bd3786"
             ],
             [
              0.5555555555555556,
              "#d8576b"
             ],
             [
              0.6666666666666666,
              "#ed7953"
             ],
             [
              0.7777777777777778,
              "#fb9f3a"
             ],
             [
              0.8888888888888888,
              "#fdca26"
             ],
             [
              1,
              "#f0f921"
             ]
            ],
            "type": "heatmapgl"
           }
          ],
          "histogram": [
           {
            "marker": {
             "pattern": {
              "fillmode": "overlay",
              "size": 10,
              "solidity": 0.2
             }
            },
            "type": "histogram"
           }
          ],
          "histogram2d": [
           {
            "colorbar": {
             "outlinewidth": 0,
             "ticks": ""
            },
            "colorscale": [
             [
              0,
              "#0d0887"
             ],
             [
              0.1111111111111111,
              "#46039f"
             ],
             [
              0.2222222222222222,
              "#7201a8"
             ],
             [
              0.3333333333333333,
              "#9c179e"
             ],
             [
              0.4444444444444444,
              "#bd3786"
             ],
             [
              0.5555555555555556,
              "#d8576b"
             ],
             [
              0.6666666666666666,
              "#ed7953"
             ],
             [
              0.7777777777777778,
              "#fb9f3a"
             ],
             [
              0.8888888888888888,
              "#fdca26"
             ],
             [
              1,
              "#f0f921"
             ]
            ],
            "type": "histogram2d"
           }
          ],
          "histogram2dcontour": [
           {
            "colorbar": {
             "outlinewidth": 0,
             "ticks": ""
            },
            "colorscale": [
             [
              0,
              "#0d0887"
             ],
             [
              0.1111111111111111,
              "#46039f"
             ],
             [
              0.2222222222222222,
              "#7201a8"
             ],
             [
              0.3333333333333333,
              "#9c179e"
             ],
             [
              0.4444444444444444,
              "#bd3786"
             ],
             [
              0.5555555555555556,
              "#d8576b"
             ],
             [
              0.6666666666666666,
              "#ed7953"
             ],
             [
              0.7777777777777778,
              "#fb9f3a"
             ],
             [
              0.8888888888888888,
              "#fdca26"
             ],
             [
              1,
              "#f0f921"
             ]
            ],
            "type": "histogram2dcontour"
           }
          ],
          "mesh3d": [
           {
            "colorbar": {
             "outlinewidth": 0,
             "ticks": ""
            },
            "type": "mesh3d"
           }
          ],
          "parcoords": [
           {
            "line": {
             "colorbar": {
              "outlinewidth": 0,
              "ticks": ""
             }
            },
            "type": "parcoords"
           }
          ],
          "pie": [
           {
            "automargin": true,
            "type": "pie"
           }
          ],
          "scatter": [
           {
            "fillpattern": {
             "fillmode": "overlay",
             "size": 10,
             "solidity": 0.2
            },
            "type": "scatter"
           }
          ],
          "scatter3d": [
           {
            "line": {
             "colorbar": {
              "outlinewidth": 0,
              "ticks": ""
             }
            },
            "marker": {
             "colorbar": {
              "outlinewidth": 0,
              "ticks": ""
             }
            },
            "type": "scatter3d"
           }
          ],
          "scattercarpet": [
           {
            "marker": {
             "colorbar": {
              "outlinewidth": 0,
              "ticks": ""
             }
            },
            "type": "scattercarpet"
           }
          ],
          "scattergeo": [
           {
            "marker": {
             "colorbar": {
              "outlinewidth": 0,
              "ticks": ""
             }
            },
            "type": "scattergeo"
           }
          ],
          "scattergl": [
           {
            "marker": {
             "colorbar": {
              "outlinewidth": 0,
              "ticks": ""
             }
            },
            "type": "scattergl"
           }
          ],
          "scattermapbox": [
           {
            "marker": {
             "colorbar": {
              "outlinewidth": 0,
              "ticks": ""
             }
            },
            "type": "scattermapbox"
           }
          ],
          "scatterpolar": [
           {
            "marker": {
             "colorbar": {
              "outlinewidth": 0,
              "ticks": ""
             }
            },
            "type": "scatterpolar"
           }
          ],
          "scatterpolargl": [
           {
            "marker": {
             "colorbar": {
              "outlinewidth": 0,
              "ticks": ""
             }
            },
            "type": "scatterpolargl"
           }
          ],
          "scatterternary": [
           {
            "marker": {
             "colorbar": {
              "outlinewidth": 0,
              "ticks": ""
             }
            },
            "type": "scatterternary"
           }
          ],
          "surface": [
           {
            "colorbar": {
             "outlinewidth": 0,
             "ticks": ""
            },
            "colorscale": [
             [
              0,
              "#0d0887"
             ],
             [
              0.1111111111111111,
              "#46039f"
             ],
             [
              0.2222222222222222,
              "#7201a8"
             ],
             [
              0.3333333333333333,
              "#9c179e"
             ],
             [
              0.4444444444444444,
              "#bd3786"
             ],
             [
              0.5555555555555556,
              "#d8576b"
             ],
             [
              0.6666666666666666,
              "#ed7953"
             ],
             [
              0.7777777777777778,
              "#fb9f3a"
             ],
             [
              0.8888888888888888,
              "#fdca26"
             ],
             [
              1,
              "#f0f921"
             ]
            ],
            "type": "surface"
           }
          ],
          "table": [
           {
            "cells": {
             "fill": {
              "color": "#EBF0F8"
             },
             "line": {
              "color": "white"
             }
            },
            "header": {
             "fill": {
              "color": "#C8D4E3"
             },
             "line": {
              "color": "white"
             }
            },
            "type": "table"
           }
          ]
         },
         "layout": {
          "annotationdefaults": {
           "arrowcolor": "#2a3f5f",
           "arrowhead": 0,
           "arrowwidth": 1
          },
          "autotypenumbers": "strict",
          "coloraxis": {
           "colorbar": {
            "outlinewidth": 0,
            "ticks": ""
           }
          },
          "colorscale": {
           "diverging": [
            [
             0,
             "#8e0152"
            ],
            [
             0.1,
             "#c51b7d"
            ],
            [
             0.2,
             "#de77ae"
            ],
            [
             0.3,
             "#f1b6da"
            ],
            [
             0.4,
             "#fde0ef"
            ],
            [
             0.5,
             "#f7f7f7"
            ],
            [
             0.6,
             "#e6f5d0"
            ],
            [
             0.7,
             "#b8e186"
            ],
            [
             0.8,
             "#7fbc41"
            ],
            [
             0.9,
             "#4d9221"
            ],
            [
             1,
             "#276419"
            ]
           ],
           "sequential": [
            [
             0,
             "#0d0887"
            ],
            [
             0.1111111111111111,
             "#46039f"
            ],
            [
             0.2222222222222222,
             "#7201a8"
            ],
            [
             0.3333333333333333,
             "#9c179e"
            ],
            [
             0.4444444444444444,
             "#bd3786"
            ],
            [
             0.5555555555555556,
             "#d8576b"
            ],
            [
             0.6666666666666666,
             "#ed7953"
            ],
            [
             0.7777777777777778,
             "#fb9f3a"
            ],
            [
             0.8888888888888888,
             "#fdca26"
            ],
            [
             1,
             "#f0f921"
            ]
           ],
           "sequentialminus": [
            [
             0,
             "#0d0887"
            ],
            [
             0.1111111111111111,
             "#46039f"
            ],
            [
             0.2222222222222222,
             "#7201a8"
            ],
            [
             0.3333333333333333,
             "#9c179e"
            ],
            [
             0.4444444444444444,
             "#bd3786"
            ],
            [
             0.5555555555555556,
             "#d8576b"
            ],
            [
             0.6666666666666666,
             "#ed7953"
            ],
            [
             0.7777777777777778,
             "#fb9f3a"
            ],
            [
             0.8888888888888888,
             "#fdca26"
            ],
            [
             1,
             "#f0f921"
            ]
           ]
          },
          "colorway": [
           "#636efa",
           "#EF553B",
           "#00cc96",
           "#ab63fa",
           "#FFA15A",
           "#19d3f3",
           "#FF6692",
           "#B6E880",
           "#FF97FF",
           "#FECB52"
          ],
          "font": {
           "color": "#2a3f5f"
          },
          "geo": {
           "bgcolor": "white",
           "lakecolor": "white",
           "landcolor": "#E5ECF6",
           "showlakes": true,
           "showland": true,
           "subunitcolor": "white"
          },
          "hoverlabel": {
           "align": "left"
          },
          "hovermode": "closest",
          "mapbox": {
           "style": "light"
          },
          "paper_bgcolor": "white",
          "plot_bgcolor": "#E5ECF6",
          "polar": {
           "angularaxis": {
            "gridcolor": "white",
            "linecolor": "white",
            "ticks": ""
           },
           "bgcolor": "#E5ECF6",
           "radialaxis": {
            "gridcolor": "white",
            "linecolor": "white",
            "ticks": ""
           }
          },
          "scene": {
           "xaxis": {
            "backgroundcolor": "#E5ECF6",
            "gridcolor": "white",
            "gridwidth": 2,
            "linecolor": "white",
            "showbackground": true,
            "ticks": "",
            "zerolinecolor": "white"
           },
           "yaxis": {
            "backgroundcolor": "#E5ECF6",
            "gridcolor": "white",
            "gridwidth": 2,
            "linecolor": "white",
            "showbackground": true,
            "ticks": "",
            "zerolinecolor": "white"
           },
           "zaxis": {
            "backgroundcolor": "#E5ECF6",
            "gridcolor": "white",
            "gridwidth": 2,
            "linecolor": "white",
            "showbackground": true,
            "ticks": "",
            "zerolinecolor": "white"
           }
          },
          "shapedefaults": {
           "line": {
            "color": "#2a3f5f"
           }
          },
          "ternary": {
           "aaxis": {
            "gridcolor": "white",
            "linecolor": "white",
            "ticks": ""
           },
           "baxis": {
            "gridcolor": "white",
            "linecolor": "white",
            "ticks": ""
           },
           "bgcolor": "#E5ECF6",
           "caxis": {
            "gridcolor": "white",
            "linecolor": "white",
            "ticks": ""
           }
          },
          "title": {
           "x": 0.05
          },
          "xaxis": {
           "automargin": true,
           "gridcolor": "white",
           "linecolor": "white",
           "ticks": "",
           "title": {
            "standoff": 15
           },
           "zerolinecolor": "white",
           "zerolinewidth": 2
          },
          "yaxis": {
           "automargin": true,
           "gridcolor": "white",
           "linecolor": "white",
           "ticks": "",
           "title": {
            "standoff": 15
           },
           "zerolinecolor": "white",
           "zerolinewidth": 2
          }
         }
        },
        "title": {
         "x": 0.5
        }
       }
      }
     },
     "metadata": {},
     "output_type": "display_data"
    }
   ],
   "source": [
    "import plotly.express as px\n",
    "import plotly.graph_objects as go\n",
    "from plotly.subplots import make_subplots\n",
    "# fig.write_image(\"Final_Eval/versatility_polar.pdf\")\n",
    "\n",
    "# fig = px.line_polar(df_vers_plot[df_vers_plot[\"Algorithm\"] == \"EMD\"], r='Versatility', theta='Change Pattern', line_close=True)\n",
    "\n",
    "# df_vers_plot_copy = df_vers_plot.copy()\n",
    "# df_vers_plot[\"Versatility\"].fillna(0, inplace=True) # nan values will be displayed as 0\n",
    "\n",
    "plotly_default_colors = ['#636EFA', '#EF553B', '#00CC96', '#AB63FA', '#FFA15A', '#19D3F3', '#FF6692', '#B6E880', '#FF97FF', '#FECB52']\n",
    "fill_colors = {\n",
    "    name: plotly_default_colors[idx]\n",
    "    for idx,name in enumerate(df_vers_plot[\"Algorithm\"].unique())\n",
    "}\n",
    "\n",
    "# ALL RADAR CHARTS IN ONE PLOT, I DONT LIKE THE LAYOUT THOUGH :/\n",
    "# fig = make_subplots(rows=2, cols=4, specs=[[{'type': 'polar'}]*4]*2, subplot_titles=df_vers_plot[\"Algorithm\"].unique())#, start_cell=\"bottom-left\")\n",
    "# for idx, (alg, dataframe) in enumerate(df_vers_plot.groupby(by=\"Algorithm\")):\n",
    "#     sub_df = df_vers_plot[df_vers_plot[\"Algorithm\"] == alg]\n",
    "#     fig.add_trace(go.Scatterpolar(\n",
    "#         name = alg,\n",
    "#         r=sub_df['Versatility'].values,\n",
    "#         theta=sub_df['Change Pattern'].values,\n",
    "#         fillcolor=fill_colors[alg],\n",
    "#         line={'color': fill_colors[alg]}\n",
    "#     ), row=idx//4+1, col=idx%4+1 )\n",
    "# fig.update_traces(fill='toself')\n",
    "\n",
    "# ALL APPROACHES IN THE SAME RADAR CHART - NOT SO READABLE\n",
    "# fig = go.Figure()\n",
    "# for alg, dataframe in df_vers_plot.groupby(by=\"Algorithm\"):\n",
    "#     fig.add_trace(go.Scatterpolar(\n",
    "#       r = dataframe[\"Versatility\"],\n",
    "#       theta = dataframe[\"Change Pattern\"],\n",
    "#       fill = 'toself',\n",
    "#       name = alg\n",
    "# ))\n",
    "\n",
    "# 1 RADAR CHART PER APPROACH - SEPERATE PLOTS - This is my favorite; We can make a nice layout in latex\n",
    "for alg, dataframe in df_vers_plot.groupby(by=\"Algorithm\"):\n",
    "    fig = px.line_polar(\n",
    "        df_vers_plot[df_vers_plot[\"Algorithm\"] == alg],\n",
    "        r='Versatility',\n",
    "        theta='Change Pattern',\n",
    "        line_close=True,\n",
    "        color='Algorithm',\n",
    "        color_discrete_map=fill_colors,\n",
    "        title=None# alg, # Set this to alg if we want the title, I was planning on setting the title in latex\n",
    "    )\n",
    "    fig.update_layout(showlegend=False, title_x=0.5) # Disable legend (as we have only one algorithm per plot) and center title (if present)\n",
    "    fig.update_traces(fill='toself')\n",
    "\n",
    "    if not os.path.exists(\"Final_Eval/Versatility/Radar_Charts\"):\n",
    "        os.makedirs(\"Final_Eval/Versatility/Radar_Charts\")\n",
    "    fig.write_image(f\"Final_Eval/Versatility/Radar_Charts/radar_chart_{alg.replace(' ','_')}.pdf\", format=\"pdf\")\n",
    "\n",
    "\n",
    "\n",
    "# fig.update_layout(\n",
    "#   polar=dict(\n",
    "#     radialaxis=dict(\n",
    "#       visible=True,\n",
    "#       range=[0, 5]\n",
    "#     )),\n",
    "#   showlegend=False\n",
    "# )\n",
    "\n",
    "fig.show()"
   ]
  },
  {
   "cell_type": "markdown",
   "metadata": {},
   "source": [
    "## Scalability\n",
    "- Mean Duration\n",
    "- Across ***all*** logs this time!"
   ]
  },
  {
   "cell_type": "code",
   "execution_count": 115,
   "metadata": {},
   "outputs": [
    {
     "name": "stdout",
     "output_type": "stream",
     "text": [
      "ADWIN J: 00:03:41\n",
      "ADWIN WC: 00:02:13\n",
      "EMD: 00:13:05\n",
      "J-Measure: 00:09:14\n",
      "PGM: 00:00:24\n",
      "ProDrift: 00:03:31\n",
      "RINV: 00:00:02\n",
      "Window Count: 00:09:13\n"
     ]
    }
   ],
   "source": [
    "scalabilities = dict()\n",
    "for name, a_df in df.groupby(\"Algorithm\"):\n",
    "    result = a_df[\"Duration\"].mean()\n",
    "    result_str = datetime.strftime(datetime.utcfromtimestamp(result.seconds), '%H:%M:%S')\n",
    "    scalabilities[name] = {\"datetime\": result, \"str\": result_str}\n",
    "    print(f\"{name}: {result_str}\")"
   ]
  },
  {
   "cell_type": "markdown",
   "metadata": {},
   "source": [
    "#### Plot Boxplot"
   ]
  },
  {
   "cell_type": "code",
   "execution_count": 177,
   "metadata": {},
   "outputs": [
    {
     "data": {
      "image/png": "[encoded data removed]",
      "text/plain": [
       "<Figure size 720x360 with 1 Axes>"
      ]
     },
     "metadata": {
      "needs_background": "light"
     },
     "output_type": "display_data"
    }
   ],
   "source": [
    "scalability_plot_df = pd.DataFrame([\n",
    "    {\n",
    "        \"Algorithm\": name,\n",
    "        \"Duration\": duration.total_seconds() / 60\n",
    "    }\n",
    "    for name, a_df in dfs\n",
    "    for duration in a_df[\"Duration\"].tolist()\n",
    "])\n",
    "\n",
    "fig, ax = plt.subplots(figsize=(10, 5))\n",
    "ax.set_xlabel(\"Duration [Minutes]\")\n",
    "\n",
    "sorted_names = list(scalabilities.items())\n",
    "sorted_names.sort(key=lambda x: x[1][\"datetime\"])\n",
    "\n",
    "sns.boxplot(\n",
    "    data=scalability_plot_df,\n",
    "    order=ALPHA_SORT_NAMES,#[name for name, _ in sorted_names] if False else None, # Disable sorting for now, maybe this means that the order is the same in every plot\n",
    "    x=\"Duration\",\n",
    "    y=\"Algorithm\",\n",
    "    width=1,\n",
    "    ax=ax,\n",
    "    fliersize=0\n",
    ")\n",
    "plt.xlabel(\"Duration [Minutes]\")\n",
    "\n",
    "if not os.path.exists(\"Final_Eval/Scalability\"):\n",
    "    os.makedirs(\"Final_Eval/Scalability\")\n",
    "plt.savefig(\"Final_Eval/Scalability/scalability.pdf\", bbox_inches=\"tight\", format=\"pdf\")"
   ]
  },
  {
   "cell_type": "markdown",
   "metadata": {},
   "source": [
    "#### Plot as Barplot as well"
   ]
  },
  {
   "cell_type": "code",
   "execution_count": 178,
   "metadata": {},
   "outputs": [
    {
     "data": {
      "image/png": "[encoded data removed]",
      "text/plain": [
       "<Figure size 1224x288 with 1 Axes>"
      ]
     },
     "metadata": {
      "needs_background": "light"
     },
     "output_type": "display_data"
    }
   ],
   "source": [
    "scalability_barplot_df = pd.DataFrame([\n",
    "    {\n",
    "        \"Algorithm\": name,\n",
    "        \"Duration\": duration.total_seconds() / 60\n",
    "    }\n",
    "    for name, a_df in dfs\n",
    "    for duration in a_df[\"Duration\"].tolist()\n",
    "])\n",
    "\n",
    "ax = plt.subplots(figsize=(17, 4))\n",
    "\n",
    "# Order by latency, ascending (best is left)\n",
    "# order = [name for name, _ in sorted(latencies.items(), key=lambda x: x[1] if not np.isnan(x[1]) else 0, reverse=True)]\n",
    "# print(order)\n",
    "sns.barplot(x=\"Algorithm\", y=\"Duration\", data=scalability_barplot_df, order=ALPHA_SORT_NAMES)\n",
    "plt.ylabel(\"Duration [Minutes]\")\n",
    "plt.savefig(\"Final_Eval/Scalability/scalability_barplot.pdf\", bbox_inches=\"tight\", format=\"pdf\")"
   ]
  },
  {
   "cell_type": "markdown",
   "metadata": {},
   "source": [
    "## Parameter Sensitivity\n",
    "- For each Parameter setting, harmonic mean of *accuracy*, *latency*, and *versatility*\n",
    "  - &rarr; Visualize the variance, etc., with a boxplot\n",
    "- Only noiseless logs again"
   ]
  },
  {
   "cell_type": "code",
   "execution_count": 27,
   "metadata": {},
   "outputs": [],
   "source": [
    "versatility_score_per_param = {\n",
    "    name: {\n",
    "        params: np.nanmean(list(versatility_recall_dicts[name][params].values()))\n",
    "        for params in versatility_recall_dicts[name].keys()\n",
    "    }\n",
    "    for name in versatility_recall_dicts.keys()\n",
    "}\n",
    "\n",
    "\n",
    "sensitivities = dict()\n",
    "for name in df[\"Algorithm\"].unique():\n",
    "    _sensitivities = dict()\n",
    "    acc = computed_accuracy_dicts[name]\n",
    "    lat = scaled_latency_dicts[name]\n",
    "    vers = versatility_score_per_param[name]\n",
    "    for param_choice in acc.keys():\n",
    "        sensitivity = harmonic_mean([acc[param_choice], vers[param_choice], lat[param_choice]])\n",
    "        _sensitivities[param_choice] = sensitivity\n",
    "    sensitivities[name] = _sensitivities\n"
   ]
  },
  {
   "cell_type": "code",
   "execution_count": 179,
   "metadata": {},
   "outputs": [
    {
     "data": {
      "image/png": "[encoded data removed]",
      "text/plain": [
       "<Figure size 720x360 with 1 Axes>"
      ]
     },
     "metadata": {
      "needs_background": "light"
     },
     "output_type": "display_data"
    }
   ],
   "source": [
    "sens_df = pd.DataFrame([\n",
    "    {\n",
    "        \"Parameters\": param,\n",
    "        \"Algorithm\": name,\n",
    "        \"Sensitivity Score\": sens\n",
    "    }\n",
    "    for name, sens_dict in sensitivities.items()\n",
    "    for param, sens in sens_dict.items()\n",
    "])\n",
    "import seaborn as sns\n",
    "\n",
    "fig, ax = plt.subplots(figsize=(10, 5))\n",
    "sns.boxplot(\n",
    "    data=sens_df,\n",
    "    x=\"Sensitivity Score\",\n",
    "    y=\"Algorithm\",\n",
    "    width=1,\n",
    "    ax=ax,\n",
    "    fliersize=0,\n",
    "    order=ALPHA_SORT_NAMES\n",
    ")\n",
    "\n",
    "if not os.path.exists(\"Final_Eval/Parameter_Sensitivity\"):\n",
    "    os.makedirs(\"Final_Eval/Parameter_Sensitivity\")\n",
    "plt.savefig(\"Final_Eval/Parameter_Sensitivity/param_sensitivity.pdf\", bbox_inches=\"tight\", format=\"pdf\")"
   ]
  },
  {
   "cell_type": "code",
   "execution_count": 29,
   "metadata": {},
   "outputs": [
    {
     "name": "stdout",
     "output_type": "stream",
     "text": [
      "Standard Deviations\n",
      "RINV: 0.054226659935544444\n",
      "ProDrift: 0.08439258367711411\n",
      "J-Measure: 0.07764126508160589\n",
      "Window Count: 0.1832978744988118\n",
      "EMD: 0.03387752903080029\n",
      "PGM: 0.04618787683409851\n",
      "ADWIN J: 0.028353001745894054\n",
      "ADWIN WC: 0.0\n"
     ]
    }
   ],
   "source": [
    "# Standard Deviation\n",
    "print(\"Standard Deviations\")\n",
    "\n",
    "def try_calc_stdev(data):\n",
    "    try:\n",
    "        return stdev(data)\n",
    "    except:\n",
    "        return np.NaN\n",
    "\n",
    "sensitivity_stds = dict()\n",
    "for name, sens in sensitivities.items():\n",
    "    std = try_calc_stdev(sens.values())\n",
    "    sensitivity_stds[name] = std\n",
    "    print(f\"{name}: {std}\")"
   ]
  },
  {
   "cell_type": "markdown",
   "metadata": {},
   "source": [
    "### Robustness"
   ]
  },
  {
   "cell_type": "markdown",
   "metadata": {},
   "source": [
    "### Preprocessing; Add relevant columns to Dataframe"
   ]
  },
  {
   "cell_type": "code",
   "execution_count": 53,
   "metadata": {},
   "outputs": [
    {
     "data": {
      "text/html": [
       "<div>\n",
       "<style scoped>\n",
       "    .dataframe tbody tr th:only-of-type {\n",
       "        vertical-align: middle;\n",
       "    }\n",
       "\n",
       "    .dataframe tbody tr th {\n",
       "        vertical-align: top;\n",
       "    }\n",
       "\n",
       "    .dataframe thead th {\n",
       "        text-align: right;\n",
       "    }\n",
       "</style>\n",
       "<table border=\"1\" class=\"dataframe\">\n",
       "  <thead>\n",
       "    <tr style=\"text-align: right;\">\n",
       "      <th></th>\n",
       "      <th>Algorithm</th>\n",
       "      <th>Log Source</th>\n",
       "      <th>Log</th>\n",
       "      <th>Change Pattern</th>\n",
       "      <th>Noise Level</th>\n",
       "    </tr>\n",
       "  </thead>\n",
       "  <tbody>\n",
       "    <tr>\n",
       "      <th>0</th>\n",
       "      <td>RINV</td>\n",
       "      <td>Ostovar</td>\n",
       "      <td>Atomic_Frequency_output_Frequency_5</td>\n",
       "      <td>fr</td>\n",
       "      <td>5</td>\n",
       "    </tr>\n",
       "    <tr>\n",
       "      <th>1</th>\n",
       "      <td>RINV</td>\n",
       "      <td>Ostovar</td>\n",
       "      <td>Atomic_Frequency_output_Frequency_5</td>\n",
       "      <td>fr</td>\n",
       "      <td>5</td>\n",
       "    </tr>\n",
       "    <tr>\n",
       "      <th>2</th>\n",
       "      <td>RINV</td>\n",
       "      <td>Ostovar</td>\n",
       "      <td>Atomic_Frequency_output_Frequency_5</td>\n",
       "      <td>fr</td>\n",
       "      <td>5</td>\n",
       "    </tr>\n",
       "    <tr>\n",
       "      <th>3</th>\n",
       "      <td>RINV</td>\n",
       "      <td>Ostovar</td>\n",
       "      <td>Atomic_Frequency_output_Frequency_5</td>\n",
       "      <td>fr</td>\n",
       "      <td>5</td>\n",
       "    </tr>\n",
       "    <tr>\n",
       "      <th>4</th>\n",
       "      <td>RINV</td>\n",
       "      <td>Ostovar</td>\n",
       "      <td>Atomic_Frequency_output_Frequency_5</td>\n",
       "      <td>fr</td>\n",
       "      <td>5</td>\n",
       "    </tr>\n",
       "    <tr>\n",
       "      <th>...</th>\n",
       "      <td>...</td>\n",
       "      <td>...</td>\n",
       "      <td>...</td>\n",
       "      <td>...</td>\n",
       "      <td>...</td>\n",
       "    </tr>\n",
       "    <tr>\n",
       "      <th>32307</th>\n",
       "      <td>ADWIN J</td>\n",
       "      <td>Ostovar</td>\n",
       "      <td>Atomic_ConditionalMove_output_ConditionalMove</td>\n",
       "      <td>cm</td>\n",
       "      <td>0</td>\n",
       "    </tr>\n",
       "    <tr>\n",
       "      <th>32308</th>\n",
       "      <td>ADWIN WC</td>\n",
       "      <td>Ostovar</td>\n",
       "      <td>Atomic_ConditionalMove_output_ConditionalMove</td>\n",
       "      <td>cm</td>\n",
       "      <td>0</td>\n",
       "    </tr>\n",
       "    <tr>\n",
       "      <th>32309</th>\n",
       "      <td>PGM</td>\n",
       "      <td>Ostovar</td>\n",
       "      <td>Atomic_ConditionalToSequence_output_Conditiona...</td>\n",
       "      <td>cf</td>\n",
       "      <td>2</td>\n",
       "    </tr>\n",
       "    <tr>\n",
       "      <th>32312</th>\n",
       "      <td>PGM</td>\n",
       "      <td>Ceravolo</td>\n",
       "      <td>sudden_trace_noise15_1000_cf</td>\n",
       "      <td>cf</td>\n",
       "      <td>15</td>\n",
       "    </tr>\n",
       "    <tr>\n",
       "      <th>32313</th>\n",
       "      <td>PGM</td>\n",
       "      <td>Ceravolo</td>\n",
       "      <td>sudden_trace_noise5_1000_cd</td>\n",
       "      <td>cd</td>\n",
       "      <td>5</td>\n",
       "    </tr>\n",
       "  </tbody>\n",
       "</table>\n",
       "<p>19046 rows × 5 columns</p>\n",
       "</div>"
      ],
      "text/plain": [
       "      Algorithm Log Source                                                Log  \\\n",
       "0          RINV    Ostovar                Atomic_Frequency_output_Frequency_5   \n",
       "1          RINV    Ostovar                Atomic_Frequency_output_Frequency_5   \n",
       "2          RINV    Ostovar                Atomic_Frequency_output_Frequency_5   \n",
       "3          RINV    Ostovar                Atomic_Frequency_output_Frequency_5   \n",
       "4          RINV    Ostovar                Atomic_Frequency_output_Frequency_5   \n",
       "...         ...        ...                                                ...   \n",
       "32307   ADWIN J    Ostovar      Atomic_ConditionalMove_output_ConditionalMove   \n",
       "32308  ADWIN WC    Ostovar      Atomic_ConditionalMove_output_ConditionalMove   \n",
       "32309       PGM    Ostovar  Atomic_ConditionalToSequence_output_Conditiona...   \n",
       "32312       PGM   Ceravolo                       sudden_trace_noise15_1000_cf   \n",
       "32313       PGM   Ceravolo                        sudden_trace_noise5_1000_cd   \n",
       "\n",
       "      Change Pattern Noise Level  \n",
       "0                 fr           5  \n",
       "1                 fr           5  \n",
       "2                 fr           5  \n",
       "3                 fr           5  \n",
       "4                 fr           5  \n",
       "...              ...         ...  \n",
       "32307             cm           0  \n",
       "32308             cm           0  \n",
       "32309             cf           2  \n",
       "32312             cf          15  \n",
       "32313             cd           5  \n",
       "\n",
       "[19046 rows x 5 columns]"
      ]
     },
     "execution_count": 53,
     "metadata": {},
     "output_type": "execute_result"
    }
   ],
   "source": [
    "# # Preprocessing; Add \"Noise Level\" Column\n",
    "# def map_row_to_noise(row):\n",
    "#     logname = row[\"Log\"]\n",
    "#     if row[\"Log Source\"] == \"Ceravolo\":\n",
    "#         return re.search('noise([0-9]*)_', logname).group(1)\n",
    "#     elif row[\"Log Source\"] == \"Ostovar\":\n",
    "#         # return mapping_ostovar_to_shortnames[logname.split(\"_\")[-1]]\n",
    "#         last_member = logname.split('_')[-1]\n",
    "#         if last_member.isnumeric():\n",
    "#             return last_member\n",
    "#         else:\n",
    "#             return '0'\n",
    "#     elif row[\"Log Source\"] == \"Bose\":\n",
    "#         return None\n",
    "#     else:\n",
    "#         raise ValueError(f\"Unknown Log Source for Noise Level: {row['Log Source']}; Is this Log meant to be used for a Robustness Evaluation?\")\n",
    "\n",
    "# # Only use the Ceravolo and Ostovar Logs as Bose has only 1 log, i.e., no noise levels\n",
    "df_robust = df[df[\"Log Source\"].isin([\"Ceravolo\", \"Ostovar\"])].copy(deep=True)\n",
    "# # Add a column stating the change pattern that is applied and one for the noise level\n",
    "# df_lat[\"Change Pattern\"] = df_lat.apply(lambda x: map_row_to_cp(x), axis=1)\n",
    "# df_lat[\"Noise Level\"] = df_lat.apply(lambda x: map_row_to_noise(x), axis=1)\n",
    "df_robust[['Algorithm', 'Log Source', 'Log', 'Change Pattern', 'Noise Level']]"
   ]
  },
  {
   "cell_type": "code",
   "execution_count": 62,
   "metadata": {},
   "outputs": [],
   "source": [
    "def calc_robustnesses(dataframe, lag_window):\n",
    "    robustnesses = dict()\n",
    "\n",
    "    for noise_level, noise_df in dataframe.groupby(\"Noise Level\"):\n",
    "        # Calculate accuracy over these logs\n",
    "        accuracies, _, _, _, _ = calculate_accuracy_metric_df(noise_df, LAG_WINDOW, verbose=False)\n",
    "        latencies, _, _, _ = calculate_latency(noise_df, LAG_WINDOW, verbose=False)\n",
    "        versatilities, _, _ = calc_versatility(noise_df, LAG_WINDOW, verbose=False)\n",
    "\n",
    "        assert accuracies.keys() == latencies.keys() == versatilities.keys()\n",
    "\n",
    "        robustnesses[noise_level] = {\n",
    "            approach: harmonic_mean([accuracies[approach], latencies[approach], versatilities[approach]])\n",
    "            for approach in accuracies.keys()\n",
    "        }\n",
    "    return robustnesses\n",
    "\n",
    "means_ceravolo = calc_robustnesses(df_robust[df_robust[\"Log Source\"] == \"Ceravolo\"], LAG_WINDOW)\n",
    "means_ostovar = calc_robustnesses(df_robust[df_robust[\"Log Source\"] == \"Ostovar\"], LAG_WINDOW)\n"
   ]
  },
  {
   "cell_type": "code",
   "execution_count": 83,
   "metadata": {},
   "outputs": [
    {
     "data": {
      "text/plain": [
       "(0.0, 1.0)"
      ]
     },
     "execution_count": 83,
     "metadata": {},
     "output_type": "execute_result"
    },
    {
     "data": {
      "image/png": "[encoded data removed]",
      "text/plain": [
       "<Figure size 432x288 with 1 Axes>"
      ]
     },
     "metadata": {
      "needs_background": "light"
     },
     "output_type": "display_data"
    }
   ],
   "source": [
    "plot_df_robust = pd.DataFrame(\n",
    "    ([\n",
    "        {\n",
    "            \"Log Set\": \"Ostovar\",\n",
    "            \"Approach\": name,\n",
    "            \"Noise Level\": int(noise_level),\n",
    "            \"Robustness\": robustness\n",
    "        }\n",
    "        for noise_level, robust_dict  in means_ostovar.items()\n",
    "        for name, robustness in robust_dict.items()\n",
    "    ] + [\n",
    "        {\n",
    "            \"Log Set\": \"Ceravolo\",\n",
    "            \"Approach\": name,\n",
    "            \"Noise Level\": int(noise_level),\n",
    "            \"Robustness\": robustness\n",
    "        }\n",
    "        for noise_level, robust_dict  in means_ceravolo.items()\n",
    "        for name, robustness in robust_dict.items()\n",
    "    ])\n",
    ")\n",
    "\n",
    "ax = sns.pointplot(x=\"Noise Level\", y=\"Robustness\", hue=\"Approach\", data=plot_df_robust[plot_df_robust[\"Log Set\"] == \"Ceravolo\"], ci=None)\n",
    "sns.move_legend(ax, \"upper left\", bbox_to_anchor=(1, 1))\n",
    "ax.set_ylim(0,1)"
   ]
  },
  {
   "cell_type": "code",
   "execution_count": 111,
   "metadata": {},
   "outputs": [],
   "source": [
    "# Calculate AUC Thing\n",
    "def convert_harm_mean_to_auc(means, div_zero_default=0):\n",
    "    ## Conventions:\n",
    "        # If any harmonic mean is nan, then set it to 0 instead\n",
    "\n",
    "\n",
    "    def _convert_nan_to_zero(x):\n",
    "        if np.isnan(x):\n",
    "            x = 0\n",
    "        return x\n",
    "\n",
    "    # means maps {noise_level: {approach: robustness}}\n",
    "    # reformat to {approach: [(noise_level, robustness)]}\n",
    "    means = {\n",
    "        approach: [\n",
    "            (int(noise_level), _convert_nan_to_zero(means[noise_level][approach]))\n",
    "            for noise_level in means.keys()\n",
    "        ]\n",
    "        for approach in means[\"0\"].keys()\n",
    "    }\n",
    "\n",
    "    robustnesses = dict()\n",
    "    for approach in means.keys():\n",
    "        points = sorted(means[approach], key=lambda x: x[0])\n",
    "\n",
    "        # Initial Robustness - Use to model \"Ideal Robustness\"\n",
    "        initial_robustness = points[0][1] # Robustness for lowest (0%) noise\n",
    "        ideal_auc = initial_robustness * (points[-1][0] - points[0][0]) # AUC if it was always exactly as good as for the lowest noise level. If performance increases with higher noise, the achieved AUC might be larger than ideal AUC\n",
    "        prev_noise, prev_robust = points[0]\n",
    "        auc = 0\n",
    "        for noise, robust in points[1:]:\n",
    "            delta_noise = noise-prev_noise\n",
    "            sum_robust = prev_robust+robust\n",
    "\n",
    "            # \"ROC Index\"\n",
    "            area = (delta_noise * sum_robust) / 2# Area under curve for this segment\n",
    "            auc += area\n",
    "\n",
    "            prev_noise = noise\n",
    "            prev_robust = robust\n",
    "\n",
    "        if ideal_auc != 0:\n",
    "            robustnesses[approach] = auc / ideal_auc\n",
    "        else:\n",
    "            robustnesses[approach] = div_zero_default\n",
    "    return robustnesses\n",
    "\n",
    "robustness_ceravolo = convert_harm_mean_to_auc(means_ceravolo)\n",
    "robustness_ostovar = convert_harm_mean_to_auc(means_ostovar)"
   ]
  },
  {
   "cell_type": "code",
   "execution_count": 112,
   "metadata": {},
   "outputs": [
    {
     "data": {
      "text/plain": [
       "{'ADWIN J': 0.9013664055649779,\n",
       " 'ADWIN WC': 0,\n",
       " 'EMD': 1.0058680723889364,\n",
       " 'J-Measure': 1.0488540552722276,\n",
       " 'PGM': 1.080507528837951,\n",
       " 'ProDrift': 0,\n",
       " 'RINV': 0.19999999999999998,\n",
       " 'Window Count': 1.0208152894965876}"
      ]
     },
     "execution_count": 112,
     "metadata": {},
     "output_type": "execute_result"
    }
   ],
   "source": [
    "robustness_ostovar"
   ]
  },
  {
   "cell_type": "markdown",
   "metadata": {},
   "source": [
    "#### Calculate Final Robustness Score by Calculating mean of Ceravolo and Ostovar"
   ]
  },
  {
   "cell_type": "code",
   "execution_count": 106,
   "metadata": {},
   "outputs": [],
   "source": [
    "assert robustness_ceravolo.keys() == robustness_ostovar.keys() # This should always be the case..\n",
    "robustnesses = {\n",
    "    name: (robustness_ceravolo[name] + robustness_ostovar[name]) / 2\n",
    "    for name in robustness_ceravolo.keys()\n",
    "}"
   ]
  },
  {
   "cell_type": "code",
   "execution_count": 183,
   "metadata": {},
   "outputs": [
    {
     "data": {
      "image/png": "[encoded data removed]",
      "text/plain": [
       "<Figure size 1440x720 with 8 Axes>"
      ]
     },
     "metadata": {
      "needs_background": "light"
     },
     "output_type": "display_data"
    },
    {
     "data": {
      "image/png": "[encoded data removed]",
      "text/plain": [
       "<Figure size 1440x720 with 8 Axes>"
      ]
     },
     "metadata": {
      "needs_background": "light"
     },
     "output_type": "display_data"
    }
   ],
   "source": [
    "def plot_robustness(robustness_df, logset:str):\n",
    "    fig, axs = plt.subplots(2,4, figsize=(20,10))\n",
    "    fig.suptitle(f\"Robustness of Approaches for {logset} Logs\")\n",
    "    for idx, name in enumerate(plot_df_robust[\"Approach\"].unique()):\n",
    "        row_offset = idx // 4\n",
    "        col_offset = idx % 4\n",
    "        ax = axs[row_offset, col_offset]\n",
    "        relevant_df = plot_df_robust[(plot_df_robust[\"Approach\"] == name) & (plot_df_robust[\"Log Set\"] == logset)]\n",
    "        sns.pointplot(x=\"Noise Level\", y=\"Robustness\", data=relevant_df, ci=None, ax=ax, title=name)\n",
    "        \n",
    "        ax.set_ylim(0,1)\n",
    "        ax.set_title(name)\n",
    "        robustness_of_zero_noise = min(zip(relevant_df[\"Noise Level\"], relevant_df[\"Robustness\"]), key=lambda x: x[0])[1]\n",
    "        if np.isnan(robustness_of_zero_noise):\n",
    "            robustness_of_zero_noise = 0\n",
    "        # plt.axhline(y=robustness_of_zero_noise, color='r', linestyle='-', ax=ax)\n",
    "        ax.hlines(robustness_of_zero_noise, color='r', linestyle='dashed', xmin=0, xmax=len(relevant_df[\"Noise Level\"].unique())-1)\n",
    "    return fig, axs\n",
    "fig_ostovar, axs_ostovar = plot_robustness(plot_df_robust, \"Ostovar\")\n",
    "fig_ceravolo, axs_ceravolo = plot_robustness(plot_df_robust, \"Ceravolo\")\n",
    "\n",
    "if not os.path.exists(\"Final_Eval/Robustness\"):\n",
    "    os.makedirs(\"Final_Eval/Robustness\")\n",
    "    \n",
    "fig_ostovar.savefig(\"Final_Eval/Robustness/robustness_ostovar_logs.pdf\", bbox_inches=\"tight\", format=\"pdf\")\n",
    "fig_ceravolo.savefig(\"Final_Eval/Robustness/robustness_ceravolo_logs.pdf\", bbox_inches=\"tight\", format=\"pdf\")\n",
    "# fig_ostovar.show()\n",
    "# fig_ceravolo.show()\n"
   ]
  },
  {
   "cell_type": "markdown",
   "metadata": {},
   "source": [
    "## Save Results"
   ]
  },
  {
   "cell_type": "code",
   "execution_count": 113,
   "metadata": {},
   "outputs": [],
   "source": [
    "pd.DataFrame([\n",
    "    {\n",
    "        \"Algorithm\": name,\n",
    "        \"Accuracy\": accuracies[name],\n",
    "        \"Latency\": latencies[name],\n",
    "        \"Versatility:\": versatilities[name],\n",
    "        \"Scalability\": scalabilities[name][\"str\"],\n",
    "        \"Parameter Sensitivity (STD)\": sensitivity_stds[name],\n",
    "        \"Robustness\": robustnesses[name]\n",
    "    }\n",
    "    for name in df[\"Algorithm\"].unique()\n",
    "]).to_csv(\"Final_Eval/evaluation_measures.csv\", index=False)"
   ]
  }
 ],
 "metadata": {
  "kernelspec": {
   "display_name": "Python 3.10.5 64-bit",
   "language": "python",
   "name": "python3"
  },
  "language_info": {
   "codemirror_mode": {
    "name": "ipython",
    "version": 3
   },
   "file_extension": ".py",
   "mimetype": "text/x-python",
   "name": "python",
   "nbconvert_exporter": "python",
   "pygments_lexer": "ipython3",
   "version": "3.10.5"
  },
  "orig_nbformat": 4,
  "vscode": {
   "interpreter": {
    "hash": "c0efd6421cd58cc5766031ee19a1051d9d94a373055e86f710d77da54df41529"
   }
  }
 },
 "nbformat": 4,
 "nbformat_minor": 2
}
