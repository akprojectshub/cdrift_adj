{
 "cells": [
  {
   "cell_type": "code",
   "execution_count": 7,
   "metadata": {},
   "outputs": [],
   "source": [
    "import os\n",
    "if os.getcwd().endswith(\"Examples\"):\n",
    "    os.chdir('../')\n",
    "\n",
    "from cdrift.approaches import process_graph_metrics\n",
    "from cdrift import evaluation\n",
    "\n",
    "from pm4py.objects.log.importer.xes import importer as xes_importer\n",
    "import tkinter as tk\n",
    "from tkinter import filedialog\n",
    "from pathlib import Path\n",
    "\n",
    "# Timing\n",
    "from timeit import default_timer\n",
    "from datetime import datetime as dt"
   ]
  },
  {
   "cell_type": "markdown",
   "metadata": {},
   "source": [
    "## Choose an Event Log ##"
   ]
  },
  {
   "cell_type": "code",
   "execution_count": 8,
   "metadata": {},
   "outputs": [
    {
     "name": "stdout",
     "output_type": "stream",
     "text": [
      "Chosen Log: Atomic_Size2_ConditionalToSequence\n"
     ]
    },
    {
     "data": {
      "application/vnd.jupyter.widget-view+json": {
       "model_id": "64b8e33fa67c4627874c4a976c2ad6cb",
       "version_major": 2,
       "version_minor": 0
      },
      "text/plain": [
       "parsing log, completed traces ::   0%|          | 0/2999 [00:00<?, ?it/s]"
      ]
     },
     "metadata": {},
     "output_type": "display_data"
    }
   ],
   "source": [
    "root = tk.Tk()\n",
    "root.withdraw()\n",
    "root.lift()\n",
    "\n",
    "file_path = filedialog.askopenfilename(filetypes=[(\"XES Event Log\",\"*.xes\")])\n",
    "print(f\"Chosen Log: {Path(file_path).stem}\")\n",
    "log = xes_importer.apply(file_path)"
   ]
  },
  {
   "cell_type": "markdown",
   "metadata": {},
   "source": [
    "### Parameters / Constants ###"
   ]
  },
  {
   "cell_type": "code",
   "execution_count": 9,
   "metadata": {},
   "outputs": [],
   "source": [
    "WINDOW_SIZE = 200\n",
    "MAX_WINDOW_SIZE = 400\n",
    "MEASURE_WINDOW = None\n",
    "P_VALUE = 0.05\n",
    "TRUE_CHANGEPOINTS = [999,1999]"
   ]
  },
  {
   "cell_type": "markdown",
   "metadata": {},
   "source": [
    "#### Extract Time Series and Apply Sliding Window ####"
   ]
  },
  {
   "cell_type": "code",
   "execution_count": 10,
   "metadata": {},
   "outputs": [
    {
     "data": {
      "application/vnd.jupyter.widget-view+json": {
       "model_id": "45120b0a3c384bbe896981e35f10b36e",
       "version_major": 2,
       "version_minor": 0
      },
      "text/plain": [
       "comparing heuristic miner graphs  ::   0%|          | 0/2799 [00:00<?, ?it/s]"
      ]
     },
     "metadata": {},
     "output_type": "display_data"
    },
    {
     "name": "stdout",
     "output_type": "stream",
     "text": [
      "Change Points Detected: [1035, 2038].\n"
     ]
    }
   ],
   "source": [
    "start_time = default_timer()\n",
    "\n",
    "cp = process_graph_metrics.detectChange(log, WINDOW_SIZE,MAX_WINDOW_SIZE, pvalue=P_VALUE)\n",
    "\n",
    "calc_duration = default_timer() - start_time\n",
    "print(f\"Change Points Detected: {cp}.\")"
   ]
  },
  {
   "cell_type": "markdown",
   "metadata": {},
   "source": [
    "### Evaluation ###"
   ]
  },
  {
   "cell_type": "code",
   "execution_count": 11,
   "metadata": {},
   "outputs": [
    {
     "name": "stdout",
     "output_type": "stream",
     "text": [
      "The Process Graph Metric approach detected [1035, 2038] with an F1-Score of 1.0. This took 00:00:17.\n",
      "\n",
      "Average Lag: 37.5 (Cases)\n"
     ]
    }
   ],
   "source": [
    "f1 = evaluation.F1_Score(detected=cp, known=TRUE_CHANGEPOINTS, lag=200)\n",
    "\n",
    "print(f\"The Process Graph Metric approach detected {cp} with an F1-Score of {f1}. This took {dt.strftime(dt.utcfromtimestamp(calc_duration), '%H:%M:%S')}.\")\n",
    "print(f\"\\nAverage Lag: {evaluation.get_avg_lag(detected_changepoints=cp, actual_changepoints=TRUE_CHANGEPOINTS, lag_window=200)} (Cases)\")"
   ]
  }
 ],
 "metadata": {
  "kernelspec": {
   "display_name": "Python 3.7.9 64-bit (windows store)",
   "language": "python",
   "name": "python3"
  },
  "language_info": {
   "codemirror_mode": {
    "name": "ipython",
    "version": 3
   },
   "file_extension": ".py",
   "mimetype": "text/x-python",
   "name": "python",
   "nbconvert_exporter": "python",
   "pygments_lexer": "ipython3",
   "version": "3.7.9"
  },
  "orig_nbformat": 4,
  "vscode": {
   "interpreter": {
    "hash": "c9d22296a0310393a85fd61d634ec0339a900f8eb8e835bf8a5af7a7936f1c00"
   }
  }
 },
 "nbformat": 4,
 "nbformat_minor": 2
}
