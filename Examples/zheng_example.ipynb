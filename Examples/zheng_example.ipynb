{
 "cells": [
  {
   "cell_type": "code",
   "execution_count": 1,
   "metadata": {},
   "outputs": [],
   "source": [
    "from os import chdir\n",
    "chdir('../')\n",
    "\n",
    "from cdrift.approaches import zheng\n",
    "from cdrift import evaluation\n",
    "\n",
    "from pm4py.objects.log.importer.xes import importer as xes_importer\n",
    "import tkinter as tk\n",
    "from tkinter import filedialog\n",
    "from pathlib import Path"
   ]
  },
  {
   "cell_type": "markdown",
   "metadata": {},
   "source": [
    "## Choose an Event Log ##"
   ]
  },
  {
   "cell_type": "code",
   "execution_count": 2,
   "metadata": {},
   "outputs": [
    {
     "name": "stdout",
     "output_type": "stream",
     "text": [
      "Chosen Log: Atomic_Size2_ConditionalRemoval\n"
     ]
    },
    {
     "data": {
      "application/vnd.jupyter.widget-view+json": {
       "model_id": "bd26d86a894c4137b6e1c6625190addc",
       "version_major": 2,
       "version_minor": 0
      },
      "text/plain": [
       "parsing log, completed traces ::   0%|          | 0/2999 [00:00<?, ?it/s]"
      ]
     },
     "metadata": {},
     "output_type": "display_data"
    }
   ],
   "source": [
    "root = tk.Tk()\n",
    "root.withdraw()\n",
    "root.lift()\n",
    "\n",
    "file_path = filedialog.askopenfilename(filetypes=[(\"XES Event Log\",\"*.xes\")])\n",
    "print(f\"Chosen Log: {Path(file_path).stem}\")\n",
    "log = xes_importer.apply(file_path)"
   ]
  },
  {
   "cell_type": "markdown",
   "metadata": {},
   "source": [
    "### Parameters / Constants ###"
   ]
  },
  {
   "cell_type": "code",
   "execution_count": 3,
   "metadata": {},
   "outputs": [],
   "source": [
    "MRID = 500\n",
    "EPSILON = 100\n",
    "TRUE_CHANGEPOINTS = [999,1999]"
   ]
  },
  {
   "cell_type": "markdown",
   "metadata": {},
   "source": [
    "#### Extract Time Series and Apply Sliding Window ####"
   ]
  },
  {
   "cell_type": "code",
   "execution_count": 4,
   "metadata": {},
   "outputs": [
    {
     "data": {
      "application/vnd.jupyter.widget-view+json": {
       "model_id": "ac69b04461814017b9b1d1b509a24a60",
       "version_major": 2,
       "version_minor": 0
      },
      "text/plain": [
       "Extracting Relation Matrix for (Zheng) ::   0%|          | 0/2999 [00:00<?, ?it/s]"
      ]
     },
     "metadata": {},
     "output_type": "display_data"
    },
    {
     "name": "stdout",
     "output_type": "stream",
     "text": [
      "Change Points Detected: [936, 1946].\n"
     ]
    }
   ],
   "source": [
    "cp = zheng.apply(log,MRID, EPSILON)\n",
    "# Round Change Points #\n",
    "cp = [round(x) for x in cp]\n",
    "print(f\"Change Points Detected: {cp}.\")"
   ]
  },
  {
   "cell_type": "markdown",
   "metadata": {},
   "source": [
    "### Evaluation ###"
   ]
  },
  {
   "cell_type": "code",
   "execution_count": 5,
   "metadata": {},
   "outputs": [
    {
     "name": "stdout",
     "output_type": "stream",
     "text": [
      "Zheng detected [936, 1946] with an F1-Score of 1.0.\n"
     ]
    }
   ],
   "source": [
    "f1 = evaluation.F1_Score(lag=200, detected=cp, known=[999,1999])\n",
    "\n",
    "print(f\"Zheng detected {cp} with an F1-Score of {f1}.\")"
   ]
  }
 ],
 "metadata": {
  "kernelspec": {
   "display_name": "Python 3.7.9 64-bit (windows store)",
   "language": "python",
   "name": "python3"
  },
  "language_info": {
   "codemirror_mode": {
    "name": "ipython",
    "version": 3
   },
   "file_extension": ".py",
   "mimetype": "text/x-python",
   "name": "python",
   "nbconvert_exporter": "python",
   "pygments_lexer": "ipython3",
   "version": "3.7.9"
  },
  "orig_nbformat": 4,
  "vscode": {
   "interpreter": {
    "hash": "c9d22296a0310393a85fd61d634ec0339a900f8eb8e835bf8a5af7a7936f1c00"
   }
  }
 },
 "nbformat": 4,
 "nbformat_minor": 2
}
