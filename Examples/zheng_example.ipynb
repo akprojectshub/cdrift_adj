{
 "cells": [
  {
   "cell_type": "code",
   "execution_count": 3,
   "metadata": {},
   "outputs": [],
   "source": [
    "import os\n",
    "if os.getcwd().endswith(\"Examples\"):\n",
    "    os.chdir('../')\n",
    "\n",
    "from cdrift.approaches import zheng\n",
    "from cdrift import evaluation\n",
    "\n",
    "from pm4py.objects.log.importer.xes import importer as xes_importer\n",
    "import tkinter as tk\n",
    "from tkinter import filedialog\n",
    "from pathlib import Path\n",
    "\n",
    "# Timing\n",
    "from timeit import default_timer\n",
    "from datetime import datetime as dt"
   ]
  },
  {
   "cell_type": "markdown",
   "metadata": {},
   "source": [
    "## Choose an Event Log ##"
   ]
  },
  {
   "cell_type": "code",
   "execution_count": 4,
   "metadata": {},
   "outputs": [
    {
     "name": "stdout",
     "output_type": "stream",
     "text": [
      "Chosen Log: Atomic_Size2_ConditionalRemoval\n"
     ]
    },
    {
     "data": {
      "application/vnd.jupyter.widget-view+json": {
       "model_id": "fe609f1ea1c44d1793f6f42117db1ef0",
       "version_major": 2,
       "version_minor": 0
      },
      "text/plain": [
       "parsing log, completed traces ::   0%|          | 0/2999 [00:00<?, ?it/s]"
      ]
     },
     "metadata": {},
     "output_type": "display_data"
    }
   ],
   "source": [
    "root = tk.Tk()\n",
    "root.withdraw()\n",
    "root.lift()\n",
    "\n",
    "file_path = filedialog.askopenfilename(filetypes=[(\"XES Event Log\",\"*.xes\")])\n",
    "print(f\"Chosen Log: {Path(file_path).stem}\")\n",
    "log = xes_importer.apply(file_path)"
   ]
  },
  {
   "cell_type": "markdown",
   "metadata": {},
   "source": [
    "### Parameters / Constants ###"
   ]
  },
  {
   "cell_type": "code",
   "execution_count": 5,
   "metadata": {},
   "outputs": [],
   "source": [
    "MRID = 500\n",
    "EPSILON = 100\n",
    "TRUE_CHANGEPOINTS = [999,1999]"
   ]
  },
  {
   "cell_type": "markdown",
   "metadata": {},
   "source": [
    "#### Extract Time Series and Apply Sliding Window ####"
   ]
  },
  {
   "cell_type": "code",
   "execution_count": 6,
   "metadata": {},
   "outputs": [
    {
     "data": {
      "application/vnd.jupyter.widget-view+json": {
       "model_id": "6b391681068a458eb18d574a3a60de82",
       "version_major": 2,
       "version_minor": 0
      },
      "text/plain": [
       "Extracting Relation Matrix for (Zheng) ::   0%|          | 0/2999 [00:00<?, ?it/s]"
      ]
     },
     "metadata": {},
     "output_type": "display_data"
    },
    {
     "name": "stdout",
     "output_type": "stream",
     "text": [
      "Change Points Detected: [936, 1946].\n"
     ]
    }
   ],
   "source": [
    "start_time = default_timer()\n",
    "\n",
    "cp = zheng.apply(log,MRID, EPSILON)\n",
    "# Round Change Points #\n",
    "cp = [round(x) for x in cp]\n",
    "\n",
    "calc_duration = default_timer() - start_time\n",
    "print(f\"Change Points Detected: {cp}.\")"
   ]
  },
  {
   "cell_type": "markdown",
   "metadata": {},
   "source": [
    "### Evaluation ###"
   ]
  },
  {
   "cell_type": "code",
   "execution_count": 7,
   "metadata": {},
   "outputs": [
    {
     "name": "stdout",
     "output_type": "stream",
     "text": [
      "Zheng detected [936, 1946] with an F1-Score of 1.0. This took 00:00:02.\n",
      "Average Lag: 58.0\n"
     ]
    }
   ],
   "source": [
    "f1 = evaluation.F1_Score(detected=cp, known=[999,1999], lag=200)\n",
    "\n",
    "print(f\"Zheng detected {cp} with an F1-Score of {f1}. This took {dt.strftime(dt.utcfromtimestamp(calc_duration), '%H:%M:%S')}.\")\n",
    "print(f\"Average Lag: {evaluation.get_avg_lag(detected_changepoints=cp, actual_changepoints=TRUE_CHANGEPOINTS, lag=200)}\")"
   ]
  }
 ],
 "metadata": {
  "kernelspec": {
   "display_name": "Python 3.7.9 64-bit (windows store)",
   "language": "python",
   "name": "python3"
  },
  "language_info": {
   "codemirror_mode": {
    "name": "ipython",
    "version": 3
   },
   "file_extension": ".py",
   "mimetype": "text/x-python",
   "name": "python",
   "nbconvert_exporter": "python",
   "pygments_lexer": "ipython3",
   "version": "3.7.9"
  },
  "orig_nbformat": 4,
  "vscode": {
   "interpreter": {
    "hash": "c9d22296a0310393a85fd61d634ec0339a900f8eb8e835bf8a5af7a7936f1c00"
   }
  }
 },
 "nbformat": 4,
 "nbformat_minor": 2
}
