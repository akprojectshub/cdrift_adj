{
 "cells": [
  {
   "cell_type": "code",
   "execution_count": 1,
   "metadata": {},
   "outputs": [],
   "source": [
    "from os import chdir\n",
    "chdir('../')\n",
    "\n",
    "from cdrift.approaches import earthmover\n",
    "from cdrift import evaluation\n",
    "\n",
    "from pm4py.objects.log.importer.xes import importer as xes_importer\n",
    "import tkinter as tk\n",
    "from tkinter import filedialog\n",
    "import matplotlib.pyplot as plt\n",
    "from pathlib import Path"
   ]
  },
  {
   "cell_type": "markdown",
   "metadata": {},
   "source": [
    "## Choose an Event Log ##"
   ]
  },
  {
   "cell_type": "code",
   "execution_count": 2,
   "metadata": {},
   "outputs": [
    {
     "name": "stdout",
     "output_type": "stream",
     "text": [
      "Chosen Log: Atomic_Size2_SerialMove\n"
     ]
    },
    {
     "data": {
      "application/vnd.jupyter.widget-view+json": {
       "model_id": "c31f8393e61d423a96c6d691f36dbf4a",
       "version_major": 2,
       "version_minor": 0
      },
      "text/plain": [
       "parsing log, completed traces ::   0%|          | 0/2999 [00:00<?, ?it/s]"
      ]
     },
     "metadata": {},
     "output_type": "display_data"
    }
   ],
   "source": [
    "root = tk.Tk()\n",
    "root.withdraw()\n",
    "root.lift()\n",
    "\n",
    "file_path = filedialog.askopenfilename(filetypes=[(\"XES Event Log\",\"*.xes\")])\n",
    "print(f\"Chosen Log: {Path(file_path).stem}\")\n",
    "log = xes_importer.apply(file_path)"
   ]
  },
  {
   "cell_type": "markdown",
   "metadata": {},
   "source": [
    "### Parameters / Constants ###"
   ]
  },
  {
   "cell_type": "code",
   "execution_count": 3,
   "metadata": {},
   "outputs": [],
   "source": [
    "WINDOW_SIZE = 100\n",
    "MEASURE_WINDOW = None\n",
    "P_VALUE = 0.05\n",
    "TRUE_CHANGEPOINTS = [999,1999]"
   ]
  },
  {
   "cell_type": "markdown",
   "metadata": {},
   "source": [
    "#### Extract Time Series ####"
   ]
  },
  {
   "cell_type": "code",
   "execution_count": 4,
   "metadata": {},
   "outputs": [],
   "source": [
    "traces = earthmover.extractTraces(log)"
   ]
  },
  {
   "cell_type": "markdown",
   "metadata": {},
   "source": [
    "#### Detect Changes ####"
   ]
  },
  {
   "cell_type": "code",
   "execution_count": 5,
   "metadata": {},
   "outputs": [
    {
     "data": {
      "application/vnd.jupyter.widget-view+json": {
       "model_id": "74546488015b4d62ac03cb58720de7a5",
       "version_major": 2,
       "version_minor": 0
      },
      "text/plain": [
       "calculating earthmover values, completed windows ::   0%|          | 0/2799 [00:00<?, ?it/s]"
      ]
     },
     "metadata": {},
     "output_type": "display_data"
    }
   ],
   "source": [
    "em_dists = earthmover.calculateDistSeries(traces, WINDOW_SIZE)"
   ]
  },
  {
   "cell_type": "markdown",
   "metadata": {},
   "source": [
    "#### Visual Inspection ####"
   ]
  },
  {
   "cell_type": "code",
   "execution_count": 9,
   "metadata": {},
   "outputs": [
    {
     "name": "stdout",
     "output_type": "stream",
     "text": [
      "The EMD approach detected [938, 1938, 2525]\n"
     ]
    }
   ],
   "source": [
    "cp = earthmover.visualInspection(em_dists,trim=WINDOW_SIZE)\n",
    "print(f\"The EMD approach detected {cp}\")"
   ]
  },
  {
   "cell_type": "markdown",
   "metadata": {},
   "source": [
    "### Plotting ###"
   ]
  },
  {
   "cell_type": "code",
   "execution_count": 10,
   "metadata": {},
   "outputs": [
    {
     "data": {
      "image/png": "[encoded data removed]",
      "text/plain": [
       "<Figure size 720x288 with 1 Axes>"
      ]
     },
     "metadata": {
      "needs_background": "light"
     },
     "output_type": "display_data"
    }
   ],
   "source": [
    "def plotPvals(sig, cp, known_cp):\n",
    "    fig = plt.figure(figsize=(10,4))\n",
    "    plt.plot(sig)\n",
    "    for c in cp:\n",
    "        plt.axvline(x=c, color=\"red\", alpha=0.5)\n",
    "    for c in known_cp:\n",
    "        plt.axvline(x=c, color=\"grey\", alpha=0.3)\n",
    "    plt.show()\n",
    "\n",
    "plotPvals(em_dists,cp,TRUE_CHANGEPOINTS)"
   ]
  },
  {
   "cell_type": "markdown",
   "metadata": {},
   "source": [
    "Note how sometimes (e.g., for the noiseless `Atomic_Size2_SerialMove` log ) a small bump (to the right) is also detected as a change point. If inspecting the signal manually, which is done in the paper, we would not make this mistake, but our peak-finding algorithm makes this mistake due the parameters used for peak-finding."
   ]
  },
  {
   "cell_type": "markdown",
   "metadata": {},
   "source": [
    "### Evaluation ###"
   ]
  },
  {
   "cell_type": "code",
   "execution_count": 11,
   "metadata": {},
   "outputs": [
    {
     "name": "stdout",
     "output_type": "stream",
     "text": [
      "The EMD approach detected [938, 1938, 2525] with an F1-Score of 0.8.\n"
     ]
    }
   ],
   "source": [
    "f1 = evaluation.F1_Score(lag=200, detected=cp, known=[999,1999])\n",
    "\n",
    "print(f\"The EMD approach detected {cp} with an F1-Score of {f1}.\")"
   ]
  }
 ],
 "metadata": {
  "kernelspec": {
   "display_name": "Python 3.7.9 64-bit (windows store)",
   "language": "python",
   "name": "python3"
  },
  "language_info": {
   "codemirror_mode": {
    "name": "ipython",
    "version": 3
   },
   "file_extension": ".py",
   "mimetype": "text/x-python",
   "name": "python",
   "nbconvert_exporter": "python",
   "pygments_lexer": "ipython3",
   "version": "3.7.9"
  },
  "orig_nbformat": 4,
  "vscode": {
   "interpreter": {
    "hash": "c9d22296a0310393a85fd61d634ec0339a900f8eb8e835bf8a5af7a7936f1c00"
   }
  }
 },
 "nbformat": 4,
 "nbformat_minor": 2
}
